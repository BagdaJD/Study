{
 "cells": [
  {
   "cell_type": "markdown",
   "id": "ae6d0427",
   "metadata": {},
   "source": [
    "#### 10 октября 2024. while-3.Организация циклических процессов (часть III)"
   ]
  },
  {
   "cell_type": "markdown",
   "id": "c27daec7",
   "metadata": {},
   "source": [
    "### Перебор делителей\n",
    "\n",
    "**Перебор делителей** --- **алгоритм факторизации** или \n",
    "**тестирования простоты числа** путем полного перебора всех возможных делителей.\n",
    "\n",
    "----\n",
    "Пусть $n$ --- исходное число.\n",
    "\n",
    "**Алгоритм \"Перебор делителей\":**\n",
    "\n",
    "перебор целых чисел $k\\in [2; \\sqrt{n}]$ и вычисление `n % k`.  \n",
    "Если `n % k == 0`, то $k$ является делителем $n$. При этом:\n",
    "\n",
    "**При тестировании простоты числа $n$:**\n",
    "число $n$ объявляется составным и алгоритм заканчивает работу.\n",
    "\n",
    "**При факторизации $n$:**\n",
    "печатается делитель $k$, число $n$ сокращается на $k$ и процедура повторяется  \n",
    "(до достижения $\\sqrt{n}$).\n",
    "\n",
    "\n",
    "----\n",
    "**Для очень больших чисел алгоритм не используется из-за низкой скорости работы.**\n",
    "\n",
    "\n",
    "*Формально достаточно делить только на простые числа в нужном интервале, однако, для этого необходимо знать их множество.*\n",
    "\n",
    "*На практике (бумажной) составляется таблица простых чисел и производится проверка небольших чисел (например, до $2^{16}$).*\n",
    "\n",
    "**Возможные ускорения работы алгоритмы:**\n",
    "\n",
    "- при переборе можно не проверять чётные делители, кроме числа 2,   \n",
    "а также делители, кратные трём, кроме числа 3.\n",
    "\n"
   ]
  },
  {
   "cell_type": "markdown",
   "id": "4e0ca526",
   "metadata": {},
   "source": [
    "### Тест простоты числа\n",
    "\n",
    "**Простое число** --- натуральное число, имеющее только два делителя: \n",
    "единицу и само это число. Число 1 не является простым.\n",
    "\n",
    "**Тест простоты числа** --- алгоритм, который по заданному \n",
    "натуральному числу определяет, простое ли это число."
   ]
  },
  {
   "cell_type": "code",
   "execution_count": 2,
   "id": "b28f49b7",
   "metadata": {},
   "outputs": [
    {
     "name": "stdin",
     "output_type": "stream",
     "text": [
      "Input number (>1) >>>  13\n"
     ]
    },
    {
     "name": "stdout",
     "output_type": "stream",
     "text": [
      "Prime number:  True\n"
     ]
    }
   ],
   "source": [
    "n = int(input('Input number (>1) >>> '))\n",
    "\n",
    "flag = True\n",
    "d = 2\n",
    "while flag and d*d < n: \n",
    "    flag = n % d != 0\n",
    "    d = d + 1\n",
    "\n",
    "print('Prime number: ', flag)"
   ]
  },
  {
   "cell_type": "markdown",
   "id": "2f87ab02",
   "metadata": {},
   "source": [
    "**Внимание!** Предложенная программа будет неверно работать для некоторых чисел. Модифицировать программу так, чтобы она выдавала верный результат для всех натуральных чисел."
   ]
  },
  {
   "cell_type": "code",
   "execution_count": 11,
   "id": "878c3284",
   "metadata": {},
   "outputs": [
    {
     "name": "stdout",
     "output_type": "stream",
     "text": [
      "Input number (>1) >>> 17\n",
      "Prime number:  True\n"
     ]
    }
   ],
   "source": [
    "# ГЛУПОСТИ! ДОГОВОРИМСЯ ТАК НЕ ПИСАТЬ!\n",
    "n = int(input('Input number (>1) >>> '))\n",
    "\n",
    "flag = True\n",
    "d = 2\n",
    "while flag and d*d < n:\n",
    "    if n % d == 0:   # плохо. НА КР задание = 0\n",
    "        flag = False  # плохо. НА КР задание = 0\n",
    "    d = d + 1\n",
    "\n",
    "print('Prime number: ', flag)"
   ]
  },
  {
   "cell_type": "markdown",
   "id": "c26db212",
   "metadata": {},
   "source": [
    "----\n",
    "# СТАРТ следующей лекции (17 октября)\n",
    "\n",
    "### Пример: факторизация заданного числа\n",
    "\n",
    "**Факторизация** --- разложение натурального числа на простые множители."
   ]
  },
  {
   "cell_type": "code",
   "execution_count": 6,
   "id": "351ad2eb",
   "metadata": {},
   "outputs": [
    {
     "name": "stdout",
     "output_type": "stream",
     "text": [
      "n >>> 18\n",
      "18 = 2 3 3 "
     ]
    }
   ],
   "source": [
    "n = int(input('n >>> '))  # исходное число\n",
    "print(n, '= ', end = '')\n",
    "\n",
    "d = 2  # подбор делителей начинаем с двойки\n",
    "while n != 1:\n",
    "    if n % d == 0:\n",
    "        print(d, end = ' ')\n",
    "        n = n // d\n",
    "    else:\n",
    "        d = d + 1"
   ]
  },
  {
   "cell_type": "markdown",
   "id": "aa2feca3",
   "metadata": {},
   "source": [
    "### w3.2.1. Вычисление квадратного корня по формуле Герона\n",
    "\n",
    "Итерационная формула Герона для вычисления $\\sqrt{a}$ имеет вид:\n",
    "$$\n",
    " y_i=\\frac{1}{2}\\left(y_{i-1} + \\frac{a}{y_{i-1}}\\right),\\quad i=1,2,\\dots\n",
    "$$\n",
    "При $i=1$ эта формула имеет вид\n",
    "$$\n",
    " y_1=\\frac{1}{2}\\left(y_0 + \\frac{a}{y_0}\\right)\n",
    "$$\n",
    "То есть для вычисления $y_1$ требуется знать\n",
    "$y_0$ --- начальное приближение, в качестве которого можно выбрать любое число ($>0$).\n",
    "\n",
    "\n",
    "**Решение.**\n",
    "Условие окончания процесса итераций:\n",
    "$$\n",
    "  |y_{i}-y_{i-1}| \\leqslant \\varepsilon,\n",
    "$$\n",
    "($|y_{i}-y_{i-1}|$ --- невязка).\n",
    "\n",
    "Рекомендуемый вид $y_0$:\n",
    "$$\n",
    "  y_0=\\frac{1+a}{2}.\n",
    "$$\n",
    "\n",
    "**Важно!** От выбора $y_0$ зависит число шагов, за которое достигается точность $\\varepsilon$: чем ближе $y_0$ к результату, тем меньше шагов.\n",
    "\n",
    "\n",
    "Например, при вычислении $\\sqrt{2.1}$ точность $\\varepsilon=10^{-6}$ достигается\n",
    "\n",
    "- за 12 шагов при $y_0=100$;\n",
    "- за 6 шагов при $y_0=2$;\n",
    "- за 3 шага при $y_0=1.45$."
   ]
  },
  {
   "cell_type": "code",
   "execution_count": 3,
   "id": "3b60a65e",
   "metadata": {},
   "outputs": [
    {
     "name": "stdin",
     "output_type": "stream",
     "text": [
      "a >>>  7\n"
     ]
    },
    {
     "name": "stdout",
     "output_type": "stream",
     "text": [
      "sqrtH(a)      = 2.6457513110645907\n",
      "math.sqrt(a)  = 2.6457513110645907\n"
     ]
    }
   ],
   "source": [
    "import math\n",
    "\n",
    "a = float(input('a >>> '))\n",
    "\n",
    "yp = (1 + a) / 2           # начальное приближение\n",
    "y = (yp + a / yp) / 2      # первое приближение\n",
    "while abs(y - yp) > 1e-6:\n",
    "    yp = y                 # y_{i-1}\n",
    "    y = (yp + a / yp) / 2  # y_i\n",
    "\n",
    "print('sqrtH(a)      =', y)\n",
    "print('math.sqrt(a)  =', math.sqrt(a)) # для проверки\n"
   ]
  },
  {
   "cell_type": "markdown",
   "id": "9df2c796",
   "metadata": {},
   "source": [
    "Вычисления проводятся с точностью $10^{-6}$.\n",
    "\n",
    "Выводить все цифры после запятой **НЕ НАДО**.\n",
    "\n",
    "\n",
    "Выводить надо столько знаков после запятой, с какой точностью происходит вычисление (или на один знак больше, чтобы увидеть округляется последняя цифра или она точная).\n",
    "\n",
    "Например, формат строки для вывода ответа с точностью $10^{-6}$:\n",
    "```\n",
    "print('Geron(a) = %12.6e' %y)\n",
    "```\n",
    "\n",
    "**Вывод с 6 знаками**\n",
    "```\n",
    "Geron(a) =  1.449138e+00\n",
    "sqrt(a)  =  1.449138e+00\n",
    "```\n",
    "\n",
    "**Вывод с 7 знаками**\n",
    "```\n",
    "Geron(a) = 1.4491377e+00\n",
    "sqrt(a)  = 1.4491377e+00\n",
    "```\n",
    "\n",
    "Напомним, что лучше выводить ответ в формате с плавающей точкой, и так, чтобы мантисса $\\in [1;10)$.\n",
    "\n",
    "**Вывод с 7 знаками для $\\sqrt{1000}$**\n",
    "```\n",
    "Geron(a) = 3.1622777e+01\n",
    "sqrt(a)  = 3.1622777e+01\n",
    "```"
   ]
  },
  {
   "cell_type": "markdown",
   "id": "a0dfbe9a",
   "metadata": {},
   "source": [
    "----\n",
    "## w3.2.2. Вычисление бесконечных сумм\n",
    "\n",
    "**Пример w3.1.** \n",
    "Вычислить приближенное значение бесконечной суммы\n",
    "$$\n",
    "  1+\\frac{1}{2^2}+\\frac{1}{3^2}+\\frac{1}{4^2}+{\\dots} = \\sum_{i=1}^\\infty \\frac{1}{i^2}= \\sum_{i=1}^\\infty y_i.\n",
    "$$\n",
    "Вычисления продолжать до тех пор пока очередное слагаемое не\n",
    "окажется меньше числа $\\varepsilon=10^{-5}$ ($y_i < \\varepsilon$).\n",
    "\n",
    "Условие окончания процесса суммирования\n",
    "$$\n",
    "  y_i < \\varepsilon\n",
    "$$\n",
    "означает, что слагаемое $y_i$ будет давать вклад, несущественный по сравнению с искомой суммой, и его учитывать уже не надо.\n",
    "\n",
    "**!!!** Условие окончания процесса суммирования в общем случае имеет вид\n",
    "$$\n",
    "  |y_i| < \\varepsilon.\n",
    "$$\n",
    " \n",
    "(Ниже рисунок из практикума)"
   ]
  },
  {
   "cell_type": "code",
   "execution_count": 1,
   "id": "efbf13e3",
   "metadata": {},
   "outputs": [
    {
     "data": {
      "image/png": "[encoded data removed]",
      "text/plain": [
       "<IPython.core.display.Image object>"
      ]
     },
     "metadata": {
      "image/png": {
       "width": 480
      }
     },
     "output_type": "display_data"
    }
   ],
   "source": [
    "from IPython.display import Image # Библиотека для отображения картинок\n",
    "\n",
    "display(Image(filename='sum_eps.png', width = 480))"
   ]
  },
  {
   "cell_type": "markdown",
   "id": "95ebcb4e",
   "metadata": {},
   "source": [
    "Дана сумма:\n",
    "$$\n",
    "  \\sum_{i=1}^\\infty \\frac{1}{i^2}= \\sum_{i=1}^\\infty y_i.\n",
    "$$\n",
    "\n",
    "**Решение.**\n",
    "Общий член суммирования\n",
    "$$\n",
    " y_i=\\dfrac{1}{i^2},\\quad i=1,2,\\dots\n",
    "$$\n",
    "\n",
    "Формулу перепишем в виде\n",
    "$$\n",
    "  \\underbrace{y_1 = 1}_{\\text{инициализация}}\\quad\n",
    "  \\underbrace{y_i=\\dfrac{1}{i^2},\\quad i=2,3,\\dots}_{\\text{в теле цикла}}\n",
    "$$"
   ]
  },
  {
   "cell_type": "code",
   "execution_count": 6,
   "id": "33dac308",
   "metadata": {},
   "outputs": [
    {
     "name": "stdout",
     "output_type": "stream",
     "text": [
      "Ответ:  1.64177\n",
      "Количество: 316\n"
     ]
    }
   ],
   "source": [
    "sum_ = 0             # инициализация суммы\n",
    "i, y = 1, 1          # I шаг: при i = 1, y = 1\n",
    "while y >= 1e-5:\n",
    "    sum_ += y       # вычисление суммы\n",
    "    i += 1          # наращивание счётчика\n",
    "    y = 1 / i / i   # общая формула\n",
    "    \n",
    "print('Ответ: %8.5f' % sum_)\n",
    "print('Количество:', i-1)  # 316  Запомним!"
   ]
  },
  {
   "cell_type": "markdown",
   "id": "70b42582",
   "metadata": {},
   "source": [
    "До начала цикла **необходима инициализация**\n",
    "- переменной для хранения результата суммирования (строка 1);\n",
    "- значений $i$ и $y_i$ (строка 2 программы).\n",
    "\n",
    "**Обязательная последовательность вычислений в цикле**:\n",
    "$$\n",
    "  sum\\_ \\to i \\to y.\n",
    "$$"
   ]
  },
  {
   "cell_type": "markdown",
   "id": "34b43177",
   "metadata": {},
   "source": [
    "Сравним результат работы программы с \"точным\" результатом:"
   ]
  },
  {
   "cell_type": "code",
   "execution_count": 9,
   "id": "6bed9f04",
   "metadata": {},
   "outputs": [
    {
     "name": "stdout",
     "output_type": "stream",
     "text": [
      "  ∞     \n",
      " ____   \n",
      " ╲      \n",
      "  ╲   1 \n",
      "   ╲  ──\n",
      "   ╱   2\n",
      "  ╱   i \n",
      " ╱      \n",
      " ‾‾‾‾   \n",
      "i = 1   \n",
      "pi**2/6\n",
      "1.64493406684823\n"
     ]
    }
   ],
   "source": [
    "from sympy import Symbol, Sum, oo, pprint\n",
    "\n",
    "i = Symbol('i')\n",
    "\n",
    "pprint(Sum(1/i/i, (i, 1, oo)))\n",
    "\n",
    "s = Sum(1/i/i, (i, 1, oo)).doit()   \n",
    "# результат: выражение pi**2/6\n",
    "print(s)\n",
    "\n",
    "s = s.evalf()                       \n",
    "# результат: число 1.64493406684823  1.64177\n",
    "print(s)"
   ]
  },
  {
   "cell_type": "markdown",
   "id": "2e742753",
   "metadata": {},
   "source": [
    "Разность между приближенным и \"точным\" значением:\n",
    "\n",
    "$$\n",
    "|1{,}644934068-1{,}64177| = 0{,}3164068\\cdot 10^{-2} > 10^{-5}\n",
    "$$\n",
    "\n",
    "В общем случае условие $|y_i| <  \\varepsilon$\n",
    "не означает, что разность между \"точным\" значением и приближенным значением суммы равна $\\varepsilon$ (это верно только для знакопеременных рядов --- погрешность сходящегося знакопеременного ряда равна последнему отброшенному члену).\n",
    "\n",
    "На рисунке ниже приведено сравнение значений суммы для разных $i$ со \"точным\" значением. Случай: $\\varepsilon=0{,}01$."
   ]
  },
  {
   "cell_type": "code",
   "execution_count": 5,
   "id": "2e6710d8",
   "metadata": {},
   "outputs": [
    {
     "data": {
      "image/png": "[encoded data removed]",
      "text/plain": [
       "<IPython.core.display.Image object>"
      ]
     },
     "metadata": {
      "image/png": {
       "width": 350
      }
     },
     "output_type": "display_data"
    }
   ],
   "source": [
    "display(Image(filename='sum03.png', width = 350))"
   ]
  },
  {
   "cell_type": "markdown",
   "id": "c5081ac3",
   "metadata": {},
   "source": [
    "Выше в программе получили количество членов ряда, потребовавшееся для достижения заданной точности --- это 316. Если это число подставить в код с sympy (программа 7n.1.1S) вместо \"oo\" (\"бесконечность\" в sympy), то получим ответ, полностью совпадающий с ответом, полученным нашей программой. Ниже приведены обе программы вместе для лучшей визуализации этого факта.\n",
    "\n",
    "### Программа w3.2.3. Алгоритм суммирования и проверка методами библиотеки sympy"
   ]
  },
  {
   "cell_type": "code",
   "execution_count": 3,
   "id": "b960ede0",
   "metadata": {},
   "outputs": [
    {
     "name": "stdout",
     "output_type": "stream",
     "text": [
      "Цикл:   1.64177\n",
      "Количество: 316\n",
      "sympy:  1.64177\n",
      "Сравнение с точным решением\n",
      "Exact:  1.64493\n",
      "Сравнение: 0.003159555033499295\n"
     ]
    }
   ],
   "source": [
    "from sympy import Symbol, Sum\n",
    "from math import pi\n",
    "\n",
    "# алгоритм\n",
    "sum_ = 0             # инициализация суммы\n",
    "i, y = 1, 1          # I шаг: при i = 1, y = 1\n",
    "while abs(y) >= 1E-5:\n",
    "    sum_ += y        # вычисление суммы\n",
    "    i += 1           # наращивание счётчика\n",
    "    y = 1 / i / i    # общая формула\n",
    "    \n",
    "print('Цикл:  %8.5f' % sum_)\n",
    "cnt = i - 1         # запомнили количество членов суммирования \n",
    "print('Количество:', cnt)\n",
    "\n",
    "# ------------------------------------------------------\n",
    "# методы sympy для сравнения с нашим алгоритмом\n",
    "j = Symbol('j')\n",
    "\n",
    "s = Sum(1/j/j, (j, 1, cnt)).doit().evalf()\n",
    "print('sympy: %8.5f' % s)\n",
    "\n",
    "# ------------------------------------------------------\n",
    "# сравнение с точным решением\n",
    "print('Сравнение с точным решением')\n",
    "exactValue = pi**2/6\n",
    "\n",
    "print('Exact: %8.5f' % exactValue)\n",
    "print(f'Сравнение: {abs(exactValue-sum_)}') \n",
    "# разность > 1e-5"
   ]
  },
  {
   "cell_type": "markdown",
   "id": "f62808e6",
   "metadata": {},
   "source": [
    "---\n",
    "**Рекуррентное соотношение** позволяет выразить некоторый член последовательности приближений через предыдущий.\n",
    "$$\n",
    " x^n = x^{n-1}x,\\quad  n! = (n-1)!\\cdot n.\n",
    "$$\n",
    "\n",
    "-----\n",
    "**Пример w3.2.5.**\n",
    "Получить формулу для вычисления членов последовательности\n",
    "$$\n",
    "  y_0=1;\\quad\n",
    "  y_1=\\frac{x}{1!};\\quad\n",
    "  y_2=\\frac{x^2}{2!};\\quad\n",
    "  y_3=\\frac{x^3}{3!};\\quad {\\dots}\n",
    "$$\n",
    "\n",
    "\n",
    "Вид $y_i$:\n",
    "$$\n",
    "  y_i=\\frac{x^i}{i!},\\quad i=0,1,2,\\dots\\quad\n",
    "$$\n",
    "Программировать эту формулу нельзя!\n",
    "\n",
    "Нужны рек. соотношения (**см. прилагаемые к лекции рисунки с процессом получения нужных соотношений**).\n",
    "\n",
    "Рекуррентная формула имеет вид\n",
    "$$\n",
    " y_i = \\frac{x}{i} y_{i-1}.\n",
    "$$\n",
    "Для вычисления по этой формуле она должна быть дополнена интервалом изменения индексов и начальным условием\n",
    "$$\n",
    "  i = 1, 2,\\dots,\\quad y_0 = 1.\n",
    "$$\n",
    "\n",
    "---"
   ]
  },
  {
   "cell_type": "markdown",
   "id": "4e359283-5436-4269-80c6-f6c42d7a0367",
   "metadata": {},
   "source": [
    "**Пример 24o.2.5 (задание для программирования).** Найти сумму\n",
    "$$\n",
    "\\sum\\limits_{i=0}^\\infty \\frac{x^i}{i!}.\n",
    "$$\n",
    "\n",
    "В предыдущем примере были получены соотношения\n",
    "$$\n",
    "y_0 = 1,\\quad y_i = \\frac{x}{i} y_{i-1},\\quad i = 1, 2,\\dots\n",
    "$$\n",
    "Программа пишется **строго** по этим соотношениям!\n",
    "\n",
    "### Программа 24o.2.5. Алгоритм суммирования."
   ]
  },
  {
   "cell_type": "code",
   "execution_count": 7,
   "id": "73cde5d2",
   "metadata": {},
   "outputs": [
    {
     "name": "stdout",
     "output_type": "stream",
     "text": [
      "sum_ =  1.28402\n",
      "exp  =  1.28403\n"
     ]
    }
   ],
   "source": [
    "from math import exp \n",
    "\n",
    "x = 0.25  # пока сделаем так, чтобы не вводить\n",
    "sum_ = 0\n",
    "i, y = 0, 1\n",
    "while abs(y) >= 1e-5:\n",
    "    sum_ += y\n",
    "    i += 1\n",
    "    y = y * x / i\n",
    "\n",
    "print('sum_ = %8.5f' % sum_)\n",
    "print('exp  = %8.5f' % exp(x))"
   ]
  },
  {
   "cell_type": "markdown",
   "id": "b614d1de",
   "metadata": {},
   "source": [
    "####  Можно для контроля вычислений добавить оператор печати"
   ]
  },
  {
   "cell_type": "code",
   "execution_count": 12,
   "id": "dbbb6bab",
   "metadata": {},
   "outputs": [
    {
     "name": "stdout",
     "output_type": "stream",
     "text": [
      "x >>> 0.56\n",
      " 0.000000  0  1.000000    True\n",
      " 1.000000  1  0.560000    True\n",
      " 1.560000  2  0.156800    True\n",
      " 1.716800  3  0.029269    True\n",
      " 1.746069  4  0.004098    True\n",
      " 1.750167  5  0.000459    True\n",
      " 1.750626  6  0.000043    True\n",
      " 1.750669  7  0.000003   False\n",
      "Число шагов цикла =  7\n",
      "sum_ =  1.75067\n",
      "exp  =  1.75067\n"
     ]
    }
   ],
   "source": [
    "from math import exp \n",
    "\n",
    "EPS = 1e-5  # изменение\n",
    "\n",
    "x = float(input('x >>> '))  # изменение\n",
    "\n",
    "sum_ = 0  \n",
    "i, y = 0, 1\n",
    "print('%9.6f %2d %9.6f %7s' % (sum_, i, y, abs(y) >= EPS))\n",
    "while abs(y) >= EPS:\n",
    "    sum_ += y\n",
    "    i += i\n",
    "    y = y * x / i\n",
    "    print('%9.6f %2d %9.6f %7s' % (sum_, i, y, abs(y) >= EPS))\n",
    "\n",
    "print('Число шагов цикла = ', i)\n",
    "print('sum_ = %8.5f' % sum_)\n",
    "print('exp  = %8.5f' % exp(x))"
   ]
  },
  {
   "cell_type": "markdown",
   "id": "6839007b",
   "metadata": {},
   "source": [
    "**Почему обычно плохо напрямую вычислять выражения вида**\n",
    "$$\n",
    "  y_i=\\frac{x^i}{i!}?\n",
    "$$\n",
    "\n",
    "При $x<1$, $i\\to\\infty$\n",
    "$$\n",
    "x^i\\to 0,\\quad i!\\to \\infty,\n",
    "$$\n",
    "т.е.\n",
    "$$\n",
    "  \\frac{\\text{очень маленькое число}}{\\text{очень большое число}}.\n",
    "$$\n",
    "\n",
    "### Программа w3.25S (использование sympy). "
   ]
  },
  {
   "cell_type": "code",
   "execution_count": 14,
   "id": "27f88255",
   "metadata": {},
   "outputs": [
    {
     "name": "stdout",
     "output_type": "stream",
     "text": [
      "  ∞     \n",
      " ____   \n",
      " ╲      \n",
      "  ╲    i\n",
      "   ╲  x \n",
      "   ╱  ──\n",
      "  ╱   i!\n",
      " ╱      \n",
      " ‾‾‾‾   \n",
      "i = 0   \n",
      "exp(x)\n",
      "1.10517091807565\n"
     ]
    }
   ],
   "source": [
    "from sympy import *\n",
    "\n",
    "i, x = symbols('i x')       # i и x как символы\n",
    "\n",
    "pprint(Sum(x**i / factorial(i), (i, 0, oo)))\n",
    "\n",
    "s = Sum(x**i / factorial(i), (i, 0, oo)).doit()\n",
    "\n",
    "print(s)                    # exp(x)\n",
    "\n",
    "s = s.subs(x, 0.1).evalf()  # 1.10517091807565\n",
    "print(s)"
   ]
  },
  {
   "cell_type": "markdown",
   "id": "ee5621a1",
   "metadata": {},
   "source": [
    "Вызов метода `subs(x, 0.1)` осуществляет подстановку в выражение вместо $x$ \n",
    "  значения $0{,}1$."
   ]
  },
  {
   "cell_type": "code",
   "execution_count": null,
   "id": "8b98a8cb",
   "metadata": {},
   "outputs": [],
   "source": []
  }
 ],
 "metadata": {
  "kernelspec": {
   "display_name": "Python 3 (ipykernel)",
   "language": "python",
   "name": "python3"
  },
  "language_info": {
   "codemirror_mode": {
    "name": "ipython",
    "version": 3
   },
   "file_extension": ".py",
   "mimetype": "text/x-python",
   "name": "python",
   "nbconvert_exporter": "python",
   "pygments_lexer": "ipython3",
   "version": "3.12.7"
  }
 },
 "nbformat": 4,
 "nbformat_minor": 5
}
