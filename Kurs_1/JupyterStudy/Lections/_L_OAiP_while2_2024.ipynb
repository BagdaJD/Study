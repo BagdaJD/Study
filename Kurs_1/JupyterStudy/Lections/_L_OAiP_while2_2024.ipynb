{
 "cells": [
  {
   "cell_type": "markdown",
   "id": "ae6d0427",
   "metadata": {},
   "source": [
    "# 10 октября 2024. While-2. Организация циклических процессов (продолжение)"
   ]
  },
  {
   "cell_type": "markdown",
   "id": "970183d1",
   "metadata": {},
   "source": [
    "# w2.1. Примеры решения задач\n",
    "\n",
    "### w2.1.1. Алгоритм Евклида для поиска НОД  (`gcd()`)"
   ]
  },
  {
   "cell_type": "code",
   "execution_count": 8,
   "id": "b04084f0",
   "metadata": {},
   "outputs": [
    {
     "name": "stdout",
     "output_type": "stream",
     "text": [
      "\n"
     ]
    }
   ],
   "source": [
    "'''\n",
    "NOD(10, 35)\n",
    "I var  (из бОльшего вычитаем меньшее)\n",
    "\n",
    "a   b  a != b\n",
    "10  35   +\n",
    "10  25   +\n",
    "10  15   +\n",
    "10   5   +\n",
    "5    5   -\n",
    "Критерий окончания: a == b\n",
    "Ответ: или a, или b\n",
    "'''\n",
    "\n",
    "print()"
   ]
  },
  {
   "cell_type": "code",
   "execution_count": 11,
   "id": "9b48a839",
   "metadata": {},
   "outputs": [
    {
     "name": "stdout",
     "output_type": "stream",
     "text": [
      "5 28575\n"
     ]
    }
   ],
   "source": [
    "# Пример w2.1.1 (НОД, 1 вариант).\n",
    "\n",
    "a, b = 1000000, 35\n",
    "cnt = 0  #  в алгоритм не входит. Счетчик итераций\n",
    "while a != b:\n",
    "    cnt += 1  #  в алгоритм не входит. Счетчик итераций\n",
    "    if a > b:\n",
    "        a = a - b\n",
    "    else:\n",
    "        b = b - a\n",
    "\n",
    "print(a, cnt)"
   ]
  },
  {
   "cell_type": "code",
   "execution_count": 11,
   "id": "be84b412",
   "metadata": {},
   "outputs": [
    {
     "name": "stdout",
     "output_type": "stream",
     "text": [
      "\n"
     ]
    }
   ],
   "source": [
    "'''\n",
    "NOD(10, 35)\n",
    "II var  (бОльшее % меньшее)\n",
    "\n",
    "a    b  a*b != 0\n",
    "10  35     +\n",
    "10   5     +\n",
    "0    5     -\n",
    "\n",
    "Критерий окончания: a == 0 или b == 0 (a*b == 0)\n",
    "Ответ: a + b\n",
    "'''\n",
    "\n",
    "print()"
   ]
  },
  {
   "cell_type": "code",
   "execution_count": 12,
   "id": "ba17557f",
   "metadata": {},
   "outputs": [
    {
     "name": "stdout",
     "output_type": "stream",
     "text": [
      "5 3\n"
     ]
    }
   ],
   "source": [
    "# Пример w2.1.2 (НОД, 2 вариант).\n",
    "\n",
    "a, b = 1000000, 35\n",
    "cnt = 0  #  в алгоритм не входит. Счетчик итераций\n",
    "while a*b != 0:\n",
    "    cnt += 1  #  в алгоритм не входит. Счетчик итераций    \n",
    "    if a > b:\n",
    "        a = a % b\n",
    "    else:\n",
    "        b = b % a\n",
    "\n",
    "print(a + b, cnt)    "
   ]
  },
  {
   "cell_type": "code",
   "execution_count": 14,
   "id": "6d1acdfa",
   "metadata": {},
   "outputs": [
    {
     "name": "stdout",
     "output_type": "stream",
     "text": [
      "\n"
     ]
    }
   ],
   "source": [
    "'''\n",
    "NOD(10, 35)\n",
    "III var  (бОльшее % меньшее. Но нет проверки на бОльшее)\n",
    "\n",
    "Договоримся, что бОльшее всегда a\n",
    "r  a   b    \n",
    "   10 35\n",
    "========\n",
    "   35 10\n",
    "-------- Как работает один шаг алгоритма\n",
    "5  35 10   r = a % b\n",
    "5  10 10   a = b\n",
    "5  10  5   b = r\n",
    "--------\n",
    "\n",
    "Конкретный пример\n",
    "r  a   b  b != 0  \n",
    "   10 35\n",
    "================\n",
    "   35 10   +\n",
    "----------------\n",
    "5  10  5   +\n",
    "0   5  0   -\n",
    "--------\n",
    "     \n",
    "Критерий окончания: b == 0\n",
    "Ответ: a\n",
    "'''\n",
    "\n",
    "print()"
   ]
  },
  {
   "attachments": {
    "image.png": {
     "image/png": "[encoded data removed]"
    }
   },
   "cell_type": "markdown",
   "id": "6dc954ab",
   "metadata": {},
   "source": [
    "![image.png](attachment:image.png)"
   ]
  },
  {
   "cell_type": "code",
   "execution_count": 13,
   "id": "38eedb18",
   "metadata": {},
   "outputs": [
    {
     "name": "stdout",
     "output_type": "stream",
     "text": [
      "5 3\n"
     ]
    }
   ],
   "source": [
    "# Пример w2.1.3 (НОД, 3 вариант).\n",
    "\n",
    "#a, b = 130, 350\n",
    "a, b = 1000000, 35\n",
    "cnt = 0  #  в алгоритм не входит. Счетчик итераций\n",
    "if a < b:\n",
    "    r = b\n",
    "    b = a\n",
    "    a = r\n",
    "    \n",
    "while b != 0:\n",
    "    cnt += 1  #  в алгоритм не входит. Счетчик итераций\n",
    "    r = a % b\n",
    "    a = b\n",
    "    b = r\n",
    "\n",
    "print(a, cnt)"
   ]
  },
  {
   "cell_type": "markdown",
   "id": "8ad16087",
   "metadata": {},
   "source": [
    "### w2.1.2. Действия над целыми числами\n",
    "\n",
    "**Шаблон кода для работы с цифрами натурального числа**\n",
    "\n",
    "----\n",
    "```\n",
    "n = int(input())  # исх. число\n",
    "\n",
    "# ...             # инициализация пер-ных для решения задачи\n",
    "m = n             # I: инициализация параметра цикла\n",
    "while m > 0:      # II: проверка\n",
    "    # ...         # операторы, решающие задачу\n",
    "    m = m // 10   # III: модификация параметра цикла\n",
    "\n",
    "# ... # печать ответа\n",
    "```\n",
    "----\n",
    "\n",
    "**Для трёхзначного числа**\n",
    "```\n",
    "358 // 10 = 35 (1)\n",
    " 35 // 10 = 3  (2)\n",
    "  3 // 10 = 0  (3)\n",
    "```\n",
    "\n",
    "**Для четырёхзначного числа**\n",
    "```\n",
    " 4500 // 10 = 450 (1)\n",
    "  450 // 10 = 45  (2)\n",
    "   45 // 10 = 4   (3)\n",
    "    4 // 10 = 0   (4)\n",
    "```\n"
   ]
  },
  {
   "cell_type": "markdown",
   "id": "d4771fce",
   "metadata": {},
   "source": [
    "**Пример w2.1.2 (количество цифр в натуральном числе).** Количество итераций цикла равно количеству цифр в числе."
   ]
  },
  {
   "cell_type": "code",
   "execution_count": 14,
   "id": "42ca890b",
   "metadata": {},
   "outputs": [
    {
     "name": "stdin",
     "output_type": "stream",
     "text": [
      "n >>>  12345678\n"
     ]
    },
    {
     "name": "stdout",
     "output_type": "stream",
     "text": [
      "Кол. цифр числа 12345678 равно 8\n",
      "Кол. цифр числа 12345678 равно 8\n"
     ]
    }
   ],
   "source": [
    "n = int(input('n >>> ')) # исх. число\n",
    "\n",
    "cnt = 0          # инициализация \"кол-ва\"\n",
    "m = n            # I инициализация переменной, управляющей циклом. \n",
    "while m > 0:     # II\n",
    "    cnt += 1\n",
    "    m //= 10    # III\n",
    "\n",
    "print('Кол. цифр числа %d равно %d' % (n, cnt))\n",
    "print(f'Кол. цифр числа {n} равно {cnt}')"
   ]
  },
  {
   "cell_type": "markdown",
   "id": "add3abda",
   "metadata": {},
   "source": [
    "**Пример w2.1.3 (сумма чётных цифр в целом числе).** "
   ]
  },
  {
   "cell_type": "code",
   "execution_count": 6,
   "id": "bb7ed95a",
   "metadata": {},
   "outputs": [
    {
     "name": "stdout",
     "output_type": "stream",
     "text": [
      "n >>> -5687\n",
      "Сумма чётных цифр числа -5687 равна 14\n"
     ]
    }
   ],
   "source": [
    "n = int(input('n >>> ')) # исх. число\n",
    "\n",
    "sm = 0           # инициализация \"суммы\"\n",
    "m = abs(n)       # I инициализация переменной, управляющей циклом. \n",
    "while m > 0:     # II\n",
    "    if m % 2 == 0:\n",
    "        dig = m % 10   # цифра целого числа\n",
    "        sm = sm + dig  # сумма цифр\n",
    "    m = m // 10  # III\n",
    "\n",
    "print('Сумма чётных цифр числа %d равна %d' % (n, sm))"
   ]
  },
  {
   "cell_type": "markdown",
   "id": "308f783b",
   "metadata": {},
   "source": [
    "---\n",
    "### w2.1.3. Использование сигнальной метки"
   ]
  },
  {
   "cell_type": "markdown",
   "id": "6bce9456",
   "metadata": {},
   "source": [
    "**Пример w2.1.4.** Вычислить сумму всех экзаменационных оценок студента.\n",
    "\n",
    "\n",
    "**Решение.** Количество экзаменов заранее неизвестно.\n",
    "\n",
    "Ввод оценок осуществляется до тех пор, пока программа не получит информацию об окончании ввода.\n",
    "\n",
    "**I способ (плохой в данном случае).**  Организовать запрос о необходимости продолжения ввода данных. Например,\n",
    "```\n",
    "Start (y - yes)? y\n",
    "Mark = 4\n",
    "Continue (y - yes)? y\n",
    "Mark = 5\n",
    "Continue (y - yes)? n\n",
    "Sum = 9\n",
    "```\n",
    "\n",
    "Требуется введение дополнительной переменной \n",
    "```\n",
    "s = 0                              # сумма баллов\n",
    "c_ = input('Start (y - yes)? ')\n",
    "while c_ == 'y':\n",
    "    mark = int(input('Mark = '))   # экз. отметка\n",
    "    s = s + mark\n",
    "    c_ = input('Continue (y - yes)? ')\n",
    "\n",
    "print('Sum = ', s)\n",
    "```"
   ]
  },
  {
   "cell_type": "code",
   "execution_count": 5,
   "id": "4ec4087d",
   "metadata": {},
   "outputs": [
    {
     "name": "stdin",
     "output_type": "stream",
     "text": [
      "Start (y - yes)?  n\n"
     ]
    },
    {
     "name": "stdout",
     "output_type": "stream",
     "text": [
      "Sum =  0\n"
     ]
    }
   ],
   "source": [
    "# использование дополнительной переменной \n",
    "# (\"пытка\" пользователя доп. вопросами)\n",
    "s = 0                          # сумма баллов\n",
    "c_ = input('Start (y - yes)? ')\n",
    "while c_ == 'y':\n",
    "    mark = int(input('Mark >>> ')) # экз. отметка\n",
    "    s = s + mark\n",
    "    c_ = input('Continue (y - yes)? ')\n",
    "\n",
    "print('Sum = ', s)"
   ]
  },
  {
   "cell_type": "markdown",
   "id": "0a380abc",
   "metadata": {},
   "source": [
    "----\n",
    "**???** Как без дополнительных запросов прекратить считывание входных данных и закончить выполнение цикла?\n",
    "\n",
    "**II способ (использование сигнальной метки)**. **Сигнальная метка** — уникальное значение\n",
    "**входного данного**, сообщающего программе о наступлении определенного\n",
    "события (об окончании обработки информации в нашем случае).\n",
    "\n",
    "Условие продолжения цикла проверяет каждый введенный элемент данных и, в случае ввода сигнальной метки, инициирует выход из цикла. \n",
    "\n",
    "**Для сигнальной метки выбирается значение, не встречающееся среди\n",
    "элементов данных.**"
   ]
  },
  {
   "cell_type": "code",
   "execution_count": 1,
   "id": "2f161cf9",
   "metadata": {},
   "outputs": [
    {
     "name": "stdout",
     "output_type": "stream",
     "text": [
      "(Exit: -1)\n",
      "Mark >>> 90\n",
      "Mark >>> 45\n",
      "Mark >>> -1\n",
      "Sum =  135\n"
     ]
    }
   ],
   "source": [
    "# использование сигнальной метки\n",
    "s = 0\n",
    "print('(Exit: -1)')  # среди оценок в дипломе не встречается оценка \"-1\"\n",
    "\n",
    "mark = int(input('Mark >>> '))\n",
    "while mark != -1:\n",
    "    s = s + mark\n",
    "    mark = int(input('Mark >>> '))\n",
    "\n",
    "print('Sum = ', s)"
   ]
  },
  {
   "cell_type": "markdown",
   "id": "7871a45f",
   "metadata": {},
   "source": [
    "### Задание. Написать программу для решения задачи: \n",
    "\n",
    "вычислить средний балл экзаменационных оценок. \n",
    "Количество экзаменов заранее неизвестно.\n",
    "\n",
    "Решение можно прислать лектору до вечера 13 октября."
   ]
  },
  {
   "cell_type": "markdown",
   "id": "7f720c70",
   "metadata": {},
   "source": [
    "**Пример w2.1.5 (Поиск максимального значения в последовательности целых чисел).** \n",
    "С клавиатуры вводятся целые числа из диапазона [100; 1000]. Количество чисел неизвестно.  Найти максимальное число.\n",
    "\n",
    "*Математическая запись*: найти $\\max a_i$, $a_i\\in [100;1000]$, $i=1,2,\\dots$\n",
    "\n",
    "По условию **известно**, что числа вводятся из диапазона [100; 1000]. Это\n",
    "позволяет выбрать значение сигнальной метки. Например, 0."
   ]
  },
  {
   "cell_type": "code",
   "execution_count": 5,
   "id": "2cad5e7e",
   "metadata": {},
   "outputs": [
    {
     "name": "stdout",
     "output_type": "stream",
     "text": [
      "a >>> 190\n",
      "a >>> 0\n",
      "mx = 190\n"
     ]
    }
   ],
   "source": [
    "a = int(input('a >>> '))\n",
    "\n",
    "mx = 99    # например. Главное -- выйти за наименьшую возможную для данной задачи границу\n",
    "while a != 0:\n",
    "    if a > mx:\n",
    "        mx = a\n",
    "    a = int(input('a >>> '))\n",
    "\n",
    "if mx != 99:\n",
    "    print('mx =', mx)\n",
    "else:\n",
    "    print('not')"
   ]
  },
  {
   "cell_type": "markdown",
   "id": "ad1f681f",
   "metadata": {},
   "source": [
    "**Пример w2.1.6 (Поиск максимального *нечётного* значения в последовательности целых чисел).** \n",
    "С клавиатуры вводится $n$ целых чисел. Найти максимальное нечётное число.\n",
    "\n",
    "**Особенность**: количество вводимых чисел известно, а интервал вводимых значений\n",
    "--- нет.\n",
    "\n",
    "----\n",
    "**I способ (использование для инициализации неподходящего по условию значения).**\n",
    "\n",
    "**Инициализация максимума**:\n",
    "значение, не подходящее под условие поиска. Например, 2 в нашем случае.\n",
    "\n",
    "**После окончания работы цикла**: анализ значения максимума. Если он остался равен двум, то нечётных чисел в последовательности вводимых чисел не было."
   ]
  },
  {
   "cell_type": "code",
   "execution_count": 3,
   "id": "eb70acb8",
   "metadata": {},
   "outputs": [
    {
     "name": "stdin",
     "output_type": "stream",
     "text": [
      "n >>>  3\n",
      "a >>>  90\n",
      "a >>>  80\n",
      "a >>>  4\n"
     ]
    },
    {
     "name": "stdout",
     "output_type": "stream",
     "text": [
      "Нечётных чисел не было введено\n"
     ]
    }
   ],
   "source": [
    "n = int(input('n >>> '))  # ввод количества чисел\n",
    "\n",
    "mx = 2         # т.к. 2 не подходит под условие поиска\n",
    "i = 0          # I: параметра цикл = счётчик шагов\n",
    "while i < n:   # II\n",
    "    a = int(input('a >>> '))\n",
    "    if a % 2 != 0 and (mx == 2 or a > mx):\n",
    "        mx = a\n",
    "    i += 1     # III\n",
    "\n",
    "# Анализ результата работы программы и вывод ответа\n",
    "if mx != 2:\n",
    "    print('mx =', mx)\n",
    "else:\n",
    "    print('Нечётных чисел не было введено')"
   ]
  },
  {
   "cell_type": "markdown",
   "id": "18184fbc",
   "metadata": {},
   "source": [
    "----\n",
    "**II способ (использование логической переменной).**\n",
    "\n",
    "**Инициализация максимума:**  \n",
    "\n",
    "- до цикла не требуется (если в условии гарантируется, что нечетные числа есть);\n",
    "- произойдёт, когда встретится первое нечётное число.\n",
    "\n",
    "**Использование логической переменной:**\n",
    "\n",
    "- до цикла False, то есть максимум ещё не был инициализирован;\n",
    "- в цикле True, когда встретится нечётное число.\n",
    "\n",
    "**После окончания работы цикла:** анализ флага. Если он остался равен False, то нечётных чисел в последовательности вводимых чисел не было."
   ]
  },
  {
   "cell_type": "code",
   "execution_count": 6,
   "id": "d510a2b6",
   "metadata": {},
   "outputs": [
    {
     "name": "stdin",
     "output_type": "stream",
     "text": [
      "n >>>  3\n",
      "a >>>  -67\n",
      "a >>>  90\n",
      "a >>>  -101\n"
     ]
    },
    {
     "name": "stdout",
     "output_type": "stream",
     "text": [
      "mx = -67\n"
     ]
    }
   ],
   "source": [
    "n = int(input('n >>> '))  # ввод количества чисел\n",
    "\n",
    "yes = False        # максимум еще не был инициализирован\n",
    "i = 0              # I\n",
    "while i < n:       # II\n",
    "    a = int(input('a >>> '))\n",
    "    if a % 2 != 0 and (not yes or a > mx):\n",
    "        yes = True\n",
    "        mx = a\n",
    "    i += 1         # III\n",
    "\n",
    "# Анализ результата работы программы и вывод ответа\n",
    "if yes:            # то есть yes == True, но так не пишем\n",
    "    print('mx =', mx)\n",
    "else:\n",
    "    print('Нечётных чисел не было введено')"
   ]
  },
  {
   "cell_type": "markdown",
   "id": "3a64d629",
   "metadata": {},
   "source": [
    "**Флаг** --- это логическая переменная, значение которой указывает,\n",
    "произошло ли определенное событие.\n",
    "\n",
    "**Работа с флагом:**\n",
    "    \n",
    "Значение флага должно быть первоначально установлено в False (или True),  \n",
    "а затем изменено на True (или False) когда ожидаемое событие станет фактом \n",
    "(нарушится).\n",
    "\n",
    "**Замечание.** В предыдущей программе флаг использовался, \n",
    "но он не управлял работой цикла!"
   ]
  },
  {
   "cell_type": "markdown",
   "id": "55eec957",
   "metadata": {},
   "source": [
    "### w2.1.4. Циклы, управляемые флагами"
   ]
  },
  {
   "cell_type": "markdown",
   "id": "e43c72ea",
   "metadata": {},
   "source": [
    "Флаг будет использоваться в заголовке цикла.\n",
    "\n",
    "Цикл будет выполняться до тех пор, пока не наступит соответствующее событие."
   ]
  },
  {
   "cell_type": "code",
   "execution_count": 7,
   "id": "63edda9a",
   "metadata": {},
   "outputs": [],
   "source": [
    "# Продолжение в следующей части"
   ]
  },
  {
   "cell_type": "code",
   "execution_count": null,
   "id": "b6c80656-9562-4f76-9080-c7285df32e7e",
   "metadata": {},
   "outputs": [],
   "source": []
  }
 ],
 "metadata": {
  "kernelspec": {
   "display_name": "Python 3 (ipykernel)",
   "language": "python",
   "name": "python3"
  },
  "language_info": {
   "codemirror_mode": {
    "name": "ipython",
    "version": 3
   },
   "file_extension": ".py",
   "mimetype": "text/x-python",
   "name": "python",
   "nbconvert_exporter": "python",
   "pygments_lexer": "ipython3",
   "version": "3.12.7"
  }
 },
 "nbformat": 4,
 "nbformat_minor": 5
}
