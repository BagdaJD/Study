{
 "cells": [
  {
   "cell_type": "markdown",
   "id": "d78a3b6c",
   "metadata": {},
   "source": [
    "## 27o Оператор цикла с параметром (цикл for)\n",
    "\n",
    "Оператор цикла с параметром применяется в тех случаях, когда заранее\n",
    "известно число шагов, необходимых для достижения результата.\n",
    "\n",
    "Цикл с параметром\n",
    "$\\sim$ цикл с заданным числом повторений\n",
    "$\\sim$ цикл for\n",
    "\n",
    "**Синтаксис оператора for**\n",
    "```python\n",
    "for <ПараметрЦикла> in <итерируемый объект>:\n",
    "     <блок инструкций>\n",
    "```\n",
    "\n",
    "* `<ПараметрЦикла>` пробегает множество значений из `<итерируемого объекта>`;\n",
    "\n",
    "* `<итерируемый объект>` --- диапазон, строка, список, словарь, \\dots \n",
    "\n",
    "* `<блок инструкций>` --- тело цикла (любой оператор, в том числе составной)."
   ]
  },
  {
   "cell_type": "markdown",
   "id": "e577aaff",
   "metadata": {},
   "source": [
    "### 27o.for.1. Диапазон значений\n",
    "\n",
    "`range(n)` создает объект, являющийся диапазоном целых чисел со значениями от 0 до $n-1$\n",
    "\n",
    "`range(n, m)` диапазон целых чисел со значениями от $n$ до $m-1$\n",
    "\n",
    "`range(n, m, step)` диапазон целых чисел со значениями от $n$ до $m-1$ с шагом `step`\n",
    "\n",
    "Общий вид: `range(n[, m, step])`\n",
    " "
   ]
  },
  {
   "cell_type": "code",
   "execution_count": 1,
   "id": "fa64895e",
   "metadata": {},
   "outputs": [
    {
     "name": "stdout",
     "output_type": "stream",
     "text": [
      "Длина = 7\n",
      "Первый (слева) элемент = 2\n",
      "Последний элемент = 14\n",
      "range(2, 15, 2)\n",
      "<class 'range'>\n"
     ]
    }
   ],
   "source": [
    "a = range(2, 15, 2)  # диапазон чисел 0, 1, 2, 3, 4 (5 чисел)\n",
    "\n",
    "print(f'Длина = {len(a)}')\n",
    "print(f'Первый (слева) элемент = {a[0]}')\n",
    "print(f'Последний элемент = {a[-1]}')\n",
    "print(a)  # см. результат \n",
    "print(type(a))"
   ]
  },
  {
   "cell_type": "markdown",
   "id": "48f904db",
   "metadata": {},
   "source": [
    "### 27o.for.2. Синтаксис оператора `for i in range(n, m, [step])`\n",
    "\n",
    "```python\n",
    " for <ПараметрЦикла> in range(<НЗ>, <КЗ>, [<шаг>]):\n",
    "     <блок инструкций>\n",
    "```\n",
    "\n",
    "`НЗ` (начальное значение) --- значение, с которого стартует параметр цикла;\n",
    "\n",
    "`КЗ` (конечное значение) ---  значение, которое параметр цикла принимать не будет;\n",
    "\n",
    "`[шаг]` может отсутствовать.\n",
    "\n",
    "Если **`КЗ` меньше `НЗ`**, то шаг указывается отрицательным (аналог цикла for-downto в Pascal.)\n",
    "\n",
    "----\n",
    "\n",
    "**Параметр цикла $\\sim$ управляющая переменная**\n",
    "\n",
    "\n",
    "**Заголовок цикла for** осуществляет **ВСЕ манипуляции с параметром цикла**:\n",
    "\n",
    "* *инициализацию* `ПЦ` значением `НЗ`;\n",
    "* *проверку условия*\n",
    "  - `ПЦ < КЗ` при положительном шаге;\n",
    "  -  `ПЦ > КЗ` при отрицательном шаге;\n",
    "*  *изменение значения* `ПЦ` перед каждым шагом цикла\n",
    "  - +1, если не указан шаг цикла;\n",
    "  - изменение шага цикла на указанную величину ($\\in Z$)."
   ]
  },
  {
   "cell_type": "markdown",
   "id": "0efbda76",
   "metadata": {},
   "source": [
    "**Пример 24o.1 (из практикума).** Следующие циклы эквивалентны и выводят на экран числа 0, 1, 2, 3."
   ]
  },
  {
   "cell_type": "code",
   "execution_count": 2,
   "id": "fa864cf8",
   "metadata": {},
   "outputs": [
    {
     "name": "stdout",
     "output_type": "stream",
     "text": [
      "0 1 2 3 \n",
      "0 1 2 3 \n",
      "0 1 2 3 \n",
      "0 1 2 3 "
     ]
    }
   ],
   "source": [
    "# Функция range(n)\n",
    "for i in range(4):\n",
    "    print(i, end =' ')\n",
    "\n",
    "print()\n",
    "# Функция range(n, m)\n",
    "for i in range(0, 3+1):\n",
    "    print(i, end=' ')\n",
    "\n",
    "print()\n",
    "# Функция range(n, m, step)\n",
    "for i in range(0, 4, 1):\n",
    "    print(i, end=' ')\n",
    "\n",
    "print()\n",
    "# Функция range(n, m, -step)\n",
    "for i in range(3, 0-1, -1):\n",
    "    print(3-i, end= ' ')"
   ]
  },
  {
   "cell_type": "code",
   "execution_count": 4,
   "id": "16830734",
   "metadata": {},
   "outputs": [
    {
     "name": "stdout",
     "output_type": "stream",
     "text": [
      "0 1 2 3 \n",
      "0 1 2 3 \n",
      "0 1 2 3 \n",
      "один\n",
      "два\n",
      "три\n",
      "четыре\n",
      "5\n"
     ]
    }
   ],
   "source": [
    "# Элементы списка\n",
    "for i in [0, 1, 2, 3]:\n",
    "    print(i, end=' ')\n",
    "\n",
    "print()    \n",
    "# Элементы кортежа\n",
    "for i in (0, 1, 2, 3):\n",
    "    print(i, end=' ')\n",
    "    \n",
    "print()\n",
    "\n",
    "# Так тоже можно. Все числа будут собраны в кортеж ;)\n",
    "for i in 0, 1, 2, 3:\n",
    "    print(i, end=' ')   \n",
    "\n",
    "print()\n",
    "# Счёт\n",
    "for i in 'один', 'два', 'три', 'четыре', 5:\n",
    "    print(i)\n"
   ]
  },
  {
   "cell_type": "markdown",
   "id": "01be4512",
   "metadata": {},
   "source": [
    "В списке значений могут быть выражения различных типов. \n",
    "\n",
    "**Осторожно!** Могут возникнуть проблемы при обработке таких данных!"
   ]
  },
  {
   "cell_type": "code",
   "execution_count": 5,
   "id": "e2435cad",
   "metadata": {},
   "outputs": [
    {
     "name": "stdout",
     "output_type": "stream",
     "text": [
      "1\n",
      "2\n",
      "3\n",
      "раз\n",
      "два\n",
      "True\n"
     ]
    }
   ],
   "source": [
    "for i in 1, 2, 3, 'раз', 'два', True:\n",
    "    print(i)"
   ]
  },
  {
   "cell_type": "markdown",
   "id": "16f1c6f9",
   "metadata": {},
   "source": [
    "**Множеством значений могут быть буквы из строки.**"
   ]
  },
  {
   "cell_type": "code",
   "execution_count": 6,
   "id": "efb5fe7c",
   "metadata": {},
   "outputs": [
    {
     "name": "stdout",
     "output_type": "stream",
     "text": [
      "к\n",
      "о\n",
      "т\n",
      "и\n",
      "к\n"
     ]
    }
   ],
   "source": [
    "# Вывод букв слова\n",
    "for i in 'котик':\n",
    "    print(i)"
   ]
  },
  {
   "cell_type": "markdown",
   "id": "bf699cc5",
   "metadata": {},
   "source": [
    "### Параметры логического типа"
   ]
  },
  {
   "cell_type": "code",
   "execution_count": 7,
   "id": "884f2126",
   "metadata": {},
   "outputs": [
    {
     "name": "stdout",
     "output_type": "stream",
     "text": [
      "False\t\n",
      "True\t\n",
      "True\tFalse\t"
     ]
    }
   ],
   "source": [
    "for i in False, True:\n",
    "    print(i, end='\\t')\n",
    "\n",
    "    print()\n",
    "\n",
    "for i in True, False:\n",
    "    print(i, end='\\t')"
   ]
  },
  {
   "cell_type": "markdown",
   "id": "c6c805a6",
   "metadata": {},
   "source": [
    "### 3n.for.1. Вложенные циклы\n",
    "\n",
    "В случае **вложенных циклов** имена переменных, используемых как **параметры циклов** for, должны быть **разными**:\n",
    "\n",
    "**Пример 1 вложенного цикла**"
   ]
  },
  {
   "cell_type": "code",
   "execution_count": 11,
   "id": "ace0f389",
   "metadata": {},
   "outputs": [
    {
     "name": "stdout",
     "output_type": "stream",
     "text": [
      "1 2 3 4 5 2 4 6 8 10 3 6 9 12 15 4 8 12 16 20 5 10 15 20 25 "
     ]
    }
   ],
   "source": [
    "for i in range(1, 6):\n",
    "    for j in range(1, 6):\n",
    "        print(i*j, end=' ')  # все числа через пробел в одну строку"
   ]
  },
  {
   "cell_type": "code",
   "execution_count": 12,
   "id": "b1075941",
   "metadata": {},
   "outputs": [
    {
     "name": "stdout",
     "output_type": "stream",
     "text": [
      "1\t2\t3\t4\t5\t90\n",
      "2\t4\t6\t8\t10\t90\n",
      "3\t6\t9\t12\t15\t90\n",
      "4\t8\t12\t16\t20\t90\n",
      "5\t10\t15\t20\t25\t90\n"
     ]
    }
   ],
   "source": [
    "# числа по строкам i и столбцам j\n",
    "for i in range(1, 6):\n",
    "    for j in range(1, 6):\n",
    "        print(i*j, end='\\t')\n",
    "    print()"
   ]
  },
  {
   "cell_type": "markdown",
   "id": "a5cd1e9a",
   "metadata": {},
   "source": [
    "**Пример 2 вложенного цикла**"
   ]
  },
  {
   "cell_type": "code",
   "execution_count": 13,
   "id": "1e6b4c27",
   "metadata": {},
   "outputs": [
    {
     "name": "stdout",
     "output_type": "stream",
     "text": [
      "1234\n",
      "123\n",
      "12\n",
      "1\n",
      "\n"
     ]
    }
   ],
   "source": [
    "for i in range(1, 6):\n",
    "    for j in range(1, 6-i):\n",
    "        print(j, end='')\n",
    "    print()"
   ]
  },
  {
   "cell_type": "markdown",
   "id": "902d7a53",
   "metadata": {},
   "source": [
    "### 3n.for1.1. Особенности использования цикла с параметром\n",
    "\n",
    "* 1. **В теле цикла не должно быть операторов, модифицирующих \n",
    "`<ПараметрЦикла>`**;\n",
    "\n",
    "* 2. После выхода из цикла `<ПЦ>` **сохраняет значение**, присвоенное ему во время последней итерации;\n",
    "\n",
    "* 3. `<КЗ>` вычисляется **один раз перед началом цикла**. Изменение конечного значения в теле цикла **никак не влияет** на число итераций."
   ]
  },
  {
   "cell_type": "code",
   "execution_count": 15,
   "id": "e5c25fc7",
   "metadata": {},
   "outputs": [
    {
     "name": "stdout",
     "output_type": "stream",
     "text": [
      "1234\n",
      "4\n",
      "80\n"
     ]
    }
   ],
   "source": [
    "# Менять бесполезно\n",
    "m = 5\n",
    "for i in range(1, m):\n",
    "    print(i, end='')\n",
    "    m = m * 2\n",
    "    \n",
    "print()\n",
    "print(i)  # цикл сработал 4 раза i = 1, 2, 3, 4\n",
    "print(m)"
   ]
  },
  {
   "cell_type": "markdown",
   "id": "05218504",
   "metadata": {},
   "source": [
    "## 3n.for2. Решение задач\n",
    "\n",
    "**Пример tab. (табулирование фукций; см. практикум).** \n",
    "Вывести таблицу значений функции $\\sin x$:\n",
    "\n",
    "```\n",
    "  x    sin x\n",
    "-------------\n",
    "-0.2  -0.1987 \n",
    "-0.1  -0.0998 \n",
    " 0.0   0.0000  \n",
    " ...   ...  \n",
    "```\n",
    "где $x$ принимает значения $-0,2$; $-0,1$;...; $0,2$, т.\\,е.\n",
    "$$\n",
    "  x_i=0,1\\cdot i,\\quad i=-2,\\dots,2.\n",
    "$$"
   ]
  },
  {
   "cell_type": "code",
   "execution_count": null,
   "id": "a39fed37",
   "metadata": {},
   "outputs": [],
   "source": [
    "import math\n",
    "\n",
    "print('   x  | sin(x) ') # шапка таблицы\n",
    "print('----------------')\n",
    "\n",
    "for i in range(-2, 3):\n",
    "    x = 0.1 * i\n",
    "    y = math.sin(x);\n",
    "    print('%4.1f  | %7.4f' % (x, y))"
   ]
  },
  {
   "cell_type": "markdown",
   "id": "168364b6",
   "metadata": {},
   "source": [
    "**Пример \"степень двойки\".**  Вывести на печать значения $2^n$, $n=1,\\dots,5$.\n",
    "\n",
    "**Решение.**\n",
    "\n",
    "**I способ: использование операции языка Python.**\n",
    "\n",
    "**II способ: накопление степеней двойки.**\n",
    "\n",
    "**III способ: использование операции `<<`.** Операция `<<` --- побитовый сдвиг влево (`m << n` --- означает умножение числа на $2^n$:  `3 << 2` это $3\\cdot 2^2 = 12$)."
   ]
  },
  {
   "cell_type": "code",
   "execution_count": 16,
   "id": "cb9b771b",
   "metadata": {},
   "outputs": [
    {
     "name": "stdout",
     "output_type": "stream",
     "text": [
      "I способ\n",
      "2 4 8 16 32 \n",
      "II способ\n",
      "2 4 8 16 32 \n",
      "III способ\n",
      "2 4 8 16 32 "
     ]
    }
   ],
   "source": [
    "print('I способ')\n",
    "for i in range(1, 6):\n",
    "    print(2**i, end=' ')\n",
    "\n",
    "print()\n",
    "print('II способ')\n",
    "m = 1\n",
    "for i in range(1, 6):\n",
    "    m = m * 2\n",
    "    print(m, end=' ')\n",
    "\n",
    "print()\n",
    "print('III способ')                      \n",
    "m = 1\n",
    "for i in range(1, 6):\n",
    "    print(m << i, end=' ')"
   ]
  },
  {
   "cell_type": "markdown",
   "id": "2661d1df",
   "metadata": {},
   "source": [
    "-----\n",
    "\n",
    "**ДЗ.** Приведите способ получения значений\n",
    "$$\n",
    "  2 \\ \\ 4 \\ \\ 8 \\ \\ 16 \\ \\ 32,\n",
    "$$\n",
    "используя операцию `>>`.\n",
    "\n",
    "----"
   ]
  },
  {
   "cell_type": "markdown",
   "id": "5bfde3d4",
   "metadata": {},
   "source": [
    "**Пример \"факториал\".** Дано натуральное $n$. Вычислить $n!$  с помощью цикла с параметром.\n",
    "\n",
    "На практике формулу\n",
    "$$  \n",
    "n!=1\\cdot 2\\cdot 3 \\cdot ... \\cdot n\\quad (0!=1).\n",
    "$$\n",
    "применяют лишь при небольших значениях $n$. Факториалы больших чисел могут быть найдены\n",
    "при помощи формулы Стирлинга\n",
    "$$\n",
    "  n!=\n",
    "  \\left(\\frac ne\\right)^n \\sqrt{2\\pi n}\n",
    "  \\left( 1+\\frac1{12n}+\\frac{1}{288n^2}+{\\dots} \\right).\n",
    "$$\n",
    "\n",
    "**Решение (для Pascal и проч.).** Результат вычисления $n!$ следует хранить  в переменной вещественного типа из-за возможного переполнения при использовании целого типа данных Integer:\n",
    "\n",
    "для 16-разрядных систем `MaxInt`$=32\\,767$:  \n",
    "$7! <$ `MaxInt` $< 8!$;\n",
    "\n",
    "для 32-разрядных систем `MaxInt`$=2\\,147\\,483\\,647$:    \n",
    "$12! <$ `MaxInt` $< 13!$\n",
    "\n",
    "**Программа 14n.2.3.**"
   ]
  },
  {
   "cell_type": "code",
   "execution_count": null,
   "id": "601a0910",
   "metadata": {},
   "outputs": [],
   "source": [
    "n = int(input())\n",
    "\n",
    "fact = 1                # 1\n",
    "for i in range(2, n+1):\n",
    "    fact = fact * i     # 2\n",
    "    \n",
    "print(f'{n}! = {fact}')"
   ]
  },
  {
   "cell_type": "code",
   "execution_count": 17,
   "id": "a54d4d18",
   "metadata": {},
   "outputs": [
    {
     "name": "stdin",
     "output_type": "stream",
     "text": [
      " 5\n"
     ]
    },
    {
     "name": "stdout",
     "output_type": "stream",
     "text": [
      "5! = 120\n"
     ]
    }
   ],
   "source": [
    "n = int(input())\n",
    "\n",
    "fact = n              # 1\n",
    "for i in range(n-1, 1, -1):\n",
    "    fact = fact * i   # 2\n",
    "    \n",
    "print(f'{n}! = {fact}')"
   ]
  },
  {
   "cell_type": "markdown",
   "id": "16c7c6ad",
   "metadata": {},
   "source": [
    "**Пример n!!.** Дано натуральное $n$. Получить $n!!$ по схеме:\n",
    "$$\n",
    "  n!!=\\left\\{\n",
    "   \\begin{array}{ll}\n",
    "      1\\cdot 3\\cdot{\\dots}\\cdot n, & \\text{если $n$ --- нечетное};\\\\\n",
    "      2\\cdot 4\\cdot{\\dots}\\cdot n, & \\text{если $n$ --- четное}.\n",
    "   \\end{array}\n",
    "  \\right.\n",
    "$$\n",
    "\n",
    "**Решение.**\n",
    "Имеем формулы для сомножителей ([...] --- целая часть):\n",
    "\n",
    "четные:    $2i$,   $i=1,2,\\dots, [n/2]$\n",
    "\n",
    "нечетные:  $2i-1$, $i=1,2,\\dots,[n/2] + 1$.\n",
    "\n",
    "**Общая формула**\n",
    "$$\n",
    "  \\verb\"2i - j\",\\quad\n",
    "  \\verb\"i = 1..n // 2 + j\",\n",
    "  \\quad\n",
    "  j = \\left\\{\n",
    "  \\begin{array}{ll}\n",
    "  0, & \\text{$n$ --- четное}, \\\\\n",
    "  1, & \\text{$n$ --- нечетное}.\n",
    "  \\end{array}\n",
    "  \\right.\n",
    "$$\n",
    "\n",
    "---\n",
    "**ДЗ.** Напишите программу для вычисления $n!!$, используя алгоритм нахождения $n!$ и предложеную общую формулу.\n",
    "\n",
    "*Ограничение:* в программе не должно быть выбирающих операторов.\n",
    "---"
   ]
  },
  {
   "cell_type": "markdown",
   "id": "63ecc6a2",
   "metadata": {},
   "source": [
    "**Пример 14n.2.5.** Определить является ли последовательность $n$ целых чисел возрастающей.\n",
    "\n",
    "Программу написать с использованием цикла `for`.\n",
    "\n",
    "**Решение.**\n",
    "$\\{a_i\\}_{i=1}^n$  возрастающая, если $a_{i-1}<a_i$ $\\forall\\, i$.\n",
    "\n",
    "**Замечание.** \n",
    "Для решения подобных задач оптимальнее использовать циклы с условиями: как только условие $a_{i-1}<a_i$ нарушится выполнение цикла должно закончиться.\n",
    "Однако такие задачи можно решать и с помощью цикла с параметром.\n",
    "\n"
   ]
  },
  {
   "cell_type": "code",
   "execution_count": 19,
   "id": "6d8586c3",
   "metadata": {},
   "outputs": [
    {
     "name": "stdin",
     "output_type": "stream",
     "text": [
      "n >>>  3\n"
     ]
    },
    {
     "name": "stdout",
     "output_type": "stream",
     "text": [
      "Вв. элементы: \n"
     ]
    },
    {
     "name": "stdin",
     "output_type": "stream",
     "text": [
      " 1\n",
      " 1\n"
     ]
    },
    {
     "name": "stdout",
     "output_type": "stream",
     "text": [
      "Посл. возр.  False\n"
     ]
    }
   ],
   "source": [
    "n = int(input('n >>> ')) # Ввод кол-ва элементов n\n",
    "\n",
    "print('Вв. элементы: ')\n",
    "\n",
    "a = int(input())\n",
    "vozr = True      # пусть посл-сть возрастающая\n",
    "for i in range(2, n+1):\n",
    "    f = a        # запоминаем предыдущий\n",
    "    a = int(input())\n",
    "    if f >= a:\n",
    "        vozr = False\n",
    "        break\n",
    "\n",
    "print('Посл. возр. ', vozr)"
   ]
  },
  {
   "cell_type": "markdown",
   "id": "21bb429b",
   "metadata": {},
   "source": [
    "Здесь обойтись оператором\n",
    "\n",
    "`vozr = not (f >= a)`\n",
    "\n",
    "нельзя, так как требуется факт переключения флажка, а не его последнее значение."
   ]
  },
  {
   "cell_type": "markdown",
   "id": "e4cd1ee1",
   "metadata": {},
   "source": [
    "**Пример 14n.2.6.**  Дано целое число $k$. Найти максимальный делитель $<k$."
   ]
  },
  {
   "cell_type": "code",
   "execution_count": null,
   "id": "608daed9",
   "metadata": {},
   "outputs": [],
   "source": [
    "k = 33\n",
    "for i in range(k // 2, 0, -1):\n",
    "    if k % i == 0:\n",
    "        D = i\n",
    "        break #  досрочно закончить цикл\n",
    "\n",
    "print('Maximal divisor =', D)"
   ]
  },
  {
   "cell_type": "markdown",
   "id": "5b5c9f95",
   "metadata": {},
   "source": [
    "`break` позволяет грубо выйти из цикла с параметром.\n",
    "\n",
    "Обычно использование безусловных процедур break, continue является плохой практикой программирования.\n",
    "\n",
    "Избежать использования процедуры `break` позволяет цикл с условием.\n",
    "\n",
    "**ДЗ.** Перепишите программу из Примера 14n.2.6, используя цикл с условием\n",
    "\n",
    "`(i != 1) and (k % i != 0)`\n"
   ]
  },
  {
   "cell_type": "markdown",
   "id": "9528cc75",
   "metadata": {},
   "source": [
    "----\n",
    "\n",
    "**Вложенные циклы и break.** Во вложенных циклах `break` закончит только цикл, в теле которого он стоит, но не тот, в который он вложен.\n",
    "\n",
    "**Пример break.2.** Вводятся пять строк. Прекратить ввод, как только в строке найдется два одинаковых соседних символа."
   ]
  },
  {
   "cell_type": "code",
   "execution_count": null,
   "id": "6b0e0649",
   "metadata": {},
   "outputs": [],
   "source": [
    "for n in range(5):\n",
    "    print('Работаем')\n",
    "    s = input('s (str) >>> ')\n",
    "    for i in range(0, len(s)-1):\n",
    "        if s[i] == s[i+1]:\n",
    "            print(f'{i=}; Прекратить ввод')\n",
    "            break  # Не остановит внешний цикл\n",
    "print('Stop')"
   ]
  },
  {
   "cell_type": "code",
   "execution_count": 2,
   "id": "bafe36bb",
   "metadata": {},
   "outputs": [
    {
     "name": "stdout",
     "output_type": "stream",
     "text": [
      "Работаем\n",
      "s (str) >>> 45\n",
      "Работаем\n",
      "s (str) >>> 55\n",
      "i=0; Прекратить ввод\n",
      "stop\n"
     ]
    }
   ],
   "source": [
    "# I способ: использование флага\n",
    "# НЕдостаток: Вынуждает нас использовать доп. переменную.\n",
    "\n",
    "for n in range(5):\n",
    "    flag = True \n",
    "    print('Работаем')\n",
    "    s = input('s (str) >>> ')\n",
    "    for i in range(0, len(s)-1):\n",
    "        if s[i] == s[i+1]:\n",
    "            print(f'{i=}; Прекратить ввод')\n",
    "            flag = False  # Не продолжать ВНЕШНИЙ ЦИКЛ\n",
    "    if not flag:\n",
    "        break\n",
    "            \n",
    "print('Stop')"
   ]
  },
  {
   "cell_type": "code",
   "execution_count": null,
   "id": "fd094675",
   "metadata": {},
   "outputs": [
    {
     "name": "stdout",
     "output_type": "stream",
     "text": [
      "Работаем\n"
     ]
    }
   ],
   "source": [
    "# II способ: использование той же проверки\n",
    "# НЕдостаток: Вынуждает нас делать лишние операции.\n",
    "\n",
    "for n in range(5):\n",
    "    print('Работаем')\n",
    "    s = input('s (str) >>> ')\n",
    "    for i in range(0, len(s)-1):\n",
    "        if s[i] == s[i+1]:\n",
    "            print(f'{i=}; Прекратить ввод')\n",
    "            break  # Выйти из внутреннего цикла\n",
    "    if s[i] == s[i+1]:\n",
    "        break  # Выйти из внешнего цикла\n",
    "            \n",
    "print('Stop')"
   ]
  },
  {
   "cell_type": "markdown",
   "id": "203f732d",
   "metadata": {},
   "source": [
    "## 14n.3. Циклы и else\n",
    "\n",
    "```python\n",
    "for <параметр цикла> in <итерируемый объект>:\n",
    "    <блок инструкций, содержащий break>\n",
    "else:\n",
    "    <блок инструкций ветки else>\n",
    "```\n",
    "\n",
    "`<Блок инструкций ветки else>` выполнится только в том случае, если выход из цикла произошел без помощи break.\n",
    "\n",
    "**Пример 14n.3.1.** Ищем в списке слов слово racoon."
   ]
  },
  {
   "cell_type": "code",
   "execution_count": 21,
   "id": "5a141803",
   "metadata": {},
   "outputs": [
    {
     "name": "stdout",
     "output_type": "stream",
     "text": [
      "racoon в списке нет\n"
     ]
    }
   ],
   "source": [
    "s = 'racoon'\n",
    "\n",
    "for w in ['cat', 'dog', 'mouse']:\n",
    "#for w in ['cat', 'dog', 'racoon']:\n",
    "    if w == s:\n",
    "        print(s, 'в списке есть')\n",
    "        break\n",
    "else:   # значит вышли не по break\n",
    "    print(s, 'в списке нет')"
   ]
  },
  {
   "cell_type": "markdown",
   "id": "d015ba58",
   "metadata": {},
   "source": [
    "------------\n",
    "Выше был пример \n",
    "\n",
    "**Пример break.2.** Вводятся пять строк. Прекратить ввод, как только в строке найдется два одинаковых соседних символа."
   ]
  },
  {
   "cell_type": "code",
   "execution_count": 2,
   "id": "dbd38ae5",
   "metadata": {},
   "outputs": [
    {
     "name": "stdout",
     "output_type": "stream",
     "text": [
      "Работаем\n",
      "s (str) >>> 56\n",
      "Работаем\n",
      "s (str) >>> 678\n",
      "Работаем\n",
      "s (str) >>> 78\n",
      "Работаем\n",
      "s (str) >>> 89\n",
      "Работаем\n",
      "s (str) >>> 90\n",
      "Stop\n"
     ]
    }
   ],
   "source": [
    "# III способ: Используется преимущества техники \"for-else\", \n",
    "# код под else будет выполняться только тогда,\n",
    "# когда внутренний цикл завершится без break.\n",
    "\n",
    "for n in range(5):\n",
    "    print('Работаем')\n",
    "    s = input('s (str) >>> ')\n",
    "    for i in range(0, len(s)-1):\n",
    "        if s[i] == s[i+1]:\n",
    "            print(f'{i=}; Прекратить ввод')\n",
    "            break  # Выйти из внутреннего цикла\n",
    "    else:  # Вышли без break\n",
    "        continue\n",
    "    break  # Выйти из внешнего цикла (если внутр. закончился по break)\n",
    "            \n",
    "print('Stop')"
   ]
  },
  {
   "cell_type": "markdown",
   "id": "cce0d28c",
   "metadata": {},
   "source": [
    "------------\n",
    "**Пример for-else.3.** Простой пример. Менее загруженный операторами печати код."
   ]
  },
  {
   "cell_type": "code",
   "execution_count": 9,
   "id": "f3337350",
   "metadata": {},
   "outputs": [
    {
     "name": "stdout",
     "output_type": "stream",
     "text": [
      "14\n"
     ]
    }
   ],
   "source": [
    "#\n",
    "for i in range(5):\n",
    "    for j in range(10):\n",
    "        if i + j == 7:\n",
    "            break\n",
    "    else:\n",
    "        continue\n",
    "        \n",
    "print(2*(i+j))"
   ]
  },
  {
   "cell_type": "markdown",
   "id": "feb72c9e",
   "metadata": {},
   "source": [
    "---------\n",
    "## 14n.3. IV способ выйти из вложенного цикла\n",
    "\n",
    "Решим пример for-else.3 с помощью функции. "
   ]
  },
  {
   "cell_type": "code",
   "execution_count": null,
   "id": "2c501d20",
   "metadata": {},
   "outputs": [],
   "source": [
    "# IV способ: Использование функций, \n",
    "# код под else будет выполняться только тогда,\n",
    "# когда внутренний цикл завершится без break.\n",
    "\n",
    "def f(n):\n",
    "    for i in range(5):\n",
    "        for j in range(10):\n",
    "            if i + j == n: # !!!\n",
    "                return 2*(i + j)\n",
    "    return -1  # если не нашли то, что искали\n",
    "\n",
    "n = int(input('n >>> '))\n",
    "print(f(n))"
   ]
  },
  {
   "cell_type": "markdown",
   "id": "21e56408",
   "metadata": {},
   "source": [
    "## Функции --- тема наших следующих лекций."
   ]
  },
  {
   "cell_type": "code",
   "execution_count": null,
   "id": "9df1bcbd",
   "metadata": {},
   "outputs": [],
   "source": []
  }
 ],
 "metadata": {
  "kernelspec": {
   "display_name": "Python 3 (ipykernel)",
   "language": "python",
   "name": "python3"
  },
  "language_info": {
   "codemirror_mode": {
    "name": "ipython",
    "version": 3
   },
   "file_extension": ".py",
   "mimetype": "text/x-python",
   "name": "python",
   "nbconvert_exporter": "python",
   "pygments_lexer": "ipython3",
   "version": "3.12.7"
  }
 },
 "nbformat": 4,
 "nbformat_minor": 5
}
