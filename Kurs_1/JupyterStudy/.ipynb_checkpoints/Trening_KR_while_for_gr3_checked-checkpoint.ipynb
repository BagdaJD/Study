{
 "cells": [
  {
   "cell_type": "markdown",
   "id": "ff7534ba",
   "metadata": {},
   "source": [
    "## Подготовка к КР по теме \"Циклы\" (задания, выполняемые без использование компьютера).  Вариант X\n",
    "\n",
    "### Внимание!! \n",
    "Тренировочная работа была сделана под влиянием высокой температуры. Предупреждаю заранее, что могут быть нерешаемые или бредовые задания. Прошу понять. ;("
   ]
  },
  {
   "cell_type": "markdown",
   "id": "f34b4a7c",
   "metadata": {},
   "source": [
    "***№ 1.*** Для каких начальных значений переменной $x$ завершится выполнение оператора цикла (указать интервал(ы) или пустое множество {∅}):\n",
    "\n",
    "1) `while x < 10: x = x * x - 90`      \n",
    "\n",
    "**Ответ 1:**\n",
    "\n",
    "2) `while x >= 0: x = abs(math.cos(x))` \n",
    "\n",
    "**Ответ 2:**\n",
    "\n",
    "3) `while x // 3 < 0: x = x + 2` \n",
    "\n",
    "**Ответ 3:**"
   ]
  },
  {
   "cell_type": "markdown",
   "id": "8b557eb7-3002-40e2-a351-eb346ac1e94c",
   "metadata": {},
   "source": [
    "1)(-oo; -9) u (-9; 9) u (9; 10) принадлежит R;\n",
    "\n",
    "2) пустое множество;\n",
    "\n",
    "3)(-oo; 0);"
   ]
  },
  {
   "cell_type": "markdown",
   "id": "2998bb33",
   "metadata": {},
   "source": [
    "-----\n",
    "***№ 2а).*** Дан фрагмент программы для получения значений $y$. Переписать программу, заменив цикл `while` циклом `for`. Дополнительные переменные не использовать.\n",
    "\n",
    "```python\n",
    "y = 1000\n",
    "i = 5\n",
    "while i < 11:\n",
    "    y = y // i\n",
    "    i = i + 2\n",
    "print(y)\n",
    "```\n",
    "\n",
    "Используйте шаблон:\n",
    "\n",
    "```python\n",
    "y = 1000\n",
    "for i in range(____, ____):\n",
    "    y =\n",
    "print(y)\n",
    "```"
   ]
  },
  {
   "cell_type": "code",
   "execution_count": 15,
   "id": "2342fe01",
   "metadata": {},
   "outputs": [
    {
     "name": "stdout",
     "output_type": "stream",
     "text": [
      "3\n",
      "3\n",
      "3\n"
     ]
    }
   ],
   "source": [
    "y = 1000\n",
    "i = 5\n",
    "while i < 11:\n",
    "    y = y // i\n",
    "    i = i + 2\n",
    "print(y)\n",
    "\n",
    "\n",
    "# Решение задание № 2а\n",
    "'''\n",
    "while\n",
    "i  | y     |i < 11 |\n",
    "5  |1000   | T     |\n",
    "7  |200    | T     |1 \n",
    "9  |20     | T     |2 \n",
    "11 |2      | F     |3 \n",
    "\n",
    "y = y // (2i + b)\n",
    "200 = 1000 // (2 + b)\n",
    "b = 3\n",
    "\n",
    "y = 200 // (4 + 3)\n",
    "y = 20\n",
    "'''\n",
    "#1By Bagda\n",
    "y = 1000\n",
    "for i in range(2, 5):\n",
    "    y = y // (2 * i + 1)\n",
    "print(y)\n",
    "\n",
    "#2By fuuuuu\n",
    "y = 1000\n",
    "for i in range(1, 4):\n",
    "    y = y // (2 * i + 3)\n",
    "print(y)\n",
    "# ..."
   ]
  },
  {
   "cell_type": "markdown",
   "id": "a82fcc8f",
   "metadata": {},
   "source": [
    "-----\n",
    "***№ 2б).*** Дан фрагмент программы для получения значений $y$. Переписать программу, заменив цикл `while` циклом `for`. Дополнительные переменные не использовать.\n",
    "\n",
    "```python\n",
    "y = 3\n",
    "i = 15\n",
    "while i >= 7:\n",
    "    y = y + i\n",
    "    i = i - 2\n",
    "print(y)\n",
    "```\n",
    "\n",
    "Используйте шаблон:\n",
    "\n",
    "```python\n",
    "y = 3\n",
    "for i in range(____, ____, -1):\n",
    "    y =\n",
    "print(y)\n",
    "```"
   ]
  },
  {
   "cell_type": "code",
   "execution_count": 8,
   "id": "70c34f12",
   "metadata": {},
   "outputs": [],
   "source": [
    "# Решение задание № 2б\n",
    "'''\n",
    "while\n",
    "i  | y     |i >= 7 |\n",
    "15 |3      | T     |\n",
    "13 |18     | T     |5 \n",
    "11 |31     | T     |4 \n",
    "9  |42     | T     |3 \n",
    "7  |51     |T      |2\n",
    "5  |58     |F      |1\n",
    "\n",
    "y = y + 2i + b\n",
    "18 = 3 + 10 + b\n",
    "b = 5\n",
    "\n",
    "31 = 18 + 8 + b(5)\n",
    "+++++++++\n",
    "\n",
    "'''\n",
    "#1By fuuuuuuuuuuuuuuuuuuuuuuuuuuuuu\n",
    "y = 3\n",
    "for i in range(5, 0, -1):\n",
    "    y = y + (2*i + 5)\n",
    "print(y)\n",
    "\n",
    "#2By Bagda\n",
    "y = 3\n",
    "for i in range(8, 2, -1):\n",
    "    y = y + (2*i - 1)\n",
    "print(y)\n",
    "# ..."
   ]
  },
  {
   "cell_type": "code",
   "execution_count": 4,
   "id": "0f31ce22",
   "metadata": {},
   "outputs": [
    {
     "name": "stdout",
     "output_type": "stream",
     "text": [
      "4\n",
      "48\n",
      "384\n"
     ]
    }
   ],
   "source": [
    "y = 4\n",
    "i = 12\n",
    "print(y)\n",
    "while i > 7:\n",
    "    y = y * i\n",
    "    i = i - 4\n",
    "    print(y)"
   ]
  },
  {
   "cell_type": "code",
   "execution_count": 7,
   "id": "4c720c20",
   "metadata": {},
   "outputs": [
    {
     "name": "stdout",
     "output_type": "stream",
     "text": [
      "4\n",
      "48\n",
      "384\n"
     ]
    }
   ],
   "source": [
    "y = 4\n",
    "print(y)\n",
    "for i in range( 2 , 0 , -1):\n",
    "    y = y * (4 * i + 4)\n",
    "    \n",
    "    print(y)"
   ]
  },
  {
   "cell_type": "code",
   "execution_count": null,
   "id": "c9efdafb",
   "metadata": {},
   "outputs": [],
   "source": [
    "y  | i\n",
    "4  | 12\n",
    "\n",
    "48 | 8\n",
    "384| 4\n",
    "\n",
    "i | y\n",
    "  | 4\n",
    "2 | 48\n",
    "1 | 384\n",
    "\n",
    "y = y * (4 * i + b)\n",
    "\n",
    "i = 2\n",
    "48 = 4 * (4 * 2 + b) ==> 48 = 32 + 4b ==> b = 4\n",
    "\n",
    "y = y * (4 * i + 4)\n",
    "\n",
    "i = 1\n",
    "y = 48 * (4 + 4) = 48 * 8 = 384"
   ]
  },
  {
   "cell_type": "code",
   "execution_count": 2,
   "id": "0c438907",
   "metadata": {},
   "outputs": [
    {
     "data": {
      "text/plain": [
       "384"
      ]
     },
     "execution_count": 2,
     "metadata": {},
     "output_type": "execute_result"
    }
   ],
   "source": [
    "y = \n",
    "i = \n",
    "\n",
    "while ... :\n",
    "    y = y + # какая операция тут, такая и в for; отсюда берем y и операция\n",
    "    i = i - c # отсюда берем только число => c * i\n",
    "    \n",
    "    \n",
    "y = y + i  ==> y = y + c * i + b\n",
    "y = y - i  ==> y = y - (c * i + b)\n",
    "y = y * i  ==> y = y * (c * i + b)\n",
    "y = y // i ==> y = y // (c * i + b)\n",
    "\n",
    "\n",
    "i = i + c ==> нормальный range\n",
    "i = i - c ==> range в обратную сторону "
   ]
  },
  {
   "cell_type": "markdown",
   "id": "06263230",
   "metadata": {},
   "source": [
    "----\n",
    "***№ 3.***\n",
    "Записать соотношения для вычисления всех членов последовательности $y_i$:\n",
    "$$    \n",
    "1, \\quad  \\frac{x^2}{2!}, \\quad  \\frac{x^4}{4!}, \\quad  \n",
    "\\frac{x^6}{6!},\\quad  ... \n",
    "$$\n",
    "\n",
    "*Указание.* При записи формул используйте только традиционные математические символы (не знаки операций из ЯП). \n",
    "\n",
    "**Начальное значение $y_i$ с конкретным указанием $i$**: ____ ____    (пример вида ответа: $y_0=x$)\n",
    "    \n",
    "**Рек. соотношение для $y_i$**: ____ ____      (пример вида ответа: $y_i=-y_{i-1}\\frac{i+1}{i}$)\n",
    "\n",
    "**Интервал изменения $i$ для рек. соотношения**: ____ ____    (пример вида ответа: $i=1,2,...$)\n",
    "\n",
    "*Внимание!* примеры носят иллюстративный характер.\n",
    "\n",
    "----\n",
    "Ниже приведены окошки для вставки ваших ответов. Это рисунок, который можно скопировать, исправить в Paint (например) и вставить обратно в jupyter. "
   ]
  },
  {
   "cell_type": "code",
   "execution_count": null,
   "id": "95251f49-30ff-4f82-bcf4-eb13d3b9df43",
   "metadata": {},
   "outputs": [],
   "source": [
    "'''\n",
    "i = 0\n",
    "y_0 = 1\n",
    "\n",
    "y_i = x ** 2(i) / fact(2i)\n",
    "\n",
    "\n",
    "y_i = c * y_i-1\n",
    "c = y_i / y_i-1\n",
    "\n",
    "c = (x ** 2(i + 1) / fact(2(i + 1))) / ( x ** (2i) / fact(2i))\n",
    "\n",
    "\n",
    "Ответ:\n",
    "y_0 = 1\n",
    "y_i = x * x / (2i) / (2*i - 1) * y_i-1\n",
    "i = 1, 2, 3, ....\n",
    "'''"
   ]
  },
  {
   "attachments": {
    "image.png": {
     "image/png": "[encoded data removed]"
    }
   },
   "cell_type": "markdown",
   "id": "9cb270a8",
   "metadata": {},
   "source": [
    "![image.png](attachment:image.png)"
   ]
  },
  {
   "cell_type": "markdown",
   "id": "096dfff8",
   "metadata": {},
   "source": [
    "$$\n",
    "y_0 = 1; \\qquad y_i = y_{i-1} \\cdot \\dfrac{x^2}{2i (2i-1)}; \\qquad i = 1, 2, 3, \\dots\n",
    "$$"
   ]
  },
  {
   "cell_type": "markdown",
   "id": "f84e6903",
   "metadata": {},
   "source": [
    "$$\n",
    "-x, \\quad \\dfrac{x^3}{3 \\cdot 5!}, \\quad -\\dfrac{x^5}{5 \\cdot 7!}\n",
    "$$"
   ]
  },
  {
   "cell_type": "markdown",
   "id": "3cc586cd",
   "metadata": {},
   "source": [
    "$$\n",
    "y _i = (-1)^{(i+1)} \\cdot \\dfrac{x^{2i+1}}{(2i+1) \\cdot (2i+3)!}\n",
    "$$\n",
    "\n"
   ]
  },
  {
   "cell_type": "markdown",
   "id": "26397436",
   "metadata": {},
   "source": [
    "$$\n",
    "\\dfrac{y_i}{y_{i-1}} = (-1)^{(i+1)} \\cdot \\dfrac{x^{2i+1}}{(2i+1) \\cdot (2i+3)!} \\cdot  \\dfrac{(2i-1) \\cdot (2i+1)!}{x^{2i-1} \\cdot (-1)^{(i)} } = -\\dfrac{x^2 (2i-1)}{(2i+1)(2i+2)(2i+3)}\n",
    "$$\n",
    "\n",
    "\n"
   ]
  },
  {
   "cell_type": "markdown",
   "id": "d59ccd11",
   "metadata": {},
   "source": [
    "$$\n",
    "y_0 = -x; \\qquad y_i = -y_{i-1} \\cdot -\\dfrac{x^2 (2i-1)}{(2i+1)(2i+2)(2i+3)}; \\qquad i = 1, 2, \\dots\n",
    "$$"
   ]
  },
  {
   "cell_type": "markdown",
   "id": "954895fc",
   "metadata": {},
   "source": [
    "----\n",
    "***№ 4.*** **Полностью** написать программу, которая решает следующую задачу: дано $b ∈ R$.\n",
    "Найти первый член последовательности $a_i$ ($i = 1,2, ...$), меньший $b$. Последовательность $a_1$,\n",
    "$a_2$,... образована по закону:\n",
    "$$\n",
    "  a_1 = 1, \\ \\  a_i = a_{i−1}\\cdot \\frac{i-1}{i+1}\\ \\ \\ (i = 2, 3,...).\n",
    "$$\n",
    "\n",
    "**Что значит «полностью» написать программу:** в программе должны присутствовать операторы ввода данного и вывода ответа."
   ]
  },
  {
   "cell_type": "code",
   "execution_count": 16,
   "id": "d1564345",
   "metadata": {},
   "outputs": [
    {
     "name": "stdout",
     "output_type": "stream",
     "text": [
      "0.4\n",
      "  1 |  1.000 |  True\n",
      "  2 |  0.333 | False\n",
      "0.3333333333333333\n"
     ]
    }
   ],
   "source": [
    "# Решение задание № 4\n",
    "\n",
    "b = float(input()) \n",
    "\n",
    "a = 1\n",
    "i = 1\n",
    "\n",
    "print('%3d | %6.3f | %5s' % (i, a, a >= b ))\n",
    "\n",
    "while a >= b:\n",
    "    i += 1\n",
    "    a = a * (i - 1) / (i + 1)\n",
    "    print('%3d | %6.3f | %5s' % (i, a, a >= b ))\n",
    "    \n",
    "    \n",
    "print(a)\n",
    "# ..."
   ]
  },
  {
   "cell_type": "markdown",
   "id": "7d268a7f",
   "metadata": {},
   "source": [
    "----\n",
    "***№ 5.*** Полностью написать программу, которая решает следующую задачу: дано $n ∈ N$.\n",
    "Вычислить сумму:\n",
    "$$    \n",
    "\\sum_{i=1}^n \\frac{(−1)^{i-1}}{2i + 1}.\n",
    "$$\n",
    "\n",
    "*Указание.* В программе запрещено использовать выбирающие операторы; операцию `**`; функцию\n",
    "`pow()`; экспоненциально-логарифмическую запись; рекуррентную формулу для вычисления отдельного \n",
    "слагаемого $y_i$ в сумме $\\sum\\limits_{i=1}^n y_i$."
   ]
  },
  {
   "cell_type": "code",
   "execution_count": 27,
   "id": "5d9b0d95",
   "metadata": {},
   "outputs": [
    {
     "name": "stdin",
     "output_type": "stream",
     "text": [
      " 5\n"
     ]
    },
    {
     "name": "stdout",
     "output_type": "stream",
     "text": [
      "0.255988455988456\n"
     ]
    }
   ],
   "source": [
    "# Решение задание № 5\n",
    "from sympy import cos #для потомков\n",
    "# ...\n",
    "n = int(input())\n",
    "\n",
    "z = 1\n",
    "y = z / 3\n",
    "s = y\n",
    "\n",
    "for i in range(2, n + 1):\n",
    "    z = -z\n",
    "    y = z / (2*i + 1)\n",
    "    s += y\n",
    "\n",
    "print(s)"
   ]
  },
  {
   "cell_type": "markdown",
   "id": "01559b97",
   "metadata": {},
   "source": [
    "-------------\n",
    "## II часть (с использованием компьютера)\n",
    "\n",
    "Перед началом работы обязательно переименуйте данный файл. Для этого выберите пункт меню File, затем Rename... В открывшемся окне, замените имя файла на свои фамилию и имя (без пробела), записанные латинскими символами. Затем замените цифру 0 после gr на номер своей группы (1, 2, 3, 4, 5 или 6).\n",
    "\n",
    "Например, этот файл студента Иванова Петра из 1 группы должен называться IvanovPetr_gr1_varX\n",
    "\n",
    "------------"
   ]
  },
  {
   "cell_type": "markdown",
   "id": "0eb16091",
   "metadata": {},
   "source": [
    "***№ 6.*** Проверить, верно ли, что в записи введенного натурального числа все цифры  кратны трём. Как только условие будет нарушено, работу цикла прекратить.\n",
    "\n",
    "**№ 6A (while).** Напишите программу для решения задания 6, выполнив следующие указания:\n",
    "\n",
    "6А.1. В программе запрещено использовать ЛЮБЫЕ выбирающие операторы или конструкции, а также оператор `break`.\n",
    "\n",
    "6А.2. В программе обязательно должны присутствовать операторы для построения трассировочной таблицы и вывода ответа --- `True` или `False`."
   ]
  },
  {
   "cell_type": "code",
   "execution_count": null,
   "id": "7e3defea",
   "metadata": {},
   "outputs": [],
   "source": [
    "# один ввод на два пункта A, B\n",
    "# лучше не портить данные пользователя\n",
    "\n",
    "# A:\n",
    "# ВСЕ цифры => в заголовке цикла == И принт ответа N == 0\n",
    "# ЕСТЬ цифры => в заголовке цикла != И принт ответа N != 0\n",
    "\n",
    "#B: \n",
    "# ВСЕ цифры => в if  != (плохое условие ) И принт ответа N == 0\n",
    "# ЕСТЬ цифры => в if == (хорошее условие) И принт ответа N != 0"
   ]
  },
  {
   "cell_type": "code",
   "execution_count": 20,
   "id": "2e4829ca",
   "metadata": {},
   "outputs": [
    {
     "name": "stdout",
     "output_type": "stream",
     "text": [
      "n >>>  3\n",
      "     3  3    True    True    True\n",
      "     0  0   False    True   False\n",
      "True\n"
     ]
    }
   ],
   "source": [
    "# решение задания 6A\n",
    "# ...\n",
    "\n",
    "n = int(input('n >>>  '))\n",
    "N = n\n",
    "\n",
    "a = N % 10\n",
    "\n",
    "print('%6d %2d %7s %7s %7s' %(N, a, N > 0, a % 3 == 0, N > 0 and a % 3 == 0))\n",
    "\n",
    "while N > 0 and a % 3 == 0:\n",
    "    N //= 10\n",
    "    a = N % 10\n",
    "    print('%6d %2d %7s %7s %7s' %(N, a, N > 0, a % 3 == 0, N > 0 and a % 3 == 0))\n",
    "\n",
    "\n",
    "print(N == 0)    "
   ]
  },
  {
   "cell_type": "markdown",
   "id": "853947a2",
   "metadata": {},
   "source": [
    "---- \n",
    "**№ 6B (while, break).** Напишите программу для решения задания 6, выполнив следующие *указания*:\n",
    "\n",
    "6B.1. В программе используйте по ОДНОМУ разу: `while`, `if`, `break`, `print()`.\n",
    "\n",
    "6B.2. Не использовать булевские переменные.\n",
    "\n",
    "6B.3. В программе обязательно должен присутствовать оператор для вывода ответа --- `True` или \n",
    "`False`."
   ]
  },
  {
   "cell_type": "code",
   "execution_count": 36,
   "id": "126cae03",
   "metadata": {},
   "outputs": [
    {
     "name": "stdout",
     "output_type": "stream",
     "text": [
      "False\n"
     ]
    }
   ],
   "source": [
    "# решение задания 6B\n",
    "# ...\n",
    "N = n\n",
    "\n",
    "a = N % 10\n",
    "while N > 0:\n",
    "    if a % 3 != 0:\n",
    "        break\n",
    "    N //= 10\n",
    "    \n",
    "print(N == 0)"
   ]
  },
  {
   "cell_type": "markdown",
   "id": "1657a84e",
   "metadata": {},
   "source": [
    "## Проверить, что в записи натурального числа $n$ есть цифра из отрезка [4; 7]"
   ]
  },
  {
   "cell_type": "code",
   "execution_count": 37,
   "id": "4f79d5a6",
   "metadata": {},
   "outputs": [
    {
     "name": "stdout",
     "output_type": "stream",
     "text": [
      "n >>> 1223132131999\n",
      "1223132131999 | 9 |  True |  True |  True\n",
      "122313213199 | 9 |  True |  True |  True\n",
      "12231321319 | 9 |  True |  True |  True\n",
      "1223132131 | 1 |  True |  True |  True\n",
      " 122313213 | 3 |  True |  True |  True\n",
      "  12231321 | 1 |  True |  True |  True\n",
      "   1223132 | 2 |  True |  True |  True\n",
      "    122313 | 3 |  True |  True |  True\n",
      "     12231 | 1 |  True |  True |  True\n",
      "      1223 | 3 |  True |  True |  True\n",
      "       122 | 2 |  True |  True |  True\n",
      "        12 | 2 |  True |  True |  True\n",
      "         1 | 1 |  True |  True |  True\n",
      "         0 | 0 | False |  True | False\n",
      "False\n"
     ]
    }
   ],
   "source": [
    "### A\n",
    "n = int(input('n >>> '))\n",
    "N = n\n",
    "\n",
    "d = N % 10\n",
    "print('%10d | %1d | %5s | %5s | %5s' % (N, d, N > 0, d < 4 or d > 7, N > 0 and d < 4 or d > 7))\n",
    "\n",
    "while N > 0 and (d < 4 or d > 7):\n",
    "    N = N // 10\n",
    "    d = N % 10\n",
    "    print('%10d | %1d | %5s | %5s | %5s' % (N, d, N > 0, d < 4 or d > 7, N > 0 and d < 4 or d > 7))\n",
    "    \n",
    "print(N > 0)"
   ]
  },
  {
   "cell_type": "code",
   "execution_count": 38,
   "id": "0a99fa76",
   "metadata": {},
   "outputs": [
    {
     "name": "stdout",
     "output_type": "stream",
     "text": [
      "False\n"
     ]
    }
   ],
   "source": [
    "# B\n",
    "N = n\n",
    "\n",
    "d = N % 10\n",
    "\n",
    "while N > 0:\n",
    "    if d >= 4 and d <= 7:\n",
    "        break\n",
    "    N = N // 10\n",
    "    d = N % 10\n",
    "\n",
    "    \n",
    "print(N > 0)"
   ]
  },
  {
   "cell_type": "markdown",
   "id": "94c9f149",
   "metadata": {},
   "source": [
    "----\n",
    "***№ 7.*** Дано $x \\in R$. \n",
    "Написать программу для получения и вывода на печать всех членов последовательности\n",
    "$$    \n",
    "1, \\quad  \\frac{x^2}{2!}, \\quad  \\frac{x^4}{4!}, \\quad  \n",
    "\\frac{x^6}{6!},\\quad  ...\n",
    "$$\n",
    "больших, либо равных по модулю $\\varepsilon =10^{-5}$, а также их номеров.\n",
    "\n",
    "*Указания.* 1) Используйте соотношения, полученные в задании 3. 2) Неоправданное использование дополнительных переменных и лишних операций понижает оценку учащегося."
   ]
  },
  {
   "cell_type": "code",
   "execution_count": 14,
   "id": "b11c8046",
   "metadata": {},
   "outputs": [],
   "source": [
    "# (трасса) если считаем бесконечную сумму => \n",
    "#                        2 принта (один до цикла, второй последней строкой в цикле)\n",
    "\n",
    "\n",
    "# (просто вывод подходящих) если выводим члены последовательности => \n",
    "#                       1 принт (первая строка в цикле) "
   ]
  },
  {
   "cell_type": "code",
   "execution_count": 13,
   "id": "98d6a699",
   "metadata": {},
   "outputs": [
    {
     "name": "stdout",
     "output_type": "stream",
     "text": [
      "x >>> 5\n",
      "  0.  1.000000\n",
      "  1. 12.500000\n",
      "  2. 26.041667\n",
      "  3. 21.701389\n",
      "  4.  9.688120\n",
      "  5.  2.691144\n",
      "  6.  0.509686\n",
      "  7.  0.070012\n",
      "  8.  0.007293\n",
      "  9.  0.000596\n",
      " 10.  0.000039\n"
     ]
    }
   ],
   "source": [
    "# решение задания 7\n",
    "'''\n",
    "y_0 = 1\n",
    "y_i = x * x / (2i) / (2*i - 1) * y_i-1\n",
    "i = 1, 2, 3, ...\n",
    "'''\n",
    "# ...\n",
    "x = float(input('x >>> '))\n",
    "\n",
    "eps = 1e-05 \n",
    "i = 0\n",
    "y = 1\n",
    "\n",
    "while y >= eps:\n",
    "    print('%3d. %9.6f' % (i, y))\n",
    "    i += 1\n",
    "    y = x * x / (2*i) / (2 * i - 1)  *  y\n"
   ]
  },
  {
   "cell_type": "markdown",
   "id": "0ddcc4b1",
   "metadata": {},
   "source": [
    "----\n",
    "***№ 8.*** Даны $n\\in N$, $x\\in R$.\n",
    "Оформить в виде двух подпрограмм с параметрами вычисление следующих выражений\n",
    "$$\n",
    "  f_1 =\\sin x + \\frac{1}{2}\\sin^2 x + {\\dots} + \\frac{1}{n}\\sin^n x,\\quad   f_2 = \\frac{1}{x^2}.\n",
    "$$\n",
    "\n",
    "Вычислить:\n",
    "$$\n",
    "  y =\n",
    "  \\left\\{\n",
    "    \\begin{array}{ll}\n",
    "      f_1,  & \\text{если $-1<x<0$}, \\\\\n",
    "      f_2, & \\text{в противном случае}.\n",
    "    \\end{array}\n",
    "  \\right.\n",
    "$$\n",
    "\n",
    "Для случая **не**выполнения условия $-1<x<0$ дополнительно нарисовать фрагмент графика функции $f_2$ с помощью функции `plot` пакета `sympy` на $[0.25; 2.25]$.\n",
    "\n",
    "*Указания и примечания.* 1) Вложенные циклы не использовать.\n",
    "2) Программа в любом случае должна выдавать ответ (числовой, графический или строковый)."
   ]
  },
  {
   "cell_type": "code",
   "execution_count": 25,
   "id": "b3d1756e",
   "metadata": {},
   "outputs": [
    {
     "name": "stdout",
     "output_type": "stream",
     "text": [
      "-_- natural ???? >>> 10\n",
      "0_0 real(not natural!!!!!!) >>>>5\n",
      "f2 = 0.04\n"
     ]
    }
   ],
   "source": [
    "# решение задания 8\n",
    "# ...\n",
    "from sympy import Symbol, sin, plot \n",
    "\n",
    "def f1(n, x):\n",
    "    sin_ = sin(x)\n",
    "   \n",
    "    s = sin_\n",
    "    for i in range(2, n + 1):\n",
    "        sin_ = sin_ * sin(x)\n",
    "        a = 1 / i\n",
    "        s += sin_ * a\n",
    "    return s\n",
    "\n",
    "\n",
    "def f2(x):\n",
    "    return 1 / x / x\n",
    "\n",
    "\n",
    "n = int(input('-_- natural ???? >>> '))\n",
    "x = float(input('0_0 real(not natural!!!!!!) >>>>'))\n",
    "\n",
    "\n",
    "if x < 0 and x > -1:\n",
    "    y = f1(n, x)\n",
    "    print('f1 =', y)\n",
    "else:\n",
    "    if x == 0:\n",
    "        print('Не может быть вычислено f2(x)')\n",
    "        X = Symbol('x')\n",
    "        plot(f2(X), (X, 0.25, 2.25))\n",
    "    else:\n",
    "        y = f2(x)\n",
    "        print('f2 =', y)"
   ]
  },
  {
   "cell_type": "code",
   "execution_count": 49,
   "id": "9baa8d7b",
   "metadata": {},
   "outputs": [
    {
     "name": "stdout",
     "output_type": "stream",
     "text": [
      "Requirement already satisfied: matplotlib in c:\\users\\aydinyan bagdasar\\anaconda3\\lib\\site-packages (3.9.2)Note: you may need to restart the kernel to use updated packages.\n",
      "\n",
      "Requirement already satisfied: contourpy>=1.0.1 in c:\\users\\aydinyan bagdasar\\anaconda3\\lib\\site-packages (from matplotlib) (1.2.0)\n",
      "Requirement already satisfied: cycler>=0.10 in c:\\users\\aydinyan bagdasar\\anaconda3\\lib\\site-packages (from matplotlib) (0.11.0)\n",
      "Requirement already satisfied: fonttools>=4.22.0 in c:\\users\\aydinyan bagdasar\\anaconda3\\lib\\site-packages (from matplotlib) (4.51.0)\n",
      "Requirement already satisfied: kiwisolver>=1.3.1 in c:\\users\\aydinyan bagdasar\\anaconda3\\lib\\site-packages (from matplotlib) (1.4.4)\n",
      "Requirement already satisfied: numpy>=1.23 in c:\\users\\aydinyan bagdasar\\anaconda3\\lib\\site-packages (from matplotlib) (1.26.4)\n",
      "Requirement already satisfied: packaging>=20.0 in c:\\users\\aydinyan bagdasar\\anaconda3\\lib\\site-packages (from matplotlib) (24.1)\n",
      "Requirement already satisfied: pillow>=8 in c:\\users\\aydinyan bagdasar\\anaconda3\\lib\\site-packages (from matplotlib) (10.4.0)\n",
      "Requirement already satisfied: pyparsing>=2.3.1 in c:\\users\\aydinyan bagdasar\\anaconda3\\lib\\site-packages (from matplotlib) (3.1.2)\n",
      "Requirement already satisfied: python-dateutil>=2.7 in c:\\users\\aydinyan bagdasar\\anaconda3\\lib\\site-packages (from matplotlib) (2.9.0.post0)\n",
      "Requirement already satisfied: six>=1.5 in c:\\users\\aydinyan bagdasar\\anaconda3\\lib\\site-packages (from python-dateutil>=2.7->matplotlib) (1.16.0)\n"
     ]
    }
   ],
   "source": [
    "pip install matplotlib\n"
   ]
  },
  {
   "attachments": {
    "c826b5ab-5396-4d90-8d82-41b70a05eb07.png": {
     "image/png": "[encoded data removed]"
    }
   },
   "cell_type": "markdown",
   "id": "3aa0751c-475b-4acd-8368-81eca7b37d06",
   "metadata": {},
   "source": [
    "![image.png](attachment:c826b5ab-5396-4d90-8d82-41b70a05eb07.png)\n"
   ]
  },
  {
   "cell_type": "code",
   "execution_count": 54,
   "id": "fd6ca1f7-5ac3-40b0-ac88-879c9f477a8a",
   "metadata": {},
   "outputs": [
    {
     "name": "stdin",
     "output_type": "stream",
     "text": [
      "real x >>>  10.567\n"
     ]
    },
    {
     "data": {
      "image/png": "[encoded data removed]",
      "text/plain": [
       "<Figure size 640x480 with 1 Axes>"
      ]
     },
     "metadata": {},
     "output_type": "display_data"
    },
    {
     "data": {
      "text/plain": [
       "<sympy.plotting.backends.matplotlibbackend.matplotlib.MatplotlibBackend at 0x222419562a0>"
      ]
     },
     "execution_count": 54,
     "metadata": {},
     "output_type": "execute_result"
    }
   ],
   "source": [
    "from sympy import *\n",
    "\n",
    "def f(x):\n",
    "    y = x * x * exp(-abs(x))\n",
    "    return y\n",
    "\n",
    "\n",
    "x = float(input('real x >>> '))\n",
    "X = Symbol('x')\n",
    "\n",
    "plot(f(X), (X, -1, 3))"
   ]
  },
  {
   "cell_type": "code",
   "execution_count": 28,
   "id": "baaf3fcf-fa17-42eb-9b70-0a435ffc141e",
   "metadata": {},
   "outputs": [
    {
     "name": "stdout",
     "output_type": "stream",
     "text": [
      "1/3\n"
     ]
    },
    {
     "data": {
      "text/plain": [
       "0.3333333333333333"
      ]
     },
     "execution_count": 28,
     "metadata": {},
     "output_type": "execute_result"
    }
   ],
   "source": [
    "float(eval(input()))"
   ]
  },
  {
   "cell_type": "code",
   "execution_count": 30,
   "id": "b37e45c2",
   "metadata": {},
   "outputs": [
    {
     "data": {
      "text/plain": [
       "9"
      ]
     },
     "execution_count": 30,
     "metadata": {},
     "output_type": "execute_result"
    }
   ],
   "source": [
    "eval('4 + 5 ')"
   ]
  },
  {
   "cell_type": "code",
   "execution_count": null,
   "id": "0f447dfe",
   "metadata": {},
   "outputs": [],
   "source": []
  }
 ],
 "metadata": {
  "kernelspec": {
   "display_name": "Python 3 (ipykernel)",
   "language": "python",
   "name": "python3"
  },
  "language_info": {
   "codemirror_mode": {
    "name": "ipython",
    "version": 3
   },
   "file_extension": ".py",
   "mimetype": "text/x-python",
   "name": "python",
   "nbconvert_exporter": "python",
   "pygments_lexer": "ipython3",
   "version": "3.11.1"
  }
 },
 "nbformat": 4,
 "nbformat_minor": 5
}
