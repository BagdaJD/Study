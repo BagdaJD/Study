{
 "cells": [
  {
   "cell_type": "code",
   "execution_count": 1,
   "id": "dc94328c-5e7e-4c7d-b2fc-ebe5250ae42e",
   "metadata": {},
   "outputs": [
    {
     "name": "stdout",
     "output_type": "stream",
     "text": [
      "400\n"
     ]
    }
   ],
   "source": [
    "a = 100\n",
    "print(a << 2)\n"
   ]
  },
  {
   "cell_type": "code",
   "execution_count": 2,
   "id": "d4ecd7ac-9be4-4ae2-806b-bbbd5f59f481",
   "metadata": {},
   "outputs": [
    {
     "name": "stdout",
     "output_type": "stream",
     "text": [
      "25\n"
     ]
    }
   ],
   "source": [
    "print(a>>2)"
   ]
  },
  {
   "cell_type": "code",
   "execution_count": 3,
   "id": "0402f82a-3d00-4be4-8ff7-efbf126bc2d8",
   "metadata": {},
   "outputs": [
    {
     "name": "stdout",
     "output_type": "stream",
     "text": [
      "1100100\n",
      "11001\n"
     ]
    }
   ],
   "source": [
    "print(bin(a)[2:])\n",
    "print(bin(a >> 2)[2:])"
   ]
  },
  {
   "cell_type": "code",
   "execution_count": null,
   "id": "34aa017f-0c43-4031-a061-825f2f107947",
   "metadata": {},
   "outputs": [],
   "source": []
  }
 ],
 "metadata": {
  "kernelspec": {
   "display_name": "Python 3 (ipykernel)",
   "language": "python",
   "name": "python3"
  },
  "language_info": {
   "codemirror_mode": {
    "name": "ipython",
    "version": 3
   },
   "file_extension": ".py",
   "mimetype": "text/x-python",
   "name": "python",
   "nbconvert_exporter": "python",
   "pygments_lexer": "ipython3",
   "version": "3.12.5"
  }
 },
 "nbformat": 4,
 "nbformat_minor": 5
}
