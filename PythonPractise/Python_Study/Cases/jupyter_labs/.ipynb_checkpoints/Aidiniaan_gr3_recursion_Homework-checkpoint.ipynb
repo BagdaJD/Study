{
 "cells": [
  {
   "cell_type": "markdown",
   "id": "3207a43d",
   "metadata": {},
   "source": [
    "# <span style=\"color: DarkMagenta\">Задачи для практического занятия по курсу:</span>\n",
    "\n",
    "## <span style=\"color: Purple\">\"Основы алгоритмизации и программирования\"</span>\n",
    "\n",
    "### Лабораторная работа № 5 по теме \"Рекурсивные П/П\" (&#128293; домашнее задание) &#128104;&#8205;&#127891;\n",
    "\n",
    "#### Преподаватель практики: Т.Ф. Долгих, каф. ВМ и МФ, мехмат ЮФУ &#128105;&#8205;&#127979;\n",
    "\n",
    "-----------\n",
    "\n",
    "<span style=\"color: DarkRed\">**Переименовать файл:**</span> File -> Rename... -> поменять NameStud на свою фамилию, записанную латинскими буквами -> нажать Rename.\n",
    "\n",
    "-----------\n",
    "\n",
    "<span style=\"color: DarkGreen\">**Общие указания:**</span>\n",
    "примеры работы программ, данные в заданиях &mdash; это ТОЛЬКО образцы, а не обязатальные условия, при которых должна работать программа. Придумывайте свои примеры &#128530;!\n",
    "\n",
    "-----------\n",
    "\n",
    "&#128187; **Задание 5.7.** \n",
    "Дано $x \\in \\mathbb{R}$, $n \\in \\mathbb{N}$.\n",
    "Вычислить\n",
    "$$\n",
    "\\varphi(x) = -T_0(x) + 2T_1(x) - 3T_2(x) + 4T_3(x) -  \\ldots + (-1)^{n+1} (n+1) T_n(x),\n",
    "$$\n",
    "где $T_k(x)$ &mdash; многочлен Чебышёва первого рода, которые определяются рекуррентными соотношениями\n",
    "$$ \n",
    "T_0(x) = 1, \\quad\n",
    "T_1(x) = x, \\quad\n",
    "T_k(x) = 2x T_{k-1}(x) - T_{k-2}(x), \\quad\n",
    "k = 2, 3, 4, \\ldots\n",
    "$$\n",
    "\n",
    "*Указания.*\n",
    "1. Описать рекурсивную функцию для вычисления многочлена Чебышёва $T_k(x)$.\n",
    "2. При вычислении функции $\\varphi(x)$ использовать цикл.\n",
    "3. Составить тестовый пример (фото с тестовым примером прикрепить вместе с заданием)."
   ]
  },
  {
   "cell_type": "code",
   "execution_count": 9,
   "id": "b90e1afc",
   "metadata": {},
   "outputs": [
    {
     "name": "stdin",
     "output_type": "stream",
     "text": [
      "x >>>  0.5\n",
      "n >>>  3\n"
     ]
    },
    {
     "name": "stdout",
     "output_type": "stream",
     "text": [
      "phi(0.5, 3) = -2.5\n"
     ]
    }
   ],
   "source": [
    "def cheb(x, n):\n",
    "    if n == 0:\n",
    "        return 1\n",
    "    if n == 1:\n",
    "        return x\n",
    "    return 2 * x * cheb(x, n - 1) - cheb(x, n - 2)\n",
    "\n",
    "def phi(x, n):\n",
    "    res = 0\n",
    "    z = -1\n",
    "    for i in range(n + 1):\n",
    "        k = z * (i + 1)\n",
    "        c_cheb = cheb(x, i)\n",
    "        res += c_cheb * k\n",
    "        z = -z\n",
    "    return res\n",
    "\n",
    "x = float(input('x >>> '))\n",
    "n = int(input('n >>> '))\n",
    "res = phi(x, n)\n",
    "\n",
    "print(f'phi({x}, {n}) = {res}')"
   ]
  },
  {
   "cell_type": "markdown",
   "id": "8af7ac8e",
   "metadata": {},
   "source": [
    "&#128187; **Задание 5.8.** \n",
    "Написать рекурсивную функцию для нахождения наибольшего общего делителя двух натуральных чисел с использованием алгоритма Евклида.\n",
    "\n",
    "*Указание.*\n",
    "Алгоритм Евклида (не аналоги алгоритмов для вычисления НОД) реализовать в виде рекурсивной функции."
   ]
  },
  {
   "cell_type": "code",
   "execution_count": 11,
   "id": "5db8fbcc",
   "metadata": {},
   "outputs": [
    {
     "name": "stdin",
     "output_type": "stream",
     "text": [
      "x >>>  36\n",
      "y >>>  48\n"
     ]
    },
    {
     "name": "stdout",
     "output_type": "stream",
     "text": [
      "Для чисел 36 и 48 ,НОД = 12\n"
     ]
    }
   ],
   "source": [
    "def recursive_evclid(a, b):\n",
    "    if b == 0:\n",
    "        return a\n",
    "    return recursive_evclid(b, a % b)\n",
    "\n",
    "x = int(input('x >>> '))\n",
    "y = int(input('y >>> '))\n",
    "\n",
    "res = recursive_evclid(x, y)\n",
    "print(f'Для чисел {x} и {y} ,НОД = {res}')"
   ]
  },
  {
   "cell_type": "markdown",
   "id": "5d648247",
   "metadata": {},
   "source": [
    "&#128187; **Задание 5.9.** \n",
    "Определите наименьшее натуральное значение $n$, при котором сумма чисел, которые будут выведены при вызове $F(n)$, будет больше $35\\,000\\,000$. Запишите в ответе сначала найденное значение $n$, а затем через пробел &mdash; соответствующую сумму выведенных чисел.\n",
    "\n",
    "```python\n",
    "def F(n):\n",
    "    print(n * n + 3)\n",
    "    if n > 5:\n",
    "        print(7 * n + 2)\n",
    "        F(n - 3)\n",
    "        F(n // 2)\n",
    "        F(n - 1)\n",
    "```"
   ]
  },
  {
   "cell_type": "code",
   "execution_count": 15,
   "id": "15c099be",
   "metadata": {},
   "outputs": [
    {
     "name": "stdout",
     "output_type": "stream",
     "text": [
      "min n = 36; summa = 37559671\n"
     ]
    }
   ],
   "source": [
    "def f(n):\n",
    "    sm = n * n + 3\n",
    "    if n > 5:\n",
    "        sm += 7 * n + 2\n",
    "        sm += f(n - 3)\n",
    "        sm += f(n // 2)\n",
    "        sm += f(n - 1)\n",
    "    return sm\n",
    "\n",
    "def find_min_n():\n",
    "    for n in range(1, 10**6 + 1):\n",
    "        cur_sum = f(n)\n",
    "        if cur_sum > 35_000_000:\n",
    "            return n, cur_sum\n",
    "#36 37559671\n",
    "res_n, res_sum = find_min_n()\n",
    "print(f'min n = {res_n}; summa = {res_sum}')"
   ]
  },
  {
   "cell_type": "markdown",
   "id": "39fca0c9",
   "metadata": {},
   "source": [
    "&#128187; **Задание 5.10.** \n",
    "Дано натуральное число. \n",
    "Описать рекурсивную функцию для перевода данного числа в двоичную систему счисления.\n",
    "\n",
    "*Указание.*\n",
    "Решение должно быть оформлено только с использованием рекурсии и целочисленной арифметики (нельзя применять списки, строки, множества, циклы)."
   ]
  },
  {
   "cell_type": "code",
   "execution_count": 23,
   "id": "743b6ee0",
   "metadata": {},
   "outputs": [
    {
     "name": "stdin",
     "output_type": "stream",
     "text": [
      "n >>>  13\n"
     ]
    },
    {
     "name": "stdout",
     "output_type": "stream",
     "text": [
      "(10) 13 >>> (2) 1101\n"
     ]
    }
   ],
   "source": [
    "def recursive_bin(n):\n",
    "    if n == 0:\n",
    "        return '0'\n",
    "    if n == 1:\n",
    "        return '1'\n",
    "    return recursive_bin(n // 2) + str(n % 2)\n",
    "\n",
    "n = int(input('n >>> '))\n",
    "print(f'(10) {n} >>> (2) {recursive_bin(n)}')"
   ]
  },
  {
   "cell_type": "code",
   "execution_count": null,
   "id": "57242765-0af9-4e26-b6fd-c2327bcaf2fd",
   "metadata": {},
   "outputs": [],
   "source": []
  }
 ],
 "metadata": {
  "kernelspec": {
   "display_name": "Python [conda env:base] *",
   "language": "python",
   "name": "conda-base-py"
  },
  "language_info": {
   "codemirror_mode": {
    "name": "ipython",
    "version": 3
   },
   "file_extension": ".py",
   "mimetype": "text/x-python",
   "name": "python",
   "nbconvert_exporter": "python",
   "pygments_lexer": "ipython3",
   "version": "3.12.2"
  }
 },
 "nbformat": 4,
 "nbformat_minor": 5
}
