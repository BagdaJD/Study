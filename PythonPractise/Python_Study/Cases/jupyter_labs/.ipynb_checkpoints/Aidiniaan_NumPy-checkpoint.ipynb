{
 "cells": [
  {
   "cell_type": "code",
   "execution_count": 11,
   "id": "9158fa1c-02ac-4ac5-af46-f9a1f69727dd",
   "metadata": {},
   "outputs": [
    {
     "name": "stdin",
     "output_type": "stream",
     "text": [
      "int >>>  3\n",
      "int >>>  4\n"
     ]
    },
    {
     "name": "stdout",
     "output_type": "stream",
     "text": [
      "Исходная матрица A:\n",
      "[[5.+4.j 2.+1.j 8.+6.j 6.+2.j]\n",
      " [8.+9.j 7.+2.j 4.+7.j 6.+6.j]\n",
      " [3.+9.j 4.+3.j 5.+6.j 6.+6.j]]\n",
      "\n",
      "-------------\n",
      "\n",
      "Матрица вещественных частей R:\n",
      "[[5. 2. 8. 6.]\n",
      " [8. 7. 4. 6.]\n",
      " [3. 4. 5. 6.]]\n",
      "\n",
      "Матрица мнимых частей M:\n",
      "[[4. 1. 6. 2.]\n",
      " [9. 2. 7. 6.]\n",
      " [9. 3. 6. 6.]]\n",
      "\n",
      "-------------\n",
      "\n",
      "Максимальные элементы по столбцам матрицы M:\n",
      "[9. 3. 7. 6.]\n",
      "\n",
      "-------------\n",
      "\n",
      "Стандартное отклонение по строкам матрицы R:\n",
      "[2.6925824  3.26917421 2.16506351]\n",
      "\n",
      "Дисперсия по строкам матрицы R:\n",
      "[ 7.25   10.6875  4.6875]\n"
     ]
    }
   ],
   "source": [
    "#1\n",
    "import numpy as np\n",
    "\n",
    "def rand_comp_mat(n, m):\n",
    "    real_p = np.random.randint(1, 10, size = (n, m))\n",
    "    imag_p = np.random.randint(1, 10, size = (n, m))\n",
    "\n",
    "    return real_p + 1j * imag_p\n",
    "\n",
    "n = int(input('int >>> '))\n",
    "m = int(input('int >>> '))\n",
    "\n",
    "a = rand_comp_mat(n, m)\n",
    "print('Исходная матрица A:')\n",
    "print(a)\n",
    "print('\\n-------------')\n",
    "\n",
    "r = np.real(a)\n",
    "m = np.imag(a)\n",
    "\n",
    "print(\"\\nМатрица вещественных частей R:\")\n",
    "print(r)\n",
    "print(\"\\nМатрица мнимых частей M:\")\n",
    "print(m)\n",
    "print('\\n-------------')\n",
    "max_m_cols = np.max(m, axis=0)\n",
    "\n",
    "print(\"\\nМаксимальные элементы по столбцам матрицы M:\")\n",
    "print(max_m_cols)\n",
    "print('\\n-------------')\n",
    "\n",
    "otk_r_rows = np.std(R, axis=1)\n",
    "dis_r_rows = np.var(R, axis=1)\n",
    "\n",
    "print(\"\\nСтандартное отклонение по строкам матрицы R:\")\n",
    "print(otk_r_rows)\n",
    "print(\"\\nДисперсия по строкам матрицы R:\")\n",
    "print(dis_r_rows)"
   ]
  },
  {
   "cell_type": "code",
   "execution_count": 17,
   "id": "c2e665c8-c110-4629-a7a3-10ef23efefb7",
   "metadata": {},
   "outputs": [
    {
     "name": "stdin",
     "output_type": "stream",
     "text": [
      "natural >>> 1\n",
      "natural >>> -6\n",
      "natural >>> 9\n",
      "natural >>> 0\n"
     ]
    },
    {
     "name": "stdout",
     "output_type": "stream",
     "text": [
      "Момент времени T, когда ускорение равно 0: 2.00 с\n",
      "Скорость в момент времени T: -3.00 м/с\n",
      "Пройденное расстояние за время T: 2.00 м\n"
     ]
    }
   ],
   "source": [
    "#2\n",
    "def resh_task2(a, b, c, d):\n",
    "    pol_x = np.polynomial.Polynomial([d, c, b, a])\n",
    "    pol_v = pol_x.deriv()\n",
    "    pol_a = pol_v.deriv()\n",
    "\n",
    "    roots = pol_a.roots()\n",
    "    resh_t = roots[np.isreal(roots) & (roots > 0)].real\n",
    "\n",
    "    if len(resh_t) == 0:\n",
    "        raise ValueError(\"Нет положительных моментов времени с нулевым ускорением\")\n",
    "\n",
    "    t = resh_t[0]\n",
    "    vel_t = pol_v(t)\n",
    "    dis_t = pol_x(t) - pol_x(0)\n",
    "\n",
    "    return t, vel_t, dis_t\n",
    "\n",
    "a = int(input('natural >>>'))\n",
    "b = int(input('natural >>>'))\n",
    "c = int(input('natural >>>'))\n",
    "d = int(input('natural >>>'))\n",
    "\n",
    "t, vel, dis = resh_task2(a, b, c, d)\n",
    "print(f\"Момент времени T, когда ускорение равно 0: {t:.2f} с\")\n",
    "print(f\"Скорость в момент времени T: {vel:.2f} м/с\")\n",
    "print(f\"Пройденное расстояние за время T: {dis:.2f} м\")"
   ]
  },
  {
   "cell_type": "code",
   "execution_count": 19,
   "id": "0f3df4e5-eeaa-43b6-a968-6467b21cfa1e",
   "metadata": {},
   "outputs": [
    {
     "name": "stdin",
     "output_type": "stream",
     "text": [
      "natural >>>  4\n"
     ]
    },
    {
     "name": "stdout",
     "output_type": "stream",
     "text": [
      "Собственные числа матрицы A:\n",
      "[13.27117014+0.j         -3.506829  +0.j         -0.88217057+6.70739355j\n",
      " -0.88217057-6.70739355j]\n",
      "--------------\n",
      "\n",
      "Собственные векторы матрицы A (по столбцам):\n",
      "[[-0.72846007+0.j          0.66574274+0.j          0.04060319+0.04879897j\n",
      "   0.04060319-0.04879897j]\n",
      " [ 0.07019591+0.j          0.11687084+0.j          0.68599227+0.j\n",
      "   0.68599227-0.j        ]\n",
      " [-0.60254437+0.j         -0.70934982+0.j         -0.47552942-0.36290161j\n",
      "  -0.47552942+0.36290161j]\n",
      " [-0.31836887+0.j         -0.19987656+0.j         -0.19334236+0.36080129j\n",
      "  -0.19334236-0.36080129j]]\n",
      "--------------\n",
      "\n",
      "Минимальное собственное значение: -3.5068+0.0000j\n"
     ]
    }
   ],
   "source": [
    "#3\n",
    "def resh_task3(mat):\n",
    "    if mat.shape[0] != mat.shape[1]:\n",
    "        raise ValueError(\"Матрица должна быть квадратной\")\n",
    "        \n",
    "    eigen_nums, eigen_vecs = np.linalg.eig(mat)\n",
    "    min_eigen_num = np.min(eigen_nums)\n",
    "\n",
    "    return eigen_nums, eigen_vecs, min_eigen_num\n",
    "\n",
    "    \n",
    "\n",
    "n = int(input('natural >>> '))\n",
    "a = np.random.randint(-10, 10, (n, n))\n",
    "\n",
    "eigen_nums, eigen_vecs, min_eigen_num = resh_task3(a)\n",
    "\n",
    "print(\"Собственные числа матрицы A:\")\n",
    "print(eigen_nums)\n",
    "print('--------------')\n",
    "\n",
    "print(\"\\nСобственные векторы матрицы A (по столбцам):\")\n",
    "print(eigen_vecs)\n",
    "print('--------------')\n",
    "\n",
    "print(f\"\\nМинимальное собственное значение: {min_eigen_num:.4f}\")"
   ]
  },
  {
   "cell_type": "code",
   "execution_count": null,
   "id": "91ef0783-02be-4103-aaf6-dacc7bd23617",
   "metadata": {},
   "outputs": [],
   "source": []
  }
 ],
 "metadata": {
  "kernelspec": {
   "display_name": "Python [conda env:base] *",
   "language": "python",
   "name": "conda-base-py"
  },
  "language_info": {
   "codemirror_mode": {
    "name": "ipython",
    "version": 3
   },
   "file_extension": ".py",
   "mimetype": "text/x-python",
   "name": "python",
   "nbconvert_exporter": "python",
   "pygments_lexer": "ipython3",
   "version": "3.12.7"
  }
 },
 "nbformat": 4,
 "nbformat_minor": 5
}
