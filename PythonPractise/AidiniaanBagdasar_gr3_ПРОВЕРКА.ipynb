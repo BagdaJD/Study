{
 "cells": [
  {
   "cell_type": "markdown",
   "metadata": {},
   "source": [
    "# Примеры для тренировки (КР-4 \"Циклы\")\n",
    "\n",
    "-------------------\n",
    "\n",
    "*Перед началом работы* обязательно переименуйте данный файл. \n",
    "Для этого выберите пункт меню **File**, затем **Rename...** \n",
    "\n",
    "В открывшемся окне, замените **NameStud** на свои фамилию и имя (без пробела), записанные латинскими символами.\n",
    "Затем замените цифру **0** после **gr** на номер своей группы (3, 4, 5 или 6).\n",
    "\n",
    "*Например*, этот файл студента Петрова Егора из 5 группы должен называться **PetrovEgor_gr5**\n",
    "\n",
    "-------------------\n",
    "\n",
    "\n",
    "**Задание 1.** Проверить, верно ли, что в записи введённого целого числа все цифры нечётные. Как только условие будет нарушено, работу цикла прекратить.\n",
    "\n",
    "\n",
    "***Указания.***\n",
    "\n",
    "*1.* В программе запрещено использовать ЛЮБЫЕ выбирающие операторы или конструкции, а также оператор break.\n",
    "\n",
    "*2.* Не использовать булевские переменные.\n",
    "\n",
    "*3.* В программе обязательно должны присутствовать операторы для построения трассировочной таблицы и вывода ответа &mdash; **True** или **False**."
   ]
  },
  {
   "cell_type": "code",
   "execution_count": 7,
   "metadata": {},
   "outputs": [
    {
     "name": "stdin",
     "output_type": "stream",
     "text": [
      "n >>>  135\n"
     ]
    },
    {
     "name": "stdout",
     "output_type": "stream",
     "text": [
      "135     5    True\n",
      " 13     3    True\n",
      "  1     1    True\n",
      "  0     0   False\n",
      "True\n"
     ]
    }
   ],
   "source": [
    "# решение задания 1\n",
    "\n",
    "n = int(input('n >>> '))\n",
    "m = abs(n)   # нужен модуль\n",
    "\n",
    "print('%3d %5d %7s' %(m, m % 10, m > 0 and (m % 10) % 2 != 0))   # неправильная трасса\n",
    "\n",
    "while m > 0 and (m % 10) % 2 != 0:\n",
    "    m = m // 10\n",
    "    print('%3d %5d %7s' %(m, m % 10, m > 0 and (m % 10) % 2 != 0))\n",
    "    \n",
    "print(m == 0)   # m == 0\n",
    "#Почти получилось\n",
    "    "
   ]
  },
  {
   "cell_type": "markdown",
   "metadata": {},
   "source": [
    "***Задание 2.*** Напишите программу для решения задания 1, выполнив следующие *указания*:\n",
    "\n",
    "*1.* В программе используйте по ОДНОМУ разу: while, if, break, print().\n",
    "\n",
    "*2.* Не использовать булевские переменные.\n",
    "\n",
    "*3.* В программе обязательно должен присутствовать оператор для вывода ответа &mdash; **True** или **False**."
   ]
  },
  {
   "cell_type": "code",
   "execution_count": 35,
   "metadata": {},
   "outputs": [
    {
     "name": "stdout",
     "output_type": "stream",
     "text": [
      "n >>> 135\n",
      "135\n",
      "13\n",
      "1\n",
      "False\n"
     ]
    }
   ],
   "source": [
    " #решение задания 2\n",
    "n = int(input('n >>> '))\n",
    "m = abs(n)   # нужен модуль\n",
    "\n",
    "while m > 0:   # второй print запрещен\n",
    "    if (m % 10) % 2 == 0:\n",
    "        break\n",
    "    m //= 10\n",
    "    \n",
    "print(m == 0)   # m == 0\n",
    "#Почти получилось"
   ]
  },
  {
   "cell_type": "markdown",
   "metadata": {},
   "source": [
    "**Задание 3.** Дано $x \\in \\mathbb{R}$. \n",
    "Написать программу для получения и вывода на печать всех членов последовательности\n",
    "$$\n",
    "  1,\\quad -\\frac12\\cdot  x,\\quad \\frac{1\\cdot 3}{2\\cdot 4}\\cdot x^2,\\quad\n",
    "  -\\frac{1\\cdot 3\\cdot 5}{2\\cdot 4\\cdot 6}\\cdot x^3,\\quad {\\dots}\\quad (|x|<1),\n",
    "$$\n",
    "больших либо равных по модулю $\\varepsilon =10^{-4}$, а также их порядковых номеров.\n",
    "\n",
    "*Указания.* \n",
    "\n",
    "*1.* Используйте рекуррентные соотношения. \n",
    "\n",
    "*2.* Неоправданное использование дополнительных переменных и лишних операций понижает оценку."
   ]
  },
  {
   "cell_type": "code",
   "execution_count": null,
   "metadata": {},
   "outputs": [],
   "source": [
    "# решение задания 3\n",
    "\n",
    "\n"
   ]
  },
  {
   "cell_type": "markdown",
   "metadata": {},
   "source": [
    "**Задание 4.** Дано вещественное $x > 0$. \n",
    "В последовательности\n",
    "$$\n",
    "  a_0 = -x, \\quad\n",
    "  a_i = a_{i-1} + \\frac{3i}{i+2}, \\quad\n",
    "  i = 1, 2, 3,\\ldots\n",
    "$$\n",
    "найти первое положительное значение.\n",
    "\n",
    "*Указания.* \n",
    "\n",
    "*1.* В программе запрещено использовать ЛЮБЫЕ выбирающие операторы или конструкции, а также оператор break.\n",
    "\n",
    "*2.* В программе обязательно должны присутствовать операторы для построения трассировочной таблицы и вывода ответа."
   ]
  },
  {
   "cell_type": "code",
   "execution_count": 9,
   "metadata": {},
   "outputs": [
    {
     "name": "stdin",
     "output_type": "stream",
     "text": [
      "x(>0) >>>  5\n"
     ]
    },
    {
     "name": "stdout",
     "output_type": "stream",
     "text": [
      "  0 -5.0000    True\n",
      "  1 -4.0000    True\n",
      "  2 -2.5000    True\n",
      "  3 -0.7000    True\n",
      "  4  1.3000   False\n",
      "Result:  1.3000\n"
     ]
    }
   ],
   "source": [
    "# решение задания 4\n",
    "x = float(input('x(>0) >>> '))\n",
    "\n",
    "a = -x\n",
    "i = 0   # не соответствует формуле\n",
    "\n",
    "print('%3d %7.4f %7s' %(i, a, a < 0))\n",
    "while a <= 0:   # потеряно равно\n",
    "    i += 1\n",
    "    a = a + 3 * i / (i + 2)\n",
    "    print('%3d %7.4f %7s' %(i, a, a <= 0))\n",
    "\n",
    "print('Result: %7.4f' %a)\n"
   ]
  },
  {
   "cell_type": "markdown",
   "metadata": {},
   "source": [
    "**Задание 5.** Дано $n \\in \\mathbb{N}$. \n",
    "Вычислить\n",
    "$$\n",
    "  \\sum_{i=1}^{n} \\frac{(-1)^{i+1}}{5i+1}.\n",
    "$$"
   ]
  },
  {
   "cell_type": "code",
   "execution_count": 11,
   "metadata": {},
   "outputs": [
    {
     "name": "stdin",
     "output_type": "stream",
     "text": [
      "n >>>  5\n"
     ]
    },
    {
     "name": "stdout",
     "output_type": "stream",
     "text": [
      "Summa :   0.13\n",
      "Ssumma:   0.13\n"
     ]
    }
   ],
   "source": [
    "# решение задания 5\n",
    "from sympy import *\n",
    "\n",
    "n = int(input('n >>> '))\n",
    "\n",
    "a = 1 / 6\n",
    "z = 1\n",
    "s = a\n",
    "\n",
    "for i in range(2, n + 1):\n",
    "    z = -z\n",
    "    a = z / (5 * i + 1)   # не сметь возводить значения в изменяемую степень!!!\n",
    "    s += a\n",
    "\n",
    "print('Summa : %6.2f' %s)\n",
    "\n",
    "#Проверка \n",
    "i = Symbol('i')\n",
    "ss = Sum((-1)**(i + 1)/(5*i + 1), (i, 1, n))\n",
    "print('Ssumma: %6.2f' %s)"
   ]
  },
  {
   "cell_type": "code",
   "execution_count": null,
   "metadata": {},
   "outputs": [],
   "source": []
  }
 ],
 "metadata": {
  "kernelspec": {
   "display_name": "Python 3 (ipykernel)",
   "language": "python",
   "name": "python3"
  },
  "language_info": {
   "codemirror_mode": {
    "name": "ipython",
    "version": 3
   },
   "file_extension": ".py",
   "mimetype": "text/x-python",
   "name": "python",
   "nbconvert_exporter": "python",
   "pygments_lexer": "ipython3",
   "version": "3.12.7"
  }
 },
 "nbformat": 4,
 "nbformat_minor": 4
}
