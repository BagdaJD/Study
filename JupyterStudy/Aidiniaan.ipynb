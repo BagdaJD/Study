{
 "cells": [
  {
   "cell_type": "code",
   "execution_count": 1,
   "id": "4038fa43-423c-4c5a-8869-183e5f9dd8fc",
   "metadata": {},
   "outputs": [
    {
     "name": "stdout",
     "output_type": "stream",
     "text": [
      "4\n",
      "8\n",
      "14\n",
      "22\n",
      "32\n"
     ]
    }
   ],
   "source": [
    "n = 2\n",
    "for i in range(1, 6):\n",
    "    n = n + i*2\n",
    "    print(n)"
   ]
  },
  {
   "cell_type": "code",
   "execution_count": null,
   "id": "c7e5a50b-a6fa-4a4b-bcba-73d96a6b1cc3",
   "metadata": {},
   "outputs": [],
   "source": []
  }
 ],
 "metadata": {
  "kernelspec": {
   "display_name": "Python 3 (ipykernel)",
   "language": "python",
   "name": "python3"
  },
  "language_info": {
   "codemirror_mode": {
    "name": "ipython",
    "version": 3
   },
   "file_extension": ".py",
   "mimetype": "text/x-python",
   "name": "python",
   "nbconvert_exporter": "python",
   "pygments_lexer": "ipython3",
   "version": "3.12.7"
  }
 },
 "nbformat": 4,
 "nbformat_minor": 5
}
