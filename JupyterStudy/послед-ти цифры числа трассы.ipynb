{
 "cells": [
  {
   "cell_type": "markdown",
   "id": "10a15376",
   "metadata": {},
   "source": [
    "# Задача 4.1"
   ]
  },
  {
   "cell_type": "code",
   "execution_count": 2,
   "id": "119b802a",
   "metadata": {},
   "outputs": [
    {
     "name": "stdout",
     "output_type": "stream",
     "text": [
      "real b > 0  >>> 6\n",
      "Result: -0.4307\n"
     ]
    }
   ],
   "source": [
    "from math import sqrt\n",
    "\n",
    "b = float(input('real b > 0  >>> '))\n",
    "\n",
    "#  начальное значение\n",
    "a = b\n",
    "i = 1\n",
    "\n",
    "#  ищу a < 0  ==>  условие цикла not(a < 0) == a >= 0\n",
    "while a >= 0:\n",
    "    i = i + 1  #  номера элементов ТОЛЬКО +1!!! (i += 1)\n",
    "    a = a - i / sqrt(i - 1)\n",
    "    \n",
    "print('Result: %6.4f' %a)"
   ]
  },
  {
   "cell_type": "code",
   "execution_count": 3,
   "id": "dc8225a5",
   "metadata": {},
   "outputs": [
    {
     "name": "stdout",
     "output_type": "stream",
     "text": [
      "real b > 0  >>> 6\n",
      "   1     6.0000   True\n",
      "   2     4.0000   True\n",
      "   3     1.8787   True\n",
      "   4    -0.4307  False\n",
      "Result: -0.4307\n"
     ]
    }
   ],
   "source": [
    "#  трасса (1 способ)\n",
    "\n",
    "from math import sqrt\n",
    "\n",
    "b = float(input('real b > 0  >>> '))\n",
    "\n",
    "a = b\n",
    "i = 1\n",
    "print('%4d %10.4f %6s' %(i, a, a >= 0))\n",
    "\n",
    "while a >= 0:\n",
    "    i = i + 1\n",
    "    a = a - i / sqrt(i - 1)\n",
    "    print('%4d %10.4f %6s' %(i, a, a >= 0))\n",
    "    \n",
    "print('Result: %6.4f' %a)"
   ]
  },
  {
   "cell_type": "code",
   "execution_count": 4,
   "id": "6e4590b2",
   "metadata": {},
   "outputs": [
    {
     "name": "stdout",
     "output_type": "stream",
     "text": [
      "real b > 0  >>> 6\n",
      "   1     6.0000   True\n",
      "   2     4.0000   True\n",
      "   3     1.8787   True\n",
      "   4    -0.4307  False\n",
      "Result: -0.4307\n"
     ]
    }
   ],
   "source": [
    "#  трасса (2 способ)\n",
    "\n",
    "from math import sqrt\n",
    "\n",
    "b = float(input('real b > 0  >>> '))\n",
    "\n",
    "a = b\n",
    "i = 1\n",
    "\n",
    "while a >= 0:\n",
    "    print('%4d %10.4f %6s' %(i, a, a >= 0))\n",
    "    i = i + 1\n",
    "    a = a - i / sqrt(i - 1)\n",
    "print('%4d %10.4f %6s' %(i, a, a >= 0))\n",
    "    \n",
    "print('Result: %6.4f' %a)"
   ]
  },
  {
   "cell_type": "markdown",
   "id": "47d50f22",
   "metadata": {},
   "source": [
    "# Задание 4.5"
   ]
  },
  {
   "cell_type": "code",
   "execution_count": 8,
   "id": "8d438cfa",
   "metadata": {},
   "outputs": [
    {
     "name": "stdout",
     "output_type": "stream",
     "text": [
      "0 < a < 1  >>> 0.01\n",
      "   0     1.0000   True\n",
      "   1     0.5000   True\n",
      "   2     0.2500   True\n",
      "   3     0.1250   True\n",
      "   4     0.0625   True\n",
      "   5     0.0312   True\n",
      "   6     0.0156   True\n",
      "   7     0.0078  False\n",
      "Result: 0.0078\n"
     ]
    }
   ],
   "source": [
    "a = float(input('0 < a < 1  >>> '))\n",
    "\n",
    "x = 1\n",
    "i = 0\n",
    "print('%4d %10.4f %6s' %(i, x, x >= a))\n",
    "\n",
    "while x >= a:\n",
    "    i = i + 1\n",
    "    x = x / 2\n",
    "    print('%4d %10.4f %6s' %(i, x, x >= a))\n",
    "    \n",
    "print('Result: %6.4f' %x)"
   ]
  },
  {
   "cell_type": "markdown",
   "id": "cf172b7d",
   "metadata": {},
   "source": [
    "# Задание 4.16\n",
    "\n",
    "Дано натуральное число $n$. Проверить, есть ли в записи числа $n$ цифра 5.\n",
    "\n",
    "```python\n",
    "n = int(input())\n",
    "\n",
    "m = n   #  натуральное число n\n",
    "# m = abs(n)   #  целое число n\n",
    "\n",
    "while <наличие цифр в записи числа> and <условие задания>:\n",
    "    m = m // 10\n",
    "    \n",
    "print('ответ')\n",
    "```"
   ]
  },
  {
   "cell_type": "code",
   "execution_count": 14,
   "id": "1cbbdb39",
   "metadata": {},
   "outputs": [
    {
     "name": "stdout",
     "output_type": "stream",
     "text": [
      "natural n >>> 5961203\n",
      "     5961203   True\n",
      "      596120   True\n",
      "       59612   True\n",
      "        5961   True\n",
      "         596   True\n",
      "          59   True\n",
      "           5  False\n",
      "True\n"
     ]
    }
   ],
   "source": [
    "n = int(input('natural n >>> '))\n",
    "\n",
    "m = n\n",
    "print('%12d %6s' %(m, m > 0 and m % 10 != 5))\n",
    "\n",
    "while m > 0 and m % 10 != 5:\n",
    "    m = m // 10\n",
    "    print('%12d %6s' %(m, m > 0 and m % 10 != 5))\n",
    "    \n",
    "print(m > 0)   #  ура! есть 5!"
   ]
  },
  {
   "cell_type": "code",
   "execution_count": 17,
   "id": "6853e996",
   "metadata": {},
   "outputs": [
    {
     "name": "stdout",
     "output_type": "stream",
     "text": [
      "natural n >>> 1236\n",
      "        numb dig  m > 0 dig != 5 m > 0 and dig != 5\n",
      "        1236   6   True   True   True\n",
      "         123   3   True   True   True\n",
      "          12   2   True   True   True\n",
      "           1   1   True   True   True\n",
      "           0   0  False   True  False\n",
      "False\n"
     ]
    }
   ],
   "source": [
    "# можно, но не обязательно\n",
    "\n",
    "n = int(input('natural n >>> '))\n",
    "\n",
    "m = n\n",
    "print('%12s %3s %6s %6s %6s' %('numb', 'dig', 'm > 0', 'dig != 5', 'm > 0 and dig != 5'))\n",
    "print('%12d %3d %6s %6s %6s' %(m, m % 10, m > 0, m % 10 != 5, m > 0 and m % 10 != 5))\n",
    "\n",
    "while m > 0 and m % 10 != 5:\n",
    "    m = m // 10\n",
    "    print('%12d %3d %6s %6s %6s' %(m, m % 10, m > 0, m % 10 != 5, m > 0 and m % 10 != 5))\n",
    "    \n",
    "print(m > 0)   #  ура! есть 5!"
   ]
  },
  {
   "cell_type": "code",
   "execution_count": null,
   "id": "1e9824de",
   "metadata": {},
   "outputs": [],
   "source": []
  }
 ],
 "metadata": {
  "kernelspec": {
   "display_name": "Python 3 (ipykernel)",
   "language": "python",
   "name": "python3"
  },
  "language_info": {
   "codemirror_mode": {
    "name": "ipython",
    "version": 3
   },
   "file_extension": ".py",
   "mimetype": "text/x-python",
   "name": "python",
   "nbconvert_exporter": "python",
   "pygments_lexer": "ipython3",
   "version": "3.12.7"
  }
 },
 "nbformat": 4,
 "nbformat_minor": 5
}
