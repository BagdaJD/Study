{
 "cells": [
  {
   "cell_type": "markdown",
   "id": "17e77477-e2f4-4da2-a390-9ba05e2eae0b",
   "metadata": {},
   "source": [
    "4.29. Дана последовательность чисел, не превосходящих 1 000. Количество чле-\n",
    "нов последовательности заранее неизвестно. Определить количество чётных эле-\n",
    "ментов последовательности кратных трём."
   ]
  },
  {
   "cell_type": "code",
   "execution_count": 37,
   "id": "11d3d29f-25e8-4a37-ba0c-53cb4726f6bf",
   "metadata": {},
   "outputs": [
    {
     "name": "stdin",
     "output_type": "stream",
     "text": [
      " 436\n",
      " 389\n",
      " -293\n",
      " 0\n",
      " 1001\n"
     ]
    },
    {
     "name": "stdout",
     "output_type": "stream",
     "text": [
      "Result:   1\n"
     ]
    }
   ],
   "source": [
    "y = float(input())\n",
    "cnt = 0\n",
    "\n",
    "while y <= 1000:\n",
    "    if y % 2 == 0 and y % 3 == 0:\n",
    "        cnt += 1\n",
    "    y = float(input())\n",
    "\n",
    "print(\"Result: %3d\" %cnt)"
   ]
  },
  {
   "cell_type": "markdown",
   "id": "e0d10fa9-717b-4348-a0d4-b9877d581ec6",
   "metadata": {},
   "source": [
    "4.31.Вычислить приближенное значение бесконечной суммы - \n",
    "1)1/1*2 + 1/2*3 + 1/3*4 + ...\n",
    "\n",
    "Вычисления продолжать до тех пор пока очередное слагаемое не окажется меньше\n",
    "числа E - 10^-5\n",
    "\n",
    "a_i = 1/i*(i+1)"
   ]
  },
  {
   "cell_type": "code",
   "execution_count": 31,
   "id": "660595aa-2e32-4143-a234-0d9444f4756d",
   "metadata": {},
   "outputs": [
    {
     "name": "stdout",
     "output_type": "stream",
     "text": [
      "Summa =  1.00\n"
     ]
    }
   ],
   "source": [
    "y = 1/2\n",
    "s = y\n",
    "i = 1\n",
    "\n",
    "while y >= 1e-05:\n",
    "    i += 1\n",
    "    y = 1 / i / (i + 1)\n",
    "    s += y\n",
    "\n",
    "print(\"Summa = %5.2f\" %s) "
   ]
  },
  {
   "cell_type": "markdown",
   "id": "8f67f503-30f9-4832-8c3e-8d9008c0cb74",
   "metadata": {},
   "source": [
    "Проверка через SymPy"
   ]
  },
  {
   "cell_type": "code",
   "execution_count": 27,
   "id": "f1737596-01ab-484e-9ee9-1c9c12f61362",
   "metadata": {},
   "outputs": [
    {
     "name": "stdout",
     "output_type": "stream",
     "text": [
      "Result:  1.00\n"
     ]
    }
   ],
   "source": [
    "from sympy import *\n",
    "\n",
    "i = Symbol('i')\n",
    "s = Sum(1 / (i * (i + 1)), (i, 1, oo)).evalf()\n",
    "print(\"Result: %5.2f\" %s)"
   ]
  },
  {
   "cell_type": "markdown",
   "id": "6da348a4-12f4-4327-b04c-de99accd7cdc",
   "metadata": {},
   "source": [
    "4.32. Вычислить приближенное значение бесконечной суммы \n",
    "1)1 - 1/2 + 1/3 - 1/4 + ...\n",
    "\n",
    "Вычисления продолжать до тех пор пока очередное слагаемое не окажется по мо-\n",
    "дулю меньше числа E = 10^-5\n",
    "\n",
    "y_i = (-1)**(i+1)/i "
   ]
  },
  {
   "cell_type": "code",
   "execution_count": 47,
   "id": "bfb9c1b4-5d03-4cf1-ad57-c41122f14e64",
   "metadata": {},
   "outputs": [
    {
     "name": "stdout",
     "output_type": "stream",
     "text": [
      "Result:  0.69\n"
     ]
    }
   ],
   "source": [
    "y = 1\n",
    "s = 0\n",
    "i = 1\n",
    "z = 1\n",
    "\n",
    "while abs(y) >= 1e-05:\n",
    "    s += y\n",
    "    i += 1\n",
    "    z = -z\n",
    "    y = z / i\n",
    "\n",
    "print('Result: %5.2f' %s)"
   ]
  },
  {
   "cell_type": "code",
   "execution_count": null,
   "id": "fa5df4f6-7623-456b-a6cf-d372aa2f713a",
   "metadata": {},
   "outputs": [],
   "source": [
    "Проверка через SymPy"
   ]
  },
  {
   "cell_type": "code",
   "execution_count": 51,
   "id": "2e0e520d-b06f-4a6d-b594-ff0a9d1f2085",
   "metadata": {},
   "outputs": [
    {
     "name": "stdout",
     "output_type": "stream",
     "text": [
      "Result:  0.6931\n"
     ]
    }
   ],
   "source": [
    "from sympy import *\n",
    "\n",
    "i = Symbol('i')\n",
    "s = Sum((-1)**(i+1)/i, (i, 1, oo)).evalf()\n",
    "print('Result: %7.4f' %s)"
   ]
  },
  {
   "cell_type": "code",
   "execution_count": null,
   "id": "98913a9f-bfb8-499e-aace-9ce7b584e149",
   "metadata": {},
   "outputs": [],
   "source": []
  }
 ],
 "metadata": {
  "kernelspec": {
   "display_name": "Python 3 (ipykernel)",
   "language": "python",
   "name": "python3"
  },
  "language_info": {
   "codemirror_mode": {
    "name": "ipython",
    "version": 3
   },
   "file_extension": ".py",
   "mimetype": "text/x-python",
   "name": "python",
   "nbconvert_exporter": "python",
   "pygments_lexer": "ipython3",
   "version": "3.12.7"
  }
 },
 "nbformat": 4,
 "nbformat_minor": 5
}
