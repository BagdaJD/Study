{
 "cells": [
  {
   "cell_type": "markdown",
   "id": "ba0a4f0f",
   "metadata": {},
   "source": [
    "# бумажная часть"
   ]
  },
  {
   "cell_type": "markdown",
   "id": "0f1dc7b3",
   "metadata": {},
   "source": [
    "Для каких начальных значений переменной $x$ завершится выполнение оператора цикла (указать интервал(ы) или пустое множество)"
   ]
  },
  {
   "cell_type": "code",
   "execution_count": null,
   "id": "0451b601",
   "metadata": {},
   "outputs": [],
   "source": [
    "while x != 0: x = -x\n",
    "    \n",
    "# ответ пустое множество\n",
    "#пример: \n",
    "\n",
    "while x > 3: x = x // 3 \n",
    "\n",
    "#ответ (3; +беск)"
   ]
  },
  {
   "cell_type": "markdown",
   "id": "6c04b6e1",
   "metadata": {},
   "source": [
    "Дан фрагмент программы для получения значений $y$. Переписать программу, заменив цикл while циклом for. Дополнительные переменные не использовать."
   ]
  },
  {
   "cell_type": "code",
   "execution_count": null,
   "id": "cc4933b7",
   "metadata": {},
   "outputs": [],
   "source": [
    "y = 2\n",
    "i = 8\n",
    "while i <= 18:\n",
    "    y = y - i\n",
    "    i = i + 3\n",
    "print(y)\n",
    "\n",
    "'''\n",
    " i |y   |  i\n",
    "   |2   |  8\n",
    "1  |-6  |  11\n",
    "2  |-17 |  14\n",
    "3  |-31 |  17\n",
    "4  |-48 |  20\n",
    "\n",
    "y = y - 3i + b\n",
    "-6 = 2 - 3 + b\n",
    "b = -5\n",
    "\n",
    "-17 = -6 - 6 - 5\n",
    "\n",
    "\n",
    "'''"
   ]
  },
  {
   "cell_type": "code",
   "execution_count": null,
   "id": "3f6c2efb",
   "metadata": {},
   "outputs": [],
   "source": [
    "y = 2\n",
    "\n",
    "for i in range( 1 ,  5):\n",
    "    y = y - 3*i - 5\n",
    "    \n",
    "print(y)"
   ]
  },
  {
   "cell_type": "code",
   "execution_count": null,
   "id": "fb631071",
   "metadata": {},
   "outputs": [],
   "source": [
    "y = 1\n",
    "i = 15\n",
    "while i >= 2:\n",
    "    y = y + i\n",
    "    i = i - 4\n",
    "print(y)\n",
    "\n",
    "'''\n",
    " i |y   |  i\n",
    "   |1   |  15\n",
    "1  |16  |  11\n",
    "2  |27  |  7\n",
    "3  |34  |  3\n",
    "4  |37  |  -1\n",
    "\n",
    "y = y + 4i + b\n",
    "\n",
    "27 = 34 + 4*2 + b\n",
    "b = -15\n",
    "\n",
    "16 = 27 + 4*1 - 15\n",
    "\n",
    "\n",
    "\n",
    "\n",
    "'''"
   ]
  },
  {
   "cell_type": "code",
   "execution_count": null,
   "id": "1a7657b7",
   "metadata": {},
   "outputs": [],
   "source": [
    "y = 1\n",
    "\n",
    "for i in range( 1 ,  5 , -1):\n",
    "    y = y + 4*i - 15\n",
    "print(y)"
   ]
  },
  {
   "cell_type": "markdown",
   "id": "6f54baf9",
   "metadata": {},
   "source": [
    "Дано вещественное $x$. Вычислить значение бесконечной суммы с точностью $10^{-4}$: \n",
    "\n",
    "$$1 - \\dfrac{x^2}{2!} + \\dfrac{x^4}{4!} - \\dfrac{x^6}{6!} + ...$$\n",
    "\n",
    "Записать рекуррентные соотношения и **написать программу полностью**."
   ]
  },
  {
   "cell_type": "code",
   "execution_count": null,
   "id": "c119a6df",
   "metadata": {},
   "outputs": [],
   "source": [
    "'''\n",
    "y_0 = 1 \n",
    "y_i = -1**i * x**2 / (4*i**2 - 2*i)\n",
    "i = 1, 2, 3...\n",
    "'''\n",
    "x = float(input('x >>> '))\n",
    "\n",
    "y = 1\n",
    "i = 0\n",
    "s = 0\n",
    "eps = 1e-05\n",
    "print( '%3d | %10f | %5s' %(i, y, abs(y) >= eps))\n",
    "\n",
    "while abs(y) >= eps:\n",
    "    s += y\n",
    "    i += 1\n",
    "    y = -1**i * x**2 / (4*i**2 - 2*i)\n",
    "\n",
    "print(s)\n"
   ]
  },
  {
   "cell_type": "markdown",
   "id": "fc12525f",
   "metadata": {},
   "source": [
    "Дано вещественное $x$. Вывести на экран все элементы последовательности, большие $10^{-5}$ и их порядковые номера: \n",
    "\n",
    "$$ \\dfrac{x^5}{3!}, \\qquad -\\dfrac{x^9}{7!}, \\qquad \\dfrac{x^{13}}{11!}, \\qquad ...$$\n",
    "\n",
    "Записать рекуррентные соотношения и **написать программу полностью**."
   ]
  },
  {
   "cell_type": "code",
   "execution_count": null,
   "id": "488f8ca1",
   "metadata": {},
   "outputs": [],
   "source": []
  },
  {
   "cell_type": "markdown",
   "id": "e66bdd06",
   "metadata": {},
   "source": [
    "Дано действительное $b$. Найти первый элемент последовательности $a_0, a_1, a_2, a_3, ... $, образованной по закону:\n",
    "\n",
    "$$a_0 = -5, \\qquad a_i = 3 + \\dfrac{i\\, a_{i-1}}{2}, \\qquad i = 1, 2, 3, ... ,$$\n",
    "\n",
    "который будет как минимум в два раза больше b.\n",
    "\n",
    "В программе должны присутствовать операторы для построения трассировочной таблицы."
   ]
  },
  {
   "cell_type": "code",
   "execution_count": null,
   "id": "6fba044f",
   "metadata": {},
   "outputs": [],
   "source": []
  },
  {
   "cell_type": "markdown",
   "id": "76fd2f96",
   "metadata": {},
   "source": [
    "Дано $n \\in N$. Вычислить сумму:\n",
    "\n",
    "$$\\sum \\limits^n_{i=1} \\dfrac{(-1)^i}{i (i+3)}$$.\n",
    "\n",
    "В программе запрещено использовать операцию **, функцию pow(),рекуррентную формулу для вычисления отдельного слагаемого суммы."
   ]
  },
  {
   "cell_type": "code",
   "execution_count": 4,
   "id": "72454792",
   "metadata": {},
   "outputs": [
    {
     "name": "stdin",
     "output_type": "stream",
     "text": [
      " n >>>  5\n"
     ]
    },
    {
     "name": "stdout",
     "output_type": "stream",
     "text": [
      "-0.19484126984126984\n"
     ]
    }
   ],
   "source": [
    "n = int(input(' n >>> '))\n",
    "\n",
    "z = -1\n",
    "y = -1 / 4\n",
    "s = y\n",
    "\n",
    "for i in range(2, n + 1):\n",
    "    z = -z\n",
    "    y = z / i / (i + 3)\n",
    "    s += y\n",
    "\n",
    "print(s)\n"
   ]
  },
  {
   "cell_type": "markdown",
   "id": "e4128ac9-8b7c-48cd-b94c-783b1d7c5058",
   "metadata": {},
   "source": [
    "Проверка с Sympy"
   ]
  },
  {
   "cell_type": "code",
   "execution_count": 8,
   "id": "bbfd128a-69cd-40fd-b002-2a0411343b3c",
   "metadata": {},
   "outputs": [
    {
     "data": {
      "text/latex": [
       "$\\displaystyle -0.19484126984127$"
      ],
      "text/plain": [
       "-0.194841269841270"
      ]
     },
     "execution_count": 8,
     "metadata": {},
     "output_type": "execute_result"
    }
   ],
   "source": [
    "from sympy import Sum, Symbol\n",
    "\n",
    "i = Symbol('i')\n",
    "S = Sum((-1)**i / i / (i + 3), (i, 1, n))\n",
    "S\n",
    "S.evalf()"
   ]
  },
  {
   "cell_type": "markdown",
   "id": "fd45eef9",
   "metadata": {},
   "source": [
    "Дано $n \\in N$. Вычислить произведение:\n",
    "\n",
    "$$\\prod \\limits^n_{i=1} \\dfrac{(-1)^{(i + 1)}}{i^2 (i+1)}$$.\n",
    "\n",
    "\n",
    "В программе запрещено использовать операцию **, функцию pow(),рекуррентную формулу для вычисления отдельного сомножителя произведения."
   ]
  },
  {
   "cell_type": "code",
   "execution_count": 16,
   "id": "d4a97413",
   "metadata": {},
   "outputs": [
    {
     "name": "stdin",
     "output_type": "stream",
     "text": [
      " n >>>  5\n"
     ]
    },
    {
     "name": "stdout",
     "output_type": "stream",
     "text": [
      "9.645061728395062e-08\n"
     ]
    }
   ],
   "source": [
    "n = int(input(' n >>> '))\n",
    "\n",
    "z = 1\n",
    "y = 1 / 2\n",
    "p = y\n",
    "\n",
    "for i in range(2, n + 1):\n",
    "    z = -z\n",
    "    y = z / i / i / (i + 1)\n",
    "    p *= y\n",
    "\n",
    "print(p)"
   ]
  },
  {
   "cell_type": "markdown",
   "id": "a6c9829a-e5e8-4469-8397-4960d67a203a",
   "metadata": {},
   "source": [
    "Проверка Sympy"
   ]
  },
  {
   "cell_type": "code",
   "execution_count": 18,
   "id": "e53fd747-bbc5-4d25-b185-c66eeabaca0a",
   "metadata": {},
   "outputs": [
    {
     "data": {
      "text/latex": [
       "$\\displaystyle 9.64506172839506 \\cdot 10^{-8}$"
      ],
      "text/plain": [
       "9.64506172839506e-8"
      ]
     },
     "execution_count": 18,
     "metadata": {},
     "output_type": "execute_result"
    }
   ],
   "source": [
    "from sympy import Product, Symbol\n",
    "\n",
    "i = Symbol('i')\n",
    "S = Product((-1)**(i+1) / i / i / (i + 1), (i, 1, n))\n",
    "S\n",
    "S.evalf()"
   ]
  },
  {
   "cell_type": "markdown",
   "id": "06008989",
   "metadata": {},
   "source": [
    "# компьютерная часть"
   ]
  },
  {
   "cell_type": "markdown",
   "id": "c1c37697",
   "metadata": {},
   "source": [
    "Проверить, верно ли, что в записи введенного целого числа есть цифра 7. Как только условие будет нарушено, работу цикла прекратить.\n",
    "\n",
    "Решение представить в двух вариантах.\n",
    "\n",
    "----------------------------\n",
    "\n",
    "***Вариант А (while).*** Напишите программу для решения задания, выполнив следующие указания:\n",
    "\n",
    "*А.1.* В программе запрещено использовать ЛЮБЫЕ выбирающие операторы или конструкции, а также оператор `break`.\n",
    "\n",
    "*А.2.* В программе обязательно должны присутствовать операторы для построения трассировочной таблицы и вывода ответа &mdash; **True** или **False**."
   ]
  },
  {
   "cell_type": "code",
   "execution_count": 28,
   "id": "e6d2dfe4",
   "metadata": {},
   "outputs": [
    {
     "name": "stdin",
     "output_type": "stream",
     "text": [
      "n >>>  721\n"
     ]
    },
    {
     "name": "stdout",
     "output_type": "stream",
     "text": [
      "       721 | 1 |  True |  True |  True\n",
      "        72 | 2 |  True |  True |  True\n",
      "         7 | 7 |  True | False | False\n",
      "False\n"
     ]
    }
   ],
   "source": [
    "n = int(input('n >>> '))\n",
    "N = n\n",
    "\n",
    "d = n % 10\n",
    "print( '%10d | %1d | %5s | %5s | %5s'%(n, d, n > 0, d != 7, n > 0 and d != 7))\n",
    "while n > 0 and d != 7:\n",
    "    n = n // 10\n",
    "    d = n % 10\n",
    "    print( '%10d | %1d | %5s | %5s | %5s'%(n, d, n > 0, d != 7, n > 0 and d != 7))\n",
    "print(n == 0)\n",
    "\n",
    "\n",
    "\n",
    "\n",
    "\n",
    "\n"
   ]
  },
  {
   "cell_type": "markdown",
   "id": "888e147a",
   "metadata": {},
   "source": [
    "***Вариант B (while, break).*** Напишите программу для решения задания, выполнив следующие указания:\n",
    "\n",
    "*B.1.* В программе используйте по ОДНОМУ разу: `while`, `if`, `break`, `print()`.\n",
    "\n",
    "\n",
    "*B.2.* Не использовать булевские переменные.\n",
    "\n",
    "*B.3.* В программе обязательно должен присутствовать оператор для вывода ответа &mdash; **True** или **False**."
   ]
  },
  {
   "cell_type": "code",
   "execution_count": 30,
   "id": "7ff23b4f",
   "metadata": {},
   "outputs": [
    {
     "name": "stdout",
     "output_type": "stream",
     "text": [
      "False\n"
     ]
    }
   ],
   "source": [
    "n = N\n",
    "\n",
    "while n > 0:\n",
    "    if n % 10 == 7:\n",
    "        break\n",
    "    n = n // 10\n",
    "print(n == 0)"
   ]
  },
  {
   "cell_type": "markdown",
   "id": "37d645a6",
   "metadata": {},
   "source": [
    "# дополнительная задача"
   ]
  },
  {
   "cell_type": "markdown",
   "id": "e2e898dd",
   "metadata": {},
   "source": [
    "Даны $n\\in N$ и $x\\in R$. Оформить в виде двух подпрограмм с параметрами вычисление следующих выражений\n",
    "\n",
    "$$\n",
    "  f = 2\\sin x +  3 \\sin (\\sin x) +  4 \\sin (\\sin (\\sin x))... (n+1) \\sin (...\\sin x),\n",
    "  \\quad\n",
    "  g = \\dfrac{x^2 + e^{-|2x|}}{x^2}.\n",
    "$$\n",
    "\n",
    "Если  $-1<x<0$, вычислить значение функции $f(x)$, в противном случае - вычислить значение функции $g(x)$. \n",
    "\n",
    "В случае, если значение функции $g(x)$ невозможно вычислить, выдать сообщение и нарисовать график на отрезке $[1; 5]$.\n",
    "\n",
    "\n",
    "\n",
    "Вложенные циклы не использовать. Программа в любом случае должна выдавать ответ (числовой, графический или строковый)."
   ]
  },
  {
   "cell_type": "code",
   "execution_count": null,
   "id": "16aa7c1f",
   "metadata": {},
   "outputs": [],
   "source": []
  }
 ],
 "metadata": {
  "kernelspec": {
   "display_name": "Python 3 (ipykernel)",
   "language": "python",
   "name": "python3"
  },
  "language_info": {
   "codemirror_mode": {
    "name": "ipython",
    "version": 3
   },
   "file_extension": ".py",
   "mimetype": "text/x-python",
   "name": "python",
   "nbconvert_exporter": "python",
   "pygments_lexer": "ipython3",
   "version": "3.12.7"
  }
 },
 "nbformat": 4,
 "nbformat_minor": 5
}
