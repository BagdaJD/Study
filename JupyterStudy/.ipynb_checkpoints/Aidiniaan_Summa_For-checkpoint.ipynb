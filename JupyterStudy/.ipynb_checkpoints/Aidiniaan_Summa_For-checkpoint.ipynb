{
 "cells": [
  {
   "cell_type": "markdown",
   "id": "d86d2e39-8431-46ec-ba0a-2789ada1f4c0",
   "metadata": {},
   "source": [
    "4.47(2), 4.48_1, 4.49_2, 4.50_2"
   ]
  },
  {
   "cell_type": "code",
   "execution_count": 1,
   "id": "78393662-9f71-41d5-930c-e3a6556c4cec",
   "metadata": {},
   "outputs": [
    {
     "name": "stdin",
     "output_type": "stream",
     "text": [
      "n >>>  5\n"
     ]
    },
    {
     "name": "stdout",
     "output_type": "stream",
     "text": [
      "summa =  0.2833\n",
      "ssumma =  0.2833\n"
     ]
    }
   ],
   "source": [
    "'''\n",
    "4.47.Дано натуральное n. Вычислить\n",
    "сумму (-1)^i+1 / i*(i + 1), i = 1, 2 ... n\n",
    "'''\n",
    "from sympy import *\n",
    "\n",
    "n = int(input('n >>> '))\n",
    "\n",
    "z = 1 \n",
    "y = z / 2\n",
    "s = y\n",
    "\n",
    "for i in range(2, n + 1):\n",
    "    z = -z\n",
    "    y = z / i * (i + 1)\n",
    "    s += y\n",
    "\n",
    "print('summa = %7.4f' %s)\n",
    "\n",
    "#Проверка\n",
    "i = Symbol('i')\n",
    "ss = Sum((-1)**(i+1)/(i*(i+1)), (i, 1, n))\n",
    "print('ssumma = %7.4f' %s)"
   ]
  },
  {
   "cell_type": "code",
   "execution_count": 3,
   "id": "118d289f-afa6-403f-b0a3-4b6f277f26d5",
   "metadata": {},
   "outputs": [
    {
     "name": "stdin",
     "output_type": "stream",
     "text": [
      "n >>>  5\n"
     ]
    },
    {
     "name": "stdout",
     "output_type": "stream",
     "text": [
      "Summa = -1.0083\n",
      "ssumaa = -1.0083\n"
     ]
    }
   ],
   "source": [
    "'''\n",
    "4.48. Дано натуральное n. Вычислить:\n",
    "сумму (-1)^i * (i + 1)/i! ,i = 1, 2, 3 ... n\n",
    "'''\n",
<<<<<<< Updated upstream
    "from sympy import Sum, factorial, Symbol\n",
=======
    "from sympy import *\n",
>>>>>>> Stashed changes
    "\n",
    "n = int(input('n >>> '))\n",
    "\n",
    "z = -1\n",
    "fact = 1\n",
    "y = 2 * z / fact\n",
    "s = y\n",
    "\n",
    "\n",
    "for i in range(2, n + 1):\n",
    "    z = -z\n",
    "    fact = fact * i\n",
    "    y = z * (i + 1) / fact\n",
    "    s += y\n",
    "\n",
    "print('Summa = %7.4f' %s)\n",
    "\n",
    "#Проверка\n",
    "i = Symbol('i')\n",
    "ss = Sum((-1)**i * (i + 1) / factorial(i), (i, 1, n))\n",
    "print('ssumaa = %7.4f' %ss)"
   ]
  },
  {
   "cell_type": "code",
   "execution_count": 7,
   "id": "72eb7207-f13f-42fe-8965-1c2c6ab55b38",
   "metadata": {},
   "outputs": [
    {
     "name": "stdin",
     "output_type": "stream",
     "text": [
      "n >>>  5\n",
      "x >>>  5\n"
     ]
    },
    {
     "name": "stdout",
     "output_type": "stream",
     "text": [
      "prod =  0.0629\n",
      "sprod =  0.0608\n"
     ]
    }
   ],
   "source": [
    "'''4.49_2\n",
    "Дано: n ∈ N, x ∈ R. Вычислить:\n",
    "произведение  (i / (i + 1) - cos^i (|x|) , i = 1, 2, 3 ... n\n",
    "'''\n",
    "from math import cos as mcos\n",
<<<<<<< Updated upstream
    "from sympy import Product, cos, Symbol\n",
=======
    "from sympy import *\n",
>>>>>>> Stashed changes
    "\n",
    "n = int(input('n >>> '))\n",
    "x = float(input('x >>> '))\n",
    "\n",
    "cos_ = mcos(abs(x))\n",
    "y = 1 / 2 - cos_\n",
    "p = y\n",
    "\n",
    "for i in range(2, n + 1):\n",
    "    cos_ = cos_ * cos_\n",
    "    y = i / (i + 1) - cos_\n",
    "    p *= y\n",
    "\n",
    "print('prod = %7.4f' %p)\n",
    "\n",
    "#Проверка\n",
    "i = Symbol('i')\n",
    "sp = Product(i/(i + 1) - cos(abs(x))**i, (i, 1, n))\n",
    "print('sprod = %7.4f' %sp)"
   ]
  },
  {
   "cell_type": "code",
   "execution_count": 17,
   "id": "d8b9cd9b-f0eb-459e-85ef-1865702d5269",
   "metadata": {},
   "outputs": [
    {
     "name": "stdin",
     "output_type": "stream",
     "text": [
      "x >>>  10\n",
      "n >>>  10\n"
     ]
    },
    {
     "name": "stdout",
     "output_type": "stream",
     "text": [
      "summa =  0.0112\n",
      "ssumma =  0.0112\n"
     ]
    }
   ],
   "source": [
    "'''\n",
    "4.50. Дано: n ∈ N, x ∈ R. Вычислить:\n",
    "сумму  cos(x) + cos(x^2) + ... + cos(x^n)\n",
    "'''\n",
    "from math import cos as mcos\n",
    "from sympy import *\n",
    "\n",
    "x = float(input('x >>> '))\n",
    "n = int(input('n >>> '))\n",
    "\n",
    "a_1 = x\n",
    "a = a_1\n",
    "y = mcos(a)\n",
    "s = y\n",
    "\n",
    "\n",
    "for _ in range(2, n + 1):\n",
    "    a = a * a_1\n",
    "    y = mcos(a)\n",
    "    s += y\n",
    "\n",
    "print('summa = %7.4f' %s)\n",
    "\n",
    "#Проверка\n",
    "i = Symbol('i')\n",
    "ss = Sum(cos(x ** i), (i, 1, n))\n",
    "print('ssumma = %7.4f' %ss)"
   ]
  },
  {
   "cell_type": "code",
   "execution_count": null,
   "id": "6250308a-5d0d-4aa9-a940-86817c161707",
   "metadata": {},
   "outputs": [],
   "source": []
  }
 ],
 "metadata": {
  "kernelspec": {
   "display_name": "Python 3 (ipykernel)",
   "language": "python",
   "name": "python3"
  },
  "language_info": {
   "codemirror_mode": {
    "name": "ipython",
    "version": 3
   },
   "file_extension": ".py",
   "mimetype": "text/x-python",
   "name": "python",
   "nbconvert_exporter": "python",
   "pygments_lexer": "ipython3",
   "version": "3.12.5"
  }
 },
 "nbformat": 4,
 "nbformat_minor": 5
}
