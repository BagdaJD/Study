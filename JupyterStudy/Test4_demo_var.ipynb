{
 "cells": [
  {
   "cell_type": "markdown",
   "id": "ba0a4f0f",
   "metadata": {},
   "source": [
    "# бумажная часть"
   ]
  },
  {
   "cell_type": "markdown",
   "id": "0f1dc7b3",
   "metadata": {},
   "source": [
    "Для каких начальных значений переменной $x$ завершится выполнение оператора цикла (указать интервал(ы) или пустое множество)"
   ]
  },
  {
   "cell_type": "code",
   "execution_count": null,
   "id": "0451b601",
   "metadata": {},
   "outputs": [],
   "source": [
    "while x != 0: x = -x\n",
    "    \n",
    "# ответ\n",
    "\n",
    "while x > 3: x = x // 3 "
   ]
  },
  {
   "cell_type": "markdown",
   "id": "6c04b6e1",
   "metadata": {},
   "source": [
    "Дан фрагмент программы для получения значений $y$. Переписать программу, заменив цикл while циклом for. Дополнительные переменные не использовать."
   ]
  },
  {
   "cell_type": "code",
   "execution_count": 1,
   "id": "cc4933b7",
   "metadata": {},
   "outputs": [
    {
     "name": "stdout",
     "output_type": "stream",
     "text": [
      "-48\n"
     ]
    }
   ],
   "source": [
    "y = 2\n",
    "i = 8\n",
    "while i <= 18:\n",
    "    y = y - i\n",
    "    i = i + 3\n",
    "print(y)"
   ]
  },
  {
   "cell_type": "code",
   "execution_count": 3,
   "id": "3f6c2efb",
   "metadata": {},
   "outputs": [
    {
     "name": "stdout",
     "output_type": "stream",
     "text": [
      "-48\n"
     ]
    }
   ],
   "source": [
    "y = 2\n",
    "\n",
    "for i in range( 3 ,  7 ):\n",
    "    y = y - (3 * i - 1)\n",
    "    \n",
    "print(y)"
   ]
  },
  {
   "cell_type": "code",
   "execution_count": 5,
   "id": "fb631071",
   "metadata": {},
   "outputs": [
    {
     "name": "stdout",
     "output_type": "stream",
     "text": [
      "37\n"
     ]
    }
   ],
   "source": [
    "y = 1\n",
    "i = 15\n",
    "while i >= 2:\n",
    "    y = y + i\n",
    "    i = i - 4\n",
    "print(y)"
   ]
  },
  {
   "cell_type": "code",
   "execution_count": 7,
   "id": "1a7657b7",
   "metadata": {},
   "outputs": [
    {
     "name": "stdout",
     "output_type": "stream",
     "text": [
      "37\n"
     ]
    }
   ],
   "source": [
    "y = 1\n",
    "\n",
    "for i in range( 4 , 0  , -1):\n",
    "    y = y + (4*i -1)\n",
    "print(y)"
   ]
  },
  {
   "cell_type": "markdown",
   "id": "6f54baf9",
   "metadata": {},
   "source": [
    "Дано вещественное $x$. Вычислить значение бесконечной суммы с точностью $10^{-4}$: \n",
    "\n",
    "$$1 - \\dfrac{x^2}{2!} + \\dfrac{x^4}{4!} - \\dfrac{x^6}{6!} + ...$$\n",
    "\n",
    "Записать рекуррентные соотношения и **написать программу полностью**."
   ]
  },
  {
   "cell_type": "code",
   "execution_count": null,
   "id": "c119a6df",
   "metadata": {},
   "outputs": [],
   "source": []
  },
  {
   "cell_type": "markdown",
   "id": "fc12525f",
   "metadata": {},
   "source": [
    "Дано вещественное $x$. Вывести на экран все элементы последовательности, большие $10^{-5}$ и их порядковые номера: \n",
    "\n",
    "$$ \\dfrac{x^5}{3!}, \\qquad -\\dfrac{x^9}{7!}, \\qquad \\dfrac{x^{13}}{11!}, \\qquad ...$$\n",
    "\n",
    "Записать рекуррентные соотношения и **написать программу полностью**."
   ]
  },
  {
   "cell_type": "code",
   "execution_count": null,
   "id": "488f8ca1",
   "metadata": {},
   "outputs": [],
   "source": []
  },
  {
   "cell_type": "markdown",
   "id": "e66bdd06",
   "metadata": {},
   "source": [
    "Дано действительное $b$. Найти первый элемент последовательности $a_0, a_1, a_2, a_3, ... $, образованной по закону:\n",
    "\n",
    "$$a_0 = -5, \\qquad a_i = 3 + \\dfrac{i\\, a_{i-1}}{2}, \\qquad i = 1, 2, 3, ... ,$$\n",
    "\n",
    "который будет как минимум в два раза больше b.\n",
    "\n",
    "В программе должны присутствовать операторы для построения трассировочной таблицы."
   ]
  },
  {
   "cell_type": "code",
   "execution_count": null,
   "id": "6fba044f",
   "metadata": {},
   "outputs": [],
   "source": []
  },
  {
   "cell_type": "markdown",
   "id": "76fd2f96",
   "metadata": {},
   "source": [
    "Дано $n \\in N$. Вычислить сумму:\n",
    "\n",
    "$$\\sum \\limits^n_{i=1} \\dfrac{(-1)^i}{i (i+3)}$$.\n",
    "\n",
    "В программе запрещено использовать операцию **, функцию pow(),рекуррентную формулу для вычисления отдельного слагаемого суммы."
   ]
  },
  {
   "cell_type": "code",
   "execution_count": null,
   "id": "72454792",
   "metadata": {},
   "outputs": [],
   "source": []
  },
  {
   "cell_type": "markdown",
   "id": "fd45eef9",
   "metadata": {},
   "source": [
    "Дано $n \\in N$. Вычислить произведение:\n",
    "\n",
    "$$\\prod \\limits^n_{i=1} \\dfrac{(-1)^{(i + 1)}}{i^2 (i+1)}$$.\n",
    "\n",
    "\n",
    "В программе запрещено использовать операцию **, функцию pow(),рекуррентную формулу для вычисления отдельного сомножителя произведения."
   ]
  },
  {
   "cell_type": "code",
   "execution_count": null,
   "id": "d4a97413",
   "metadata": {},
   "outputs": [],
   "source": []
  },
  {
   "cell_type": "markdown",
   "id": "06008989",
   "metadata": {},
   "source": [
    "# компьютерная часть"
   ]
  },
  {
   "cell_type": "markdown",
   "id": "c1c37697",
   "metadata": {},
   "source": [
    "Проверить, верно ли, что в записи введенного целого числа есть цифра 7. Как только условие будет нарушено, работу цикла прекратить.\n",
    "\n",
    "Решение представить в двух вариантах.\n",
    "\n",
    "----------------------------\n",
    "\n",
    "***Вариант А (while).*** Напишите программу для решения задания, выполнив следующие указания:\n",
    "\n",
    "*А.1.* В программе запрещено использовать ЛЮБЫЕ выбирающие операторы или конструкции, а также оператор `break`.\n",
    "\n",
    "*А.2.* В программе обязательно должны присутствовать операторы для построения трассировочной таблицы и вывода ответа &mdash; **True** или **False**."
   ]
  },
  {
   "cell_type": "code",
   "execution_count": null,
   "id": "e6d2dfe4",
   "metadata": {},
   "outputs": [],
   "source": []
  },
  {
   "cell_type": "markdown",
   "id": "888e147a",
   "metadata": {},
   "source": [
    "***Вариант B (while, break).*** Напишите программу для решения задания, выполнив следующие указания:\n",
    "\n",
    "*B.1.* В программе используйте по ОДНОМУ разу: `while`, `if`, `break`, `print()`.\n",
    "\n",
    "\n",
    "*B.2.* Не использовать булевские переменные.\n",
    "\n",
    "*B.3.* В программе обязательно должен присутствовать оператор для вывода ответа &mdash; **True** или **False**."
   ]
  },
  {
   "cell_type": "code",
   "execution_count": null,
   "id": "7ff23b4f",
   "metadata": {},
   "outputs": [],
   "source": []
  },
  {
   "cell_type": "markdown",
   "id": "37d645a6",
   "metadata": {},
   "source": [
    "# дополнительная задача"
   ]
  },
  {
   "cell_type": "markdown",
   "id": "e2e898dd",
   "metadata": {},
   "source": [
    "Даны $n\\in N$ и $x\\in R$. Оформить в виде двух подпрограмм с параметрами вычисление следующих выражений\n",
    "\n",
    "$$\n",
    "  f = 2\\sin x +  3 \\sin (\\sin x) +  4 \\sin (\\sin (\\sin x))... (n+1) \\sin (...\\sin x),\n",
    "  \\quad\n",
    "  g = \\dfrac{x^2 + e^{-|2x|}}{x^2}.\n",
    "$$\n",
    "\n",
    "Если  $-1<x<0$, вычислить значение функции $f(x)$, в противном случае - вычислить значение функции $g(x)$. \n",
    "\n",
    "В случае, если значение функции $g(x)$ невозможно вычислить, выдать сообщение и нарисовать график на отрезке $[1; 5]$.\n",
    "\n",
    "\n",
    "\n",
    "Вложенные циклы не использовать. Программа в любом случае должна выдавать ответ (числовой, графический или строковый)."
   ]
  },
  {
   "cell_type": "code",
   "execution_count": null,
   "id": "16aa7c1f",
   "metadata": {},
   "outputs": [],
   "source": []
  }
 ],
 "metadata": {
  "kernelspec": {
   "display_name": "Python 3 (ipykernel)",
   "language": "python",
   "name": "python3"
  },
  "language_info": {
   "codemirror_mode": {
    "name": "ipython",
    "version": 3
   },
   "file_extension": ".py",
   "mimetype": "text/x-python",
   "name": "python",
   "nbconvert_exporter": "python",
   "pygments_lexer": "ipython3",
   "version": "3.12.7"
  }
 },
 "nbformat": 4,
 "nbformat_minor": 5
}
