{
 "cells": [
  {
   "cell_type": "code",
   "execution_count": 1,
   "id": "36018458-2728-45d8-8a15-c52298a24023",
   "metadata": {},
   "outputs": [
    {
     "name": "stdin",
     "output_type": "stream",
     "text": [
      "n >>>  12\n"
     ]
    },
    {
     "name": "stdout",
     "output_type": "stream",
     "text": [
      "summa = -0.19540\n"
     ]
    }
   ],
   "source": [
    "'''\n",
    "4.47 Дано натуральное n. Вычислить:\n",
    "Сумму (-1)^i/2*i + 1, i = 1, 2, 3\n",
    "'''\n",
    "n = int(input('n >>> '))\n",
    "\n",
    "z = -1\n",
    "s = z / 3\n",
    "\n",
    "for i in range(2, n + 1):\n",
    "    z = -z \n",
    "    s = s + z / (2 * i + 1)\n",
    "\n",
    "print('summa = %7.5f' %s)"
   ]
  },
  {
   "cell_type": "code",
   "execution_count": 3,
   "id": "99b31eb8-0961-40c3-83b9-e7a60638346e",
   "metadata": {},
   "outputs": [
    {
     "name": "stdout",
     "output_type": "stream",
     "text": [
      "suma =   -0.21\n"
     ]
    }
   ],
   "source": [
    "#Проверка чере симпай\n",
    "\n",
    "from sympy import *\n",
    "\n",
    "i = Symbol('i')\n",
    "ss = Sum((-1)** i / (2 * i + 1), (i, 1, n)).evalf()\n",
    "print('suma = %7.2f' %ss)"
   ]
  },
  {
   "cell_type": "code",
   "execution_count": 1,
   "id": "9e478a6d-b16c-451e-9fff-fbe95ccd3a28",
   "metadata": {},
   "outputs": [
    {
     "name": "stdin",
     "output_type": "stream",
     "text": [
      "x =  5\n",
      "n =  3\n"
     ]
    },
    {
     "name": "stdout",
     "output_type": "stream",
     "text": [
      "125.0\n"
     ]
    }
   ],
   "source": [
    "#Рекурентное вычисление степени \n",
    "x = float(input('x = '))\n",
    "n = int(input('n = '))#натуральнок, т.е  n = 1, 2, 3\n",
    "\n",
    "y = x\n",
    "for _ in range(2, n + 1):\n",
    "    y = y * x\n",
    "print(y)\n"
   ]
  },
  {
   "cell_type": "code",
   "execution_count": 3,
   "id": "abfd2525-d47b-407c-a645-797e408e7813",
   "metadata": {},
   "outputs": [
    {
     "name": "stdin",
     "output_type": "stream",
     "text": [
      "n =  5\n"
     ]
    },
    {
     "name": "stdout",
     "output_type": "stream",
     "text": [
      "120\n"
     ]
    }
   ],
   "source": [
    "#Рекурентное вычисление факториала\n",
    "n = int(input('n = '))#натуральнок, т.е  n = 1, 2, 3\n",
    "\n",
    "y = 1\n",
    "for i in range(2, n + 1):\n",
    "    y = y * i\n",
    "print(y)"
   ]
  },
  {
   "cell_type": "code",
   "execution_count": 15,
   "id": "1b56e164-5e7b-4f7d-8f4b-87c035bf0e27",
   "metadata": {},
   "outputs": [
    {
     "name": "stdin",
     "output_type": "stream",
     "text": [
      "n =  0\n"
     ]
    },
    {
     "name": "stdout",
     "output_type": "stream",
     "text": [
      "1\n"
     ]
    }
   ],
   "source": [
    "#Рекурентное вычисление факториала\n",
    "n = int(input('n = '))#натуральнок, т.е  n = 1, 2, 3\n",
    "\n",
    "y = 1\n",
    "for i in range(1, n + 1):\n",
    "    y = y * i\n",
    "print(y)"
   ]
  },
  {
   "cell_type": "code",
   "execution_count": 7,
   "id": "a81cd6b5-d295-479d-8680-c4d9e6012d04",
   "metadata": {},
   "outputs": [
    {
     "name": "stdin",
     "output_type": "stream",
     "text": [
      "x =  4\n",
      "n =  0\n"
     ]
    },
    {
     "name": "stdout",
     "output_type": "stream",
     "text": [
      "1\n"
     ]
    }
   ],
   "source": [
    "#Рекурентное вычисление степени \n",
    "x = float(input('x = '))\n",
    "n = int(input('n = '))#натуральнок, т.е  n = 1, 2, 3\n",
    "\n",
    "y = 1\n",
    "for _ in range(2, n + 1):\n",
    "    y = y * x\n",
    "print(y)"
   ]
  },
  {
   "cell_type": "code",
   "execution_count": 17,
   "id": "fc4724ba-5030-4725-a326-8228a3058777",
   "metadata": {},
   "outputs": [
    {
     "name": "stdin",
     "output_type": "stream",
     "text": [
      "x =  3.5\n",
      "n =  4\n"
     ]
    },
    {
     "name": "stdout",
     "output_type": "stream",
     "text": [
      "prod = 0.76641\n"
     ]
    }
   ],
   "source": [
    "'''4.49'''\n",
    "from math import sin as msin\n",
    "\n",
    "x = float(input('x = '))\n",
    "n = int(input('n = '))\n",
    "#начальное значение при i = 1\n",
    "fact = 1 #i!\n",
    "p = 1 + msin(i * x) / fact\n",
    "\n",
    "for i in range(2, n + 1):\n",
    "    fact = fact * i\n",
    "    p = p * (1 + msin(i * x) / fact)\n",
    "\n",
    "print('prod = %7.5f' %p)"
   ]
  },
  {
   "cell_type": "code",
   "execution_count": 19,
   "id": "0051557e-c1fc-4d62-8521-bab30a711fcb",
   "metadata": {},
   "outputs": [
    {
     "name": "stdout",
     "output_type": "stream",
     "text": [
      "symp = 0.76641\n"
     ]
    }
   ],
   "source": [
    "#Проверка SymPy\n",
    "from sympy import Symbol, Product, sin, factorial\n",
    "\n",
    "i = Symbol('i')\n",
    "ps = Product(1 + sin(i * x) / factorial(i), (i, 1, n))\n",
    "print('symp = %7.5f' %ps)"
   ]
  },
  {
   "cell_type": "code",
   "execution_count": 21,
   "id": "e13df6aa-932f-4db8-9ea0-0c818f668958",
   "metadata": {},
   "outputs": [
    {
     "name": "stdin",
     "output_type": "stream",
     "text": [
      "x =  -0.36\n",
      "n =  3\n"
     ]
    },
    {
     "name": "stdout",
     "output_type": "stream",
     "text": [
      "summa = -0.2719\n",
      "ssumma = -0.2719\n"
     ]
    }
   ],
   "source": [
    "'''4.50'''\n",
    "from math import sin as msin\n",
    "from sympy import Symbol, Sum, sin\n",
    "\n",
    "x = float(input('x = '))\n",
    "n = int(input('n = '))\n",
    "\n",
    "y = msin(x)\n",
    "s = y\n",
    "\n",
    "for _ in range(2, n + 1):\n",
    "    y = y * msin(x)\n",
    "    s = s + y\n",
    "\n",
    "print('summa = %7.4f' %s)\n",
    "\n",
    "#Проверка\n",
    "i = Symbol('i')\n",
    "ss = Sum(sin(x) ** i, (i, 1, n))\n",
    "print('ssumma = %7.4f' %ss)\n"
   ]
  },
  {
   "cell_type": "markdown",
   "id": "11efe11e-c15a-4cae-895c-49f21aeef3b1",
   "metadata": {},
   "source": [
    "4.47(2), 4.48_1, 4.49_2, 4.50_2\n"
   ]
  }
 ],
 "metadata": {
  "kernelspec": {
   "display_name": "Python 3 (ipykernel)",
   "language": "python",
   "name": "python3"
  },
  "language_info": {
   "codemirror_mode": {
    "name": "ipython",
    "version": 3
   },
   "file_extension": ".py",
   "mimetype": "text/x-python",
   "name": "python",
   "nbconvert_exporter": "python",
   "pygments_lexer": "ipython3",
   "version": "3.12.7"
  }
 },
 "nbformat": 4,
 "nbformat_minor": 5
}
