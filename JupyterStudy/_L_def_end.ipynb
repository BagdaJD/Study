{
 "cells": [
  {
   "cell_type": "markdown",
   "id": "18fc81eb-2bb8-4917-b8b3-0d70501bd277",
   "metadata": {},
   "source": [
    "# <span style=\"color: blue\">14 ноября  продолжение лекций по функциям</span>\n",
    "\n",
    "---\n",
    "### <span style=\"color: darkblue\">6.3. Сходства и различия формального параметра и локальной переменной</span>\n",
    "\n",
    "\n",
    "Вернёмся к **программе 8**. "
   ]
  },
  {
   "cell_type": "code",
   "execution_count": 34,
   "id": "e46bec63-71a9-416c-9acb-5c9f49e4c6a1",
   "metadata": {},
   "outputs": [
    {
     "name": "stdout",
     "output_type": "stream",
     "text": [
      "6.0\n"
     ]
    }
   ],
   "source": [
    "from math import sqrt\n",
    "\n",
    "def Geron(a, b, c):       # Geron(список формальных параметров)\n",
    "    p = (a + b + c) / 2   # p -  локальная переменная\n",
    "    return sqrt(p * (p - a) * (p - b) * (p - c))\n",
    "\n",
    "a = 300             # глоб. переменная, нигде в примере не участвует\n",
    "\n",
    "k = Geron(3, 4, 5)  # Geron(список фактических параметров)\n",
    "\n",
    "print(k)"
   ]
  },
  {
   "cell_type": "markdown",
   "id": "3c5c9616-f602-48e7-a78c-22fffefbb685",
   "metadata": {},
   "source": [
    "---\n",
    "**Сходства:** и формальный  параметр, и локальная переменная\n",
    "- создаются при входе в П/П;\n",
    "- могут использоваться в теле П/П;\n",
    "- исчезают при выходе из П/П.\n",
    "\n",
    "---\n",
    "**Различие:**\n",
    "- начальное значение формального параметра (параметр) РАВНО значению фактического параметра (аргумент); \n",
    "\n",
    "Напомним, что формальный параметр используется в заголовке функции, а фактический параметр (аргумент) используется в теле программы при ВЫЗОВЕ функции;  \n",
    "- начальное значение локальной переменной не определено.\n",
    "  \n"
   ]
  },
  {
   "cell_type": "markdown",
   "id": "e805840a-b113-4794-8a75-4b3f62a252ce",
   "metadata": {},
   "source": [
    "---\n",
    "# <span style=\"color: blue\"> Подпрограммы. Часть II</span>\n",
    "\n",
    "## <span style=\"color: blue\">II.1. \"Необычные\" параметры и аргументы</span>"
   ]
  },
  {
   "cell_type": "markdown",
   "id": "2d465ec0-9f76-419b-938c-ce7674d35156",
   "metadata": {},
   "source": [
    "### <span style=\"color: darkblue\">II.1.1. Параметры, заданные по умолчанию</span>\n",
    "\n",
    "<div class=\"alert alert-block alert-warning\">\n",
    "\n",
    "<b>Важно!</b>\n",
    "<span style=\"color:black\"> Параметры с заданными начальными значениями ВСЕГДА стоят в конце списка параметров в сигнатуре функции. </span>\n",
    "\n",
    "\n",
    "</div>\n",
    "\n",
    "---\n",
    "**Пример II.1**. Опишем функцию для сложения трёх чисел. Эта функция имеет три формальных параметра. Сделаем один из них необязательным.\n",
    "\n",
    "**Программа к примеру II.1.**"
   ]
  },
  {
   "cell_type": "code",
   "execution_count": 1,
   "id": "c51e063c-49eb-4cdf-a4bb-11388f5c7cfb",
   "metadata": {},
   "outputs": [
    {
     "name": "stdout",
     "output_type": "stream",
     "text": [
      "12\n",
      "9\n"
     ]
    }
   ],
   "source": [
    "def sum3(a, b, c=2):   # c - необязательный параметр\n",
    "    return a + b + c\n",
    "\n",
    "\n",
    "# Примеры вызовов функции\n",
    "k = sum3(3, 4, 5)\n",
    "print(k)\n",
    "\n",
    "k = sum3(3, 4)\n",
    "print(k)"
   ]
  },
  {
   "cell_type": "markdown",
   "id": "1764defe-c8d3-4370-a543-a0c73916d282",
   "metadata": {},
   "source": [
    "----\n",
    "### <span style=\"color: darkblue\">II.1.2. Именованные фактические параметры</span>\n",
    "\n",
    "Все параметры функции имеют имена, к которым можно  обращаться при вызове функции. Например, нам известны имена параметров функции `print()`: `end`, `sep`,...\n",
    "```\n",
    "print('Cat', 'Dog', 'Kitten', sep='-')\n",
    "```\n",
    "Имена параметров обычно программист узнает из документации.\n",
    "\n",
    "При вызове в функцию передаётся пара `имя=значение`.\n",
    "\n",
    "**Оформление кода.** Знак `=` в этом случае НЕ окружается пробелами.\n",
    "\n",
    "**При использовании именованных аргументов** (говорят еще аргументов-ключевых слов) **можно задавать их в произвольном порядке**.\n",
    "\n",
    "**Пример II.2.** Выше была описана функцию для сложения трёх чисел. Продемонстрируем обращение к параметрам функции по именам. \n",
    "\n",
    "**Программа к примеру II.2.**"
   ]
  },
  {
   "cell_type": "code",
   "execution_count": 1,
   "id": "1b8b974e-ec67-40d8-a959-1cc9b65df600",
   "metadata": {},
   "outputs": [
    {
     "name": "stdout",
     "output_type": "stream",
     "text": [
      "9\n",
      "9\n",
      "13\n",
      "13\n"
     ]
    }
   ],
   "source": [
    "def sum3(a, b, c=2):\n",
    "    return a + b + c\n",
    "\n",
    "\n",
    "k = sum3(3, 4)   # значение c = 2 используется по умолчанию\n",
    "print(k)\n",
    "\n",
    "k = sum3(a=3, b=4)   # значение c = 2 используется по умолчанию\n",
    "print(k)\n",
    "\n",
    "k = sum3(a=3, b=4, c=6)\n",
    "print(k)\n",
    "\n",
    "# имен. арг. можно менять местами\n",
    "k = sum3(c=3, a=4, b=6)\n",
    "print(k)"
   ]
  },
  {
   "cell_type": "markdown",
   "id": "4a3cd768-79d9-4acf-8812-e1bb3f528b32",
   "metadata": {},
   "source": [
    "Если требуется передавать *параметры функции* **только по** *ключу*, то описание заголовка функции должно начинаться со звёздочки:\n",
    "```python\n",
    "  def f(*, список параметров): \n",
    "      ...\n",
    "```"
   ]
  },
  {
   "cell_type": "code",
   "execution_count": 3,
   "id": "a79bcacd-1f9b-48bf-8ceb-76b10afd1edd",
   "metadata": {},
   "outputs": [
    {
     "name": "stdout",
     "output_type": "stream",
     "text": [
      "-9\n",
      "-9\n"
     ]
    }
   ],
   "source": [
    "def f(*, a, b):\n",
    "    return (a + b)*(a - b)\n",
    "\n",
    "# print(f(4, 5))     # вызовет ошибку\n",
    "# TypeError: f() takes 0 positional arguments but 2 were given\n",
    "\n",
    "print(f(a=4, b=5))   # ok\n",
    "print(f(b=5, a=4))   # ok"
   ]
  },
  {
   "cell_type": "markdown",
   "id": "ef262a97-8f5b-4c39-9839-4a153d406785",
   "metadata": {},
   "source": [
    "---\n",
    "## <span style=\"color: blue\">II.3. Передача аргументов (краткие итоги)</span>\n",
    "\n",
    "\n",
    "**Позиционные аргументы** --- строгое соблюдение порядка аргументов.\n",
    "\n",
    "----\n",
    "\n",
    "**Именованные аргументы** --- при вызове в функцию передаётся пара `имя=значение`. Исключает путаницу с порядком следования аргументов при вызове функции.\n",
    "\n",
    "----\n",
    "\n",
    "**Значения параметра по умолчанию** --- при вызове функции можно опускать параметр, заданный по умолчанию.\n",
    "\n",
    "**Все параметры по умолчанию стоят в конце списка параметров!**\n",
    "\n",
    "----\n",
    "\n",
    "**Пример II.3.** Демонстрация позиционных аргументов **разных** типов. \n",
    "\n",
    "В программе специально использованы аннотации типов.\n",
    "\n",
    "**Программа к примеру II.3.**"
   ]
  },
  {
   "cell_type": "code",
   "execution_count": 2,
   "id": "f8e7ad8c-8950-4e88-b0f4-cf9de05beca6",
   "metadata": {},
   "outputs": [
    {
     "name": "stdout",
     "output_type": "stream",
     "text": [
      "МурзикМурзик\n"
     ]
    }
   ],
   "source": [
    "def cat_print(mult: int, cat_name: str) -> None:\n",
    "    print(cat_name * (mult // 2))\n",
    "\n",
    "# Вызов первый. Типы аргументов соответстуют типам параметров\n",
    "cat_print(5, 'Мурзик')     # МурзикМурзик"
   ]
  },
  {
   "cell_type": "code",
   "execution_count": 5,
   "id": "cc6eab2d-3b2f-48fd-b4b5-693b3df8e169",
   "metadata": {},
   "outputs": [
    {
     "ename": "TypeError",
     "evalue": "unsupported operand type(s) for //: 'str' and 'int'",
     "output_type": "error",
     "traceback": [
      "\u001b[1;31m---------------------------------------------------------------------------\u001b[0m",
      "\u001b[1;31mTypeError\u001b[0m                                 Traceback (most recent call last)",
      "Cell \u001b[1;32mIn[5], line 1\u001b[0m\n\u001b[1;32m----> 1\u001b[0m \u001b[43mcat_print\u001b[49m\u001b[43m(\u001b[49m\u001b[38;5;124;43m'\u001b[39;49m\u001b[38;5;124;43mMurz\u001b[39;49m\u001b[38;5;124;43m'\u001b[39;49m\u001b[43m,\u001b[49m\u001b[43m \u001b[49m\u001b[38;5;241;43m5\u001b[39;49m\u001b[43m)\u001b[49m\n",
      "Cell \u001b[1;32mIn[2], line 2\u001b[0m, in \u001b[0;36mcat_print\u001b[1;34m(mult, cat_name)\u001b[0m\n\u001b[0;32m      1\u001b[0m \u001b[38;5;28;01mdef\u001b[39;00m \u001b[38;5;21mcat_print\u001b[39m(mult: \u001b[38;5;28mint\u001b[39m, cat_name: \u001b[38;5;28mstr\u001b[39m) \u001b[38;5;241m-\u001b[39m\u001b[38;5;241m>\u001b[39m \u001b[38;5;28;01mNone\u001b[39;00m:\n\u001b[1;32m----> 2\u001b[0m     \u001b[38;5;28mprint\u001b[39m(cat_name \u001b[38;5;241m*\u001b[39m (\u001b[43mmult\u001b[49m\u001b[43m \u001b[49m\u001b[38;5;241;43m/\u001b[39;49m\u001b[38;5;241;43m/\u001b[39;49m\u001b[43m \u001b[49m\u001b[38;5;241;43m2\u001b[39;49m))\n",
      "\u001b[1;31mTypeError\u001b[0m: unsupported operand type(s) for //: 'str' and 'int'"
     ]
    }
   ],
   "source": [
    "# Вызов второй. Типы аргументов Не соответствуют операциям в теле функции\n",
    "cat_print('Murz', 5)"
   ]
  },
  {
   "cell_type": "code",
   "execution_count": 4,
   "id": "0af1a0dd-916a-4e99-99f9-6917df13cc1a",
   "metadata": {},
   "outputs": [],
   "source": [
    "# Вызов третий. Список аргументов пустой\n",
    "# missing 2 required positional arguments: 'mult' and 'cat_name'\n",
    "#cat_print() "
   ]
  },
  {
   "cell_type": "code",
   "execution_count": 6,
   "id": "85ce6353-c83e-431e-b5b9-454fa2b59d5f",
   "metadata": {},
   "outputs": [],
   "source": [
    "# Вызов четвертый. Кол-во аргументов не соответсвтует кол-ву параметров\n",
    "# takes 2 positional arg-s but 3 were given\n",
    "#cat_print(5, 'Мурзик', 2) "
   ]
  },
  {
   "cell_type": "markdown",
   "id": "7acc7162-f939-4b00-b8c6-8f53b30e3ffc",
   "metadata": {},
   "source": [
    "**Пример II.4.** Демонстрация позиционных аргументов **одинаковых** типов. \n",
    "\n",
    "**Программа к примеру II.4.**"
   ]
  },
  {
   "cell_type": "code",
   "execution_count": 7,
   "id": "958bbfb0-e687-4912-9b6c-813c96198ae0",
   "metadata": {},
   "outputs": [
    {
     "name": "stdout",
     "output_type": "stream",
     "text": [
      "Мурзик - котик. Ваня - владелец котика.\n",
      "Ваня - котик. Мурзик - владелец котика.\n"
     ]
    }
   ],
   "source": [
    "def cat_print2(cat_owner, cat_name):\n",
    "    print(cat_name + ' - котик. ' +\n",
    "          cat_owner + \" - владелец котика.\")\n",
    "\n",
    "cat_print2('Ваня', 'Мурзик')\n",
    "cat_print2('Мурзик', 'Ваня')"
   ]
  },
  {
   "cell_type": "code",
   "execution_count": null,
   "id": "423419c5-0446-437b-9b3c-343446f3e3c4",
   "metadata": {},
   "outputs": [],
   "source": []
  },
  {
   "cell_type": "markdown",
   "id": "74227403-6ba1-488c-9f44-fa2d9ba73b0a",
   "metadata": {},
   "source": [
    "**Пример II.5.** Демонстрация **именованных** аргументов.\n",
    "Пользователь сам контролирует соответствие присваиваемых типов.\n",
    "\n",
    "**Программа к примеру II.5.**  Функция та же, что и в предыдущем примере."
   ]
  },
  {
   "cell_type": "code",
   "execution_count": 8,
   "id": "43f8feec-5ad9-42dd-8273-aabf6493dd72",
   "metadata": {},
   "outputs": [
    {
     "name": "stdout",
     "output_type": "stream",
     "text": [
      "Мурзик - котик. Ваня - владелец котика.\n",
      "Мурзик - котик. Ваня - владелец котика.\n"
     ]
    }
   ],
   "source": [
    "# в заголовке функции сначала имя ВЛАДЕЛЬЦА, потом кличка КОТИКА\n",
    "def cat_print2(cat_owner, cat_name):\n",
    "    print(cat_name + ' - котик. ' +\n",
    "          cat_owner + ' - владелец котика.') \n",
    "\n",
    "cat_print2('Ваня', 'Мурзик')           # позиционные аргументы\n",
    "cat_print2(cat_name='Мурзик', cat_owner='Ваня')  # именованные"
   ]
  },
  {
   "cell_type": "markdown",
   "id": "3f951e2d-ebc0-4799-82de-f51f62f403ee",
   "metadata": {},
   "source": [
    "**Пример II.6.** Демонстрация значения по умолчанию.\n",
    "\n",
    "**Программа к примеру II.6.** В заголовок функции добавлено значение по умолчанию для клички котика. "
   ]
  },
  {
   "cell_type": "code",
   "execution_count": 3,
   "id": "78bec9bb-dcd6-43c2-ac7f-1e48b0d09bcc",
   "metadata": {},
   "outputs": [
    {
     "name": "stdout",
     "output_type": "stream",
     "text": [
      "Илья - котик. Белка - владелец котика.\n",
      "Рыжа - котик. Саша - владелец котика.\n"
     ]
    }
   ],
   "source": [
    "def cat_print2(cat_owner, cat_name='Рыжа'):\n",
    "    print(cat_name + ' - котик. ' + cat_owner + ' - владелец котика.') \n",
    "\n",
    "cat_print2('Белка', 'Илья')\n",
    "cat_print2('Саша')  # использован аргумент cat_name=\"Пушок\""
   ]
  },
  {
   "cell_type": "code",
   "execution_count": null,
   "id": "a566c067-3d64-43b0-b4fc-23e187c6099e",
   "metadata": {},
   "outputs": [],
   "source": []
  },
  {
   "cell_type": "markdown",
   "id": "95b0a7d8-0814-449f-bbb1-aec7bc0161f7",
   "metadata": {},
   "source": [
    "----\n",
    "## <span style=\"color: blue\">II.4. Позиционные аргументы произвольной длины</span>\n",
    "\n",
    "Аргументы произвольной длины используются, если заранее неизвестно количество передаваемых функции аргументов. Перед именем переменной ставится звездочка (*). Например,\n",
    "```python\n",
    "def func(*args):\n",
    "```\n",
    "\n",
    "Все переданные в функцию параметры соберутся в кортеж с именем `args`.\n",
    "\n",
    "Порядок следования аргументов в функциях:\n",
    "- позиционные,\n",
    "- имеющие значения по умолчанию,\n",
    "- остальные\n",
    "\n",
    "**Пример II.7.** Написать и использовать функцию для суммирования любого количества чисел.\n",
    "\n",
    "**Программа к примеру II.7.** "
   ]
  },
  {
   "cell_type": "code",
   "execution_count": 7,
   "id": "1bd9f42b-4bf4-41ca-af3d-0c9a33695a0c",
   "metadata": {},
   "outputs": [
    {
     "name": "stdout",
     "output_type": "stream",
     "text": [
      "7\n",
      "12\n",
      "14\n",
      "21\n"
     ]
    }
   ],
   "source": [
    "# Аргументы произвольной длины\n",
    "def sumN(*args):\n",
    "    s = 0\n",
    "    for x in args: \n",
    "        s = s + x\n",
    "    return s\n",
    "\n",
    "k = sumN(3, 4)\n",
    "print(k)\n",
    "\n",
    "k = sumN(3, 4, 5)\n",
    "print(k)\n",
    "\n",
    "k = sumN(len('cat'), len('kitten'), len('mouse'))  # 3+6+5\n",
    "print(k)\n",
    "\n"
   ]
  },
  {
   "cell_type": "markdown",
   "id": "46a2a8bb-bb8c-4382-8b9c-f474c26929be",
   "metadata": {},
   "source": [
    "Обратим внимание, что в Python есть функция `sum()`, аргументом которой должен быть итерируемый объект (например, список).\n",
    "\n",
    "```python\n",
    "print(sum([4, 8, 9]))\n",
    "```"
   ]
  },
  {
   "cell_type": "code",
   "execution_count": 11,
   "id": "7fe631f7-9e56-4bee-a9f5-d768b2793e00",
   "metadata": {},
   "outputs": [
    {
     "name": "stdout",
     "output_type": "stream",
     "text": [
      "Help on built-in function sum in module builtins:\n",
      "\n",
      "sum(iterable, /, start=0)\n",
      "    Return the sum of a 'start' value (default: 0) plus an iterable of numbers\n",
      "\n",
      "    When the iterable is empty, return the start value.\n",
      "    This function is intended specifically for use with numeric values and may\n",
      "    reject non-numeric types.\n",
      "\n"
     ]
    }
   ],
   "source": [
    "help(sum)"
   ]
  },
  {
   "cell_type": "code",
   "execution_count": 4,
   "id": "dddf8253-c7cc-4b36-beb5-d17c04577a7e",
   "metadata": {},
   "outputs": [
    {
     "name": "stdout",
     "output_type": "stream",
     "text": [
      "31\n"
     ]
    }
   ],
   "source": [
    "# Пример использования функции sum()\n",
    "print(sum([3, 6, 8, 4], start=10))  # передача списка\n",
    "\n",
    "# print(sum(3, 6, 8))  # так нельзя!"
   ]
  },
  {
   "cell_type": "markdown",
   "id": "37f4ec5d-80ab-435b-9f19-b25057c82a8c",
   "metadata": {},
   "source": [
    "**Пример II.8.** Покажем возможное описание стандартной функции Python `max()`, которая тоже принимает произвольное число аргументов.\n",
    "\n",
    "**Программа к примеру II.8.** "
   ]
  },
  {
   "cell_type": "code",
   "execution_count": 13,
   "id": "f68c09d8-7bab-482c-8951-b2cf78e91168",
   "metadata": {},
   "outputs": [
    {
     "name": "stdout",
     "output_type": "stream",
     "text": [
      "5\n"
     ]
    }
   ],
   "source": [
    "def max(*args):\n",
    "    m = args[0]\n",
    "    for x in args[1:]:\n",
    "        if x > m:\n",
    "            m = x\n",
    "    return m\n",
    "\n",
    "\n",
    "print(max(3, 5, 4))"
   ]
  },
  {
   "cell_type": "markdown",
   "id": "51d7b150-b81c-4c82-878b-3a03ecf47cb4",
   "metadata": {},
   "source": [
    "----\n",
    "# <span style=\"color: blue\"> Подпрограммы. Часть III</span>\n",
    "\n",
    "## <span style=\"color: blue\"> Анонимные функции</span>\n",
    "\n",
    "\n",
    "Анонимные функции (lambda-функции) содержат лишь одно выражение. lambda-функции не требуется инструкция `return`.\n",
    "\n",
    "lambda-функции ведет себя точно так же как обычная функция, но выполняются быстрее.\n",
    "\n",
    "**Примеры использования lambda-функции**"
   ]
  },
  {
   "cell_type": "code",
   "execution_count": 7,
   "id": "e80f38ba-f122-4c3d-91e3-711cd499d9d8",
   "metadata": {},
   "outputs": [
    {
     "name": "stdout",
     "output_type": "stream",
     "text": [
      "x = 3\n",
      "---------------------------\n",
      "15\n",
      "8\n",
      "---------------------------\n",
      "3\n",
      "-1\n",
      "---------------------------\n",
      "(5, -5, 6, -10)\n",
      "(5, 3)\n",
      "---------------------------\n",
      "6\n"
     ]
    }
   ],
   "source": [
    "sc = lambda x: print('x =', x)\n",
    "sc(3)              # x = 3\n",
    "\n",
    "print(27 * '-')\n",
    "sum2 = lambda x, y=10: x + y\n",
    "print(sum2(5))     # 15\n",
    "print(sum2(5, 3))  # 8\n",
    "\n",
    "print(27 * '-')\n",
    "# тернарное выражение - да, условный оператор - нет!\n",
    "if_ = lambda x: 3 if x > 0 else -1\n",
    "print(if_(10))     # 3\n",
    "print(if_(-10))    # -1\n",
    "\n",
    "print(27 * '-')\n",
    "argsN = lambda *args: args\n",
    "print(argsN(5, -5, 6, -10))  # (5, -5, 6, -10)\n",
    "print(argsN(5, 3))           # (5, 3)\n",
    "\n",
    "print(27 * '-')\n",
    "aStar = lambda *, a: a + 2\n",
    "print(aStar(a=4))"
   ]
  },
  {
   "cell_type": "markdown",
   "id": "82b32ee2-1dc4-45d0-88a7-63dfd4560103",
   "metadata": {},
   "source": [
    "----\n",
    "# <span style=\"color: blue\"> Подпрограммы. Часть IV</span>\n",
    "\n",
    "## <span style=\"color: blue\"> IV.1. Документирование функций</span>\n",
    "\n",
    "\n",
    "Справка по любому методу\n",
    "```\n",
    "  имя библиотеки.имя метода.__doc__\n",
    "```\n",
    "\n",
    "**Вызов справки по методу `exp()`**"
   ]
  },
  {
   "cell_type": "code",
   "execution_count": 15,
   "id": "77ce1470-0d06-4305-b488-e72307c7b4fe",
   "metadata": {},
   "outputs": [
    {
     "name": "stdout",
     "output_type": "stream",
     "text": [
      "Return e raised to the power of x.\n",
      "-------------------------------------\n",
      "log(x, [base=math.e])\n",
      "Return the logarithm of x to the given base.\n",
      "\n",
      "If the base is not specified, returns the natural logarithm (base e) of x.\n"
     ]
    }
   ],
   "source": [
    "import math\n",
    "\n",
    "print(math.exp.__doc__)  # результат: описание функции\n",
    "print('-' * 37)\n",
    "print(math.log.__doc__)  # результат: описание функции"
   ]
  },
  {
   "cell_type": "markdown",
   "id": "840a7782-5d86-4226-a117-11307bcc706c",
   "metadata": {},
   "source": [
    "Важно соблюдать одинаковое форматирование при написании документации, как и при написании кода.\n",
    "**PEP 257 --- Docstring Conventions**\n",
    "\n",
    "Основное назначение строк документации --- кратко описать назначение объекта (функции), какие аргументы принимает, и что возвращает."
   ]
  },
  {
   "cell_type": "code",
   "execution_count": 10,
   "id": "e36e7b1d-56bb-431b-8608-f7bcb5c9f935",
   "metadata": {},
   "outputs": [
    {
     "name": "stdout",
     "output_type": "stream",
     "text": [
      "8\n",
      "4\n",
      "\n",
      "    sum2(x, [y=1])\n",
      "    \n",
      "    Return sum of two numbers (x + y), types float\n",
      "    \n",
      "    Keyword argument:\n",
      "    y -- default 1\n",
      "    \n",
      "-----------------------\n",
      "Help on function sum2 in module __main__:\n",
      "\n",
      "sum2(x: float, y: float = 1) -> float\n",
      "    sum2(x, [y=1])\n",
      "\n",
      "    Return sum of two numbers (x + y), types float\n",
      "\n",
      "    Keyword argument:\n",
      "    y -- default 1\n",
      "\n"
     ]
    }
   ],
   "source": [
    "def sum2(x: float, y: float=1) -> float:\n",
    "    '''\n",
    "    sum2(x, [y=1])\n",
    "    \n",
    "    Return sum of two numbers (x + y), types float\n",
    "    \n",
    "    Keyword argument:\n",
    "    y -- default 1\n",
    "    '''\n",
    "    return x + y\n",
    "\n",
    "print(sum2(3, 5))\n",
    "print(sum2(3))\n",
    "\n",
    "print(sum2.__doc__)\n",
    "print(23*'-')\n",
    "help(sum2)"
   ]
  },
  {
   "cell_type": "markdown",
   "id": "0f55add8-837b-4bfd-b829-83e69e081a57",
   "metadata": {},
   "source": [
    "# Начать 21 ноября 2024"
   ]
  },
  {
   "cell_type": "markdown",
   "id": "b27dc96d-f387-44c2-999a-4ef41b331c91",
   "metadata": {},
   "source": [
    "----\n",
    "## <span style=\"color: blue\"> IV.2. Хранение функций в модулях</span>\n",
    "\n",
    "\n",
    "**Файл defFunc.py**\n",
    "\n",
    "```python\n",
    "def sin(x): # Плохое имя! Дано для эксперимента!\n",
    "    '''\n",
    "    sin(x: str) -> str\n",
    "    Описание функции: сделал гадость и доволен\n",
    "    '''\n",
    "    return 'Я Sin, Вы ' + x\n",
    "\n",
    "def cat_(cat_owner: str, cat_name: str=\"Пушок\") -> str:\n",
    "    '''\n",
    "    cat_(cat_owner: str, cat_name: str=\"Пушок\") -> str:\n",
    "    Печать имени владельца и клички котика\n",
    "    '''\n",
    "    print(cat_name + ' - котик. ' +\n",
    "          cat_owner + \" - владелец котика.\")\n",
    "```\n",
    "\n",
    "---\n",
    "\n",
    "**Пример использования функции из модуля**"
   ]
  },
  {
   "cell_type": "code",
   "execution_count": 21,
   "id": "e5888825-b7c0-4310-9ccf-1e5da9785b72",
   "metadata": {},
   "outputs": [
    {
     "name": "stdout",
     "output_type": "stream",
     "text": [
      "Я Sin, Вы Мурзик\n",
      "Пушок - котик. Андрей - владелец котика.\n"
     ]
    }
   ],
   "source": [
    "import defFunc # импорт модуля defFunc\n",
    "\n",
    "print(defFunc.sin('Мурзик'))\n",
    "\n",
    "defFunc.cat_(cat_owner='Андрей')"
   ]
  },
  {
   "cell_type": "markdown",
   "id": "05a01041-2840-4006-b408-8b1f3c1ff3e9",
   "metadata": {},
   "source": [
    "---\n",
    "**Назначение псевдонима для модуля**\n",
    "\n",
    "```python\n",
    "import defFunc as dF\n",
    "\n",
    "print(dF.sin('Мурзик'))  # Я Sin, Вы Мурзик\n",
    "```"
   ]
  },
  {
   "cell_type": "markdown",
   "id": "0c843eec-39fb-4f7b-b7d1-4a73e322917a",
   "metadata": {},
   "source": [
    "----\n",
    "\n",
    "**Импорт конкретных функций из модуля**\n",
    "\n",
    "```python\n",
    "from defFunc import sin, cat_\n",
    "\n",
    "print(sin('Мурзик'))\n",
    "cat_('Андрей', 'Хомячок')\n",
    "```"
   ]
  },
  {
   "cell_type": "markdown",
   "id": "2e91c091-bf50-48a7-bd2c-58f3784deb98",
   "metadata": {},
   "source": [
    "---\n",
    "\n",
    "**Импорт одноименных функций из разных модулей**\n",
    "\n",
    "```python\n",
    "from defFunc import sin as my_sin\n",
    "from math import sin as math_sin\n",
    "\n",
    "print(my_sin('Мурзик')) # Я Sin, Вы Мурзик\n",
    "print(math_sin(3))      # 0.1411200080598672\n",
    "```\n",
    "\n",
    "---"
   ]
  },
  {
   "cell_type": "code",
   "execution_count": 8,
   "id": "959986eb-3ca0-4e56-a712-598a4aee5c89",
   "metadata": {},
   "outputs": [
    {
     "name": "stdout",
     "output_type": "stream",
     "text": [
      "1--> \n",
      "    sin(x: str) -> str\n",
      "    Описание функции: сделал гадость и доволен\n",
      "    \n",
      "Help on function sin in module defFunc:\n",
      "\n",
      "sin(x: str) -> str\n",
      "    sin(x: str) -> str\n",
      "    Описание функции: сделал гадость и доволен\n",
      "\n",
      "2--> \n",
      "    cat_(cat_owner: str, cat_name: str=\"Пушок\") -> None:\n",
      "    Печать имени владельца и клички котика\n",
      "    \n",
      "0--> \n",
      "Файл defFunc.py\n",
      "\n",
      "--------------------------------------\n",
      "Help on module defFunc:\n",
      "\n",
      "NAME\n",
      "    defFunc - Файл defFunc.py\n",
      "\n",
      "FUNCTIONS\n",
      "    cat_(cat_owner: str, cat_name: str = 'Пушок') -> None\n",
      "        cat_(cat_owner: str, cat_name: str=\"Пушок\") -> None:\n",
      "        Печать имени владельца и клички котика\n",
      "\n",
      "    sin(x: str) -> str\n",
      "        sin(x: str) -> str\n",
      "        Описание функции: сделал гадость и доволен\n",
      "\n",
      "FILE\n",
      "    c:\\users\\sourcecource\\_lectures_2023_24_1\\_l_10_20_nov_2023_def_all\\deffunc.py\n",
      "\n",
      "\n"
     ]
    }
   ],
   "source": [
    "import defFunc # импорт модуля defFunc\n",
    "\n",
    "print('1-->', defFunc.sin.__doc__)   \n",
    "help(defFunc.sin)\n",
    "print('2-->', defFunc.cat_.__doc__)  \n",
    "print('0-->', defFunc.__doc__)  \n",
    "print('-'*38)\n",
    "help(defFunc)"
   ]
  },
  {
   "cell_type": "code",
   "execution_count": null,
   "id": "d76695b3-8209-4467-ad30-011ab0c68e51",
   "metadata": {},
   "outputs": [],
   "source": []
  }
 ],
 "metadata": {
  "kernelspec": {
   "display_name": "Python 3 (ipykernel)",
   "language": "python",
   "name": "python3"
  },
  "language_info": {
   "codemirror_mode": {
    "name": "ipython",
    "version": 3
   },
   "file_extension": ".py",
   "mimetype": "text/x-python",
   "name": "python",
   "nbconvert_exporter": "python",
   "pygments_lexer": "ipython3",
   "version": "3.12.7"
  }
 },
 "nbformat": 4,
 "nbformat_minor": 5
}
